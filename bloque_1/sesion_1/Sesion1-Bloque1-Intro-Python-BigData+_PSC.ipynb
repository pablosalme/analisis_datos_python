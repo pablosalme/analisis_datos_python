{
 "cells": [
  {
   "cell_type": "markdown",
   "id": "496631ea",
   "metadata": {},
   "source": [
    "# Módulo 1: Análisis de datos en el ecosistema Python"
   ]
  },
  {
   "cell_type": "markdown",
   "id": "3a14cd3f",
   "metadata": {},
   "source": [
    "### Sesión (1)"
   ]
  },
  {
   "cell_type": "markdown",
   "id": "6acd93e7",
   "metadata": {},
   "source": [
    "**04/09/2023**"
   ]
  },
  {
   "cell_type": "markdown",
   "id": "4c2f5bc3",
   "metadata": {},
   "source": [
    "# Introducción a Python\n",
    "\n",
    "- Los **notebooks** exploran la funcionalidad de Python de forma **interactiva** y funcionan en un **servidor web**, que puede correr en local o en un servidor remoto (por ejemplo un servidor dentro de una arquitectura Big Data). \n",
    " \n",
    "- Desde el _Noviembre de 2020_ existe la alternativa de trabajar con los **Jupyter Notebooks en VS Code** como el IDE desarrollado por Microsoft.  \n",
    "\n",
    "- La gran potencia de los notebooks es que permiten probar cosas de manera sencilla en **varios lenguajes**. Te permiten **documentar y desarrollar al mismo tiempo** ya que se pueden mezclar celdas de código con las de documentación (***Markdown***) como ésta misma celda!\n"
   ]
  },
  {
   "cell_type": "markdown",
   "id": "6a88203e",
   "metadata": {},
   "source": [
    "# Título 1\n",
    "## Título 2\n",
    "### Título 3\n",
    "#### Título 4\n",
    "Proyectos de **Análisis de datos**"
   ]
  },
  {
   "cell_type": "code",
   "execution_count": 3,
   "id": "2559e592",
   "metadata": {},
   "outputs": [
    {
     "name": "stdout",
     "output_type": "stream",
     "text": [
      "Módulo 1: Análisis de datos con Python\n"
     ]
    }
   ],
   "source": [
    "# Una celda de código\n",
    "print (\"Módulo 1: Análisis de datos con Python\")"
   ]
  },
  {
   "cell_type": "markdown",
   "id": "9daa958f",
   "metadata": {},
   "source": [
    "## Notebooks\n",
    "* Si pulsas ***Ctrl+Enter***, se ejecuta la celda seleccionada.\n",
    "* Si pulsas ***Shift+Enter***, se ejecuta la celda seleccionada y se pasa a la siguiente o se crea una nueva celda si es necesario. \n",
    "\n",
    "\n",
    "## Sintaxis básica\n",
    "* Python se puede usar como una **calculadora**.\n",
    "* Los bloques de código se identifican por los espacios al principio de cada línea. Python es un lenguaje sensible a la **indentación** (no se deben empezar las líneas con espacios).\n",
    "* Los comentarios se diferencian con **#**. Todo lo que quede a la derecha del '*hashtag*' es un comentario.\n",
    "* En Python no hace falta poner nada al final de las líneas de código (ni **,** ni **.** ni **;** ni ninguna otra cosa).\n",
    "* En caso de sentencias multilínea se tiene que poner una barra \\\\ al final.\n",
    "  * Salvo cuando hay paréntesis o corchetes no cerrados.\n"
   ]
  },
  {
   "cell_type": "code",
   "execution_count": 4,
   "id": "7adaddf7",
   "metadata": {},
   "outputs": [
    {
     "data": {
      "text/plain": [
       "10"
      ]
     },
     "execution_count": 4,
     "metadata": {},
     "output_type": "execute_result"
    }
   ],
   "source": [
    "2+3+5"
   ]
  },
  {
   "cell_type": "code",
   "execution_count": 5,
   "id": "bedc4c8e",
   "metadata": {},
   "outputs": [
    {
     "data": {
      "text/plain": [
       "5"
      ]
     },
     "execution_count": 5,
     "metadata": {},
     "output_type": "execute_result"
    }
   ],
   "source": [
    "2+3\n",
    "+5"
   ]
  },
  {
   "cell_type": "code",
   "execution_count": 6,
   "id": "7e4242c7",
   "metadata": {},
   "outputs": [
    {
     "data": {
      "text/plain": [
       "10"
      ]
     },
     "execution_count": 6,
     "metadata": {},
     "output_type": "execute_result"
    }
   ],
   "source": [
    "(2+3\n",
    "+5)"
   ]
  },
  {
   "cell_type": "code",
   "execution_count": 7,
   "id": "a5a31f22",
   "metadata": {},
   "outputs": [
    {
     "data": {
      "text/plain": [
       "10"
      ]
     },
     "execution_count": 7,
     "metadata": {},
     "output_type": "execute_result"
    }
   ],
   "source": [
    "2+3+\\\n",
    "5"
   ]
  },
  {
   "cell_type": "code",
   "execution_count": 8,
   "id": "3f2bcfc9",
   "metadata": {},
   "outputs": [
    {
     "name": "stdout",
     "output_type": "stream",
     "text": [
      "Poniendo triples comillas (también '''), se pueden hacer cadenas multilínea.\n",
      "Línea 1\n",
      "Línea 2\n",
      "Línea 3 - Además \n",
      " es un salto de línea (\t es un tabulador, \\ es una única barra)\n"
     ]
    }
   ],
   "source": [
    "print(\"\"\"Poniendo triples comillas (también '''), se pueden hacer cadenas multilínea.\n",
    "Línea 1\n",
    "Línea 2\n",
    "Línea 3 - Además \\n es un salto de línea (\\t es un tabulador, \\\\ es una única barra)\"\"\")"
   ]
  },
  {
   "cell_type": "markdown",
   "id": "4ed8a56a",
   "metadata": {},
   "source": [
    "## Variables en Python \n",
    "En Python una variable es un alias de algo: un objeto, un valor, una clase... \n",
    "* Para asignar algo a una variable se usa el símbolo `=` \n",
    "* El nombre de una variable es sensible a minúsculas o mayúsculas ([case-sensitive](https://es.wikipedia.org/wiki/Sensible_a_may%C3%BAsculas_y_min%C3%BAsculas)).\n",
    "* Se utiliza el \"_\" para separar palabras en el nombre de una variable ([Snake case](https://es.wikipedia.org/wiki/Snake_case)). \n",
    "* Los tipos básicos de variables en Python son:\n",
    "  * `float` (decimales con coma flotante)\n",
    "  * `int` (enteros) \n",
    "  * `str` (cadenas de texto)\n",
    "  * `bool` (booleanos)"
   ]
  },
  {
   "cell_type": "code",
   "execution_count": 9,
   "id": "6515e0c5",
   "metadata": {},
   "outputs": [
    {
     "name": "stdout",
     "output_type": "stream",
     "text": [
      "20\n",
      "30\n"
     ]
    }
   ],
   "source": [
    "x = 20  # todo lo que viene después de '#' es un comentario\n",
    "X = 30\n",
    "print(x)\n",
    "print(X)"
   ]
  },
  {
   "cell_type": "markdown",
   "id": "ef6a4663",
   "metadata": {},
   "source": [
    "Se puede consultar el tipo de una variable mediante la función `type(...)`"
   ]
  },
  {
   "cell_type": "code",
   "execution_count": 10,
   "id": "44ab489e",
   "metadata": {},
   "outputs": [
    {
     "data": {
      "text/plain": [
       "int"
      ]
     },
     "execution_count": 10,
     "metadata": {},
     "output_type": "execute_result"
    }
   ],
   "source": [
    "type(x)"
   ]
  },
  {
   "cell_type": "code",
   "execution_count": 11,
   "id": "2b358162",
   "metadata": {
    "scrolled": true
   },
   "outputs": [
    {
     "name": "stdout",
     "output_type": "stream",
     "text": [
      "20.897\n"
     ]
    },
    {
     "data": {
      "text/plain": [
       "float"
      ]
     },
     "execution_count": 11,
     "metadata": {},
     "output_type": "execute_result"
    }
   ],
   "source": [
    "y = 20.897\n",
    "print(y)\n",
    "type(y)"
   ]
  },
  {
   "cell_type": "code",
   "execution_count": 12,
   "id": "87a4dfb7",
   "metadata": {},
   "outputs": [
    {
     "name": "stdout",
     "output_type": "stream",
     "text": [
      "Esto es un texto\n"
     ]
    },
    {
     "data": {
      "text/plain": [
       "str"
      ]
     },
     "execution_count": 12,
     "metadata": {},
     "output_type": "execute_result"
    }
   ],
   "source": [
    "z = \"Esto es un texto\"\n",
    "print(z)\n",
    "type(z)"
   ]
  },
  {
   "cell_type": "code",
   "execution_count": 13,
   "id": "49a0934d",
   "metadata": {},
   "outputs": [
    {
     "name": "stdout",
     "output_type": "stream",
     "text": [
      "True\n"
     ]
    },
    {
     "data": {
      "text/plain": [
       "bool"
      ]
     },
     "execution_count": 13,
     "metadata": {},
     "output_type": "execute_result"
    }
   ],
   "source": [
    "A = True\n",
    "print(A)\n",
    "type(A)"
   ]
  },
  {
   "cell_type": "markdown",
   "id": "9cc08e03",
   "metadata": {},
   "source": [
    "En Python Falso y verdadero se escriben con la primera letra mayuscula:\n",
    "\n",
    "**`True`**\n",
    "\n",
    "**`False`**"
   ]
  },
  {
   "cell_type": "code",
   "execution_count": 14,
   "id": "5e7f5b06",
   "metadata": {},
   "outputs": [
    {
     "ename": "NameError",
     "evalue": "name 'false' is not defined",
     "output_type": "error",
     "traceback": [
      "\u001b[0;31m---------------------------------------------------------------------------\u001b[0m",
      "\u001b[0;31mNameError\u001b[0m                                 Traceback (most recent call last)",
      "Cell \u001b[0;32mIn[14], line 1\u001b[0m\n\u001b[0;32m----> 1\u001b[0m \u001b[39mtype\u001b[39m(false)\n",
      "\u001b[0;31mNameError\u001b[0m: name 'false' is not defined"
     ]
    }
   ],
   "source": [
    "type(false)"
   ]
  },
  {
   "cell_type": "code",
   "execution_count": 15,
   "id": "4ad3159e",
   "metadata": {},
   "outputs": [
    {
     "ename": "NameError",
     "evalue": "name 'FALSE' is not defined",
     "output_type": "error",
     "traceback": [
      "\u001b[0;31m---------------------------------------------------------------------------\u001b[0m",
      "\u001b[0;31mNameError\u001b[0m                                 Traceback (most recent call last)",
      "Cell \u001b[0;32mIn[15], line 1\u001b[0m\n\u001b[0;32m----> 1\u001b[0m \u001b[39mtype\u001b[39m(FALSE)\n",
      "\u001b[0;31mNameError\u001b[0m: name 'FALSE' is not defined"
     ]
    }
   ],
   "source": [
    "type(FALSE)"
   ]
  },
  {
   "cell_type": "code",
   "execution_count": 16,
   "id": "f788e24d",
   "metadata": {},
   "outputs": [
    {
     "data": {
      "text/plain": [
       "bool"
      ]
     },
     "execution_count": 16,
     "metadata": {},
     "output_type": "execute_result"
    }
   ],
   "source": [
    "type(False)"
   ]
  },
  {
   "cell_type": "markdown",
   "id": "b6708f74",
   "metadata": {},
   "source": [
    "En Python tenemos la posibilidad de realizar una asignación múltiple:"
   ]
  },
  {
   "cell_type": "code",
   "execution_count": 17,
   "id": "96005e6a",
   "metadata": {},
   "outputs": [
    {
     "name": "stdout",
     "output_type": "stream",
     "text": [
      "100 200 300\n",
      "88 88 88\n"
     ]
    }
   ],
   "source": [
    "# Asignar valores distintos a cada una\n",
    "a, b, c = 100,200,300\n",
    "print(a, b, c)\n",
    "\n",
    "# Asignar de golpe un valor a múltiples variables\n",
    "A = B = C = 88\n",
    "print(A, B, C)\n"
   ]
  },
  {
   "cell_type": "markdown",
   "id": "6d0a1b98",
   "metadata": {},
   "source": [
    "### **`Ejercicio 1.1`**\n",
    "\n",
    "1. Abrir el **VS Code**, crear un nuevo *Notebook* y :\n",
    "    - Escribir una celda tipo Markdown\n",
    "    - Escribir una celda de código con cualquier comando ejecutable\n",
    "    - Guardar el notebook como ***Intro_<iniciales_del_alumn@>.ipynb***  \n",
    "2. Abrir el **Spyder**, crear un script de python **\".py\"** de al menos una línea ejecutable y guardarlo como ***Spyder_<iniciales_del_alumn@>.py***\n",
    "3. Abrir una consola de anaconda (**Anaconda Prompt**), ejecutar el comando **conda info** en ella y pegar la respuesta en el notebook creado en el primer paso\n",
    "4. Abrir el **Jupyter**, crear un nuevo notebook y :\n",
    "    - Asignar 4 variables cada una de un tipo diferente\n",
    "    - Imprimir el tipo y el valor de las variables creadas\n",
    "    - Guardar el notebook como ***Jupyter_<iniciales_del_alumn@>.ipynb***\n",
    "5. Instalar la librería **shap** mediante la consola de **Anaconda Prompt**, sacar un recorte de la consola y guardar el pantallazo en una celda del notebook ***Jupyter_<iniciales_del_alumn@>.ipynb***\n"
   ]
  },
  {
   "cell_type": "markdown",
   "id": "88ef3544",
   "metadata": {},
   "source": [
    "---"
   ]
  },
  {
   "cell_type": "markdown",
   "id": "cda88e6a",
   "metadata": {},
   "source": [
    "## Operadores en Python"
   ]
  },
  {
   "cell_type": "markdown",
   "id": "87cb2910",
   "metadata": {},
   "source": [
    "Python cuenta con diferentes **operadores (aritméticos, relacionales, lógicos...)** que funcionan de forma intuitiva:"
   ]
  },
  {
   "cell_type": "code",
   "execution_count": 24,
   "id": "52fbbfcb",
   "metadata": {},
   "outputs": [
    {
     "data": {
      "text/plain": [
       "50"
      ]
     },
     "execution_count": 24,
     "metadata": {},
     "output_type": "execute_result"
    }
   ],
   "source": [
    "8*5 + 10"
   ]
  },
  {
   "cell_type": "code",
   "execution_count": 25,
   "id": "5e97dcd6",
   "metadata": {},
   "outputs": [
    {
     "data": {
      "text/plain": [
       "5.0"
      ]
     },
     "execution_count": 25,
     "metadata": {},
     "output_type": "execute_result"
    }
   ],
   "source": [
    "(2**4 - 6)/2"
   ]
  },
  {
   "cell_type": "code",
   "execution_count": 26,
   "id": "e668c58e",
   "metadata": {},
   "outputs": [
    {
     "data": {
      "text/plain": [
       "True"
      ]
     },
     "execution_count": 26,
     "metadata": {},
     "output_type": "execute_result"
    }
   ],
   "source": [
    "a = 50\n",
    "(True or False) and (a < 100)"
   ]
  },
  {
   "cell_type": "markdown",
   "id": "3707d89b",
   "metadata": {},
   "source": [
    "## Tabla de Operadores:\n",
    "### Operadores aritméticos\n",
    "\n",
    "| Operador | Desc |\n",
    "|:---------|:-----|\n",
    "| a + b    | Suma |\n",
    "| a - b    | Resta |\n",
    "| a / b    | División |\n",
    "| a // b   | División Entera |\n",
    "| a % b    | Modulo / Resto |\n",
    "| a * b    | Multiplicacion |\n",
    "| a ** b   | Exponencial |\n",
    "\n",
    "### Operadores de comparación \n",
    "\n",
    "| Operador | Desc |\n",
    "|:---------|:-----|\n",
    "| a > b    | Mayor |\n",
    "| a < b    | Menor |\n",
    "| a == b    | Igualdad |\n",
    "| a != b   | Desigualdad |\n",
    "| a >= b    | Mayor o Igual |\n",
    "| a <= b    | Menor o Igual |\n",
    "\n",
    "### Operadores lógicos\n",
    "\n",
    "| Operador | Desc |\n",
    "|:---------|:-----|\n",
    "| a and b  | True si a y b son True |\n",
    "| a or b   | True si a o b es True |\n",
    "| not a    | Negación |\n",
    "\n",
    "### Operadores de asignación\n",
    "\n",
    "| Operador | Desc |\n",
    "|:---------|:-----|\n",
    "| =   | Asignación |\n",
    "| +=  | Suma y asignación |\n",
    "| -=  | Resta y asignación|\n",
    "| *=  | Multiplicación y asignación |\n",
    "| /=  | División y asignación |\n",
    "| %=  | Módulo y asignación |\n",
    "| //= | División entera y asignación |\n",
    "| **= | Exponencial y asignación |\n",
    "| \\|=  | Or y asignación |\n",
    "| ^=  | Xor y asignación |"
   ]
  },
  {
   "cell_type": "code",
   "execution_count": 28,
   "id": "925bf37c",
   "metadata": {},
   "outputs": [
    {
     "name": "stdout",
     "output_type": "stream",
     "text": [
      "11.6\n",
      "11\n",
      "3\n"
     ]
    }
   ],
   "source": [
    "# Ejemplo de la devisión exacta, devisión entera y resto (módulo):\n",
    "print(58 / 5)\n",
    "print(58 // 5)\n",
    "print(58 % 5)"
   ]
  },
  {
   "cell_type": "code",
   "execution_count": 29,
   "id": "188f96b6",
   "metadata": {},
   "outputs": [
    {
     "name": "stdout",
     "output_type": "stream",
     "text": [
      "10\n",
      "12\n"
     ]
    }
   ],
   "source": [
    "# Uno de los operadores que se utiliza habitualmente en los bucles es el \"suma y asignación\" \n",
    "x = 10\n",
    "print(x)\n",
    "x = x + 2\n",
    "print(x)"
   ]
  },
  {
   "cell_type": "code",
   "execution_count": 30,
   "id": "08d885aa",
   "metadata": {},
   "outputs": [
    {
     "name": "stdout",
     "output_type": "stream",
     "text": [
      "10\n",
      "12\n"
     ]
    }
   ],
   "source": [
    "x = 10\n",
    "print(x)\n",
    "x += 2\n",
    "print(x)"
   ]
  },
  {
   "cell_type": "markdown",
   "id": "0b6f0299",
   "metadata": {},
   "source": [
    "## Conversión de valores\n",
    "Se pueden utilizar una serie de funciones para convertir el tipo de las variables"
   ]
  },
  {
   "cell_type": "code",
   "execution_count": 31,
   "id": "22f60fc1",
   "metadata": {},
   "outputs": [
    {
     "name": "stdout",
     "output_type": "stream",
     "text": [
      "La variable X es igual a 19.978\n"
     ]
    },
    {
     "data": {
      "text/plain": [
       "str"
      ]
     },
     "execution_count": 31,
     "metadata": {},
     "output_type": "execute_result"
    }
   ],
   "source": [
    "X = \"19.978\"\n",
    "print(\"La variable X es igual a \" + X)\n",
    "type(X)"
   ]
  },
  {
   "cell_type": "code",
   "execution_count": 33,
   "id": "55b717f4",
   "metadata": {},
   "outputs": [
    {
     "ename": "TypeError",
     "evalue": "can only concatenate str (not \"int\") to str",
     "output_type": "error",
     "traceback": [
      "\u001b[1;31m---------------------------------------------------------------------------\u001b[0m",
      "\u001b[1;31mTypeError\u001b[0m                                 Traceback (most recent call last)",
      "\u001b[1;32mc:\\Users\\BigData\\Downloads\\Sesion1-Bloque1-Intro-Python-BigData+.ipynb Celda 39\u001b[0m in \u001b[0;36m<cell line: 1>\u001b[1;34m()\u001b[0m\n\u001b[1;32m----> <a href='vscode-notebook-cell:/c%3A/Users/BigData/Downloads/Sesion1-Bloque1-Intro-Python-BigData%2B.ipynb#X53sZmlsZQ%3D%3D?line=0'>1</a>\u001b[0m \u001b[39m'\u001b[39;49m\u001b[39mX\u001b[39;49m\u001b[39m'\u001b[39;49m \u001b[39m+\u001b[39;49m \u001b[39m1\u001b[39;49m\n",
      "\u001b[1;31mTypeError\u001b[0m: can only concatenate str (not \"int\") to str"
     ]
    }
   ],
   "source": [
    "X + 1"
   ]
  },
  {
   "cell_type": "markdown",
   "id": "51e52b0d",
   "metadata": {},
   "source": [
    "Conversión a `float`"
   ]
  },
  {
   "cell_type": "code",
   "execution_count": 35,
   "id": "ee50ed2e",
   "metadata": {},
   "outputs": [
    {
     "name": "stdout",
     "output_type": "stream",
     "text": [
      "19.978\n"
     ]
    },
    {
     "data": {
      "text/plain": [
       "float"
      ]
     },
     "execution_count": 35,
     "metadata": {},
     "output_type": "execute_result"
    }
   ],
   "source": [
    "X_f = float(X)\n",
    "print(X_f)\n",
    "type(X_f)"
   ]
  },
  {
   "cell_type": "markdown",
   "id": "dd8e43d7",
   "metadata": {},
   "source": [
    "Conversión a `entero`"
   ]
  },
  {
   "cell_type": "code",
   "execution_count": 36,
   "id": "fe094008",
   "metadata": {},
   "outputs": [
    {
     "name": "stdout",
     "output_type": "stream",
     "text": [
      "19\n"
     ]
    },
    {
     "data": {
      "text/plain": [
       "int"
      ]
     },
     "execution_count": 36,
     "metadata": {},
     "output_type": "execute_result"
    }
   ],
   "source": [
    "X_i = int(X_f)\n",
    "print(X_i)\n",
    "type(X_i)"
   ]
  },
  {
   "cell_type": "code",
   "execution_count": 37,
   "id": "24663a80",
   "metadata": {},
   "outputs": [
    {
     "data": {
      "text/plain": [
       "20"
      ]
     },
     "execution_count": 37,
     "metadata": {},
     "output_type": "execute_result"
    }
   ],
   "source": [
    "X_i+1"
   ]
  },
  {
   "cell_type": "markdown",
   "id": "28706aa4",
   "metadata": {},
   "source": [
    "Volver a convertir la variable al tipo `string`"
   ]
  },
  {
   "cell_type": "code",
   "execution_count": 38,
   "id": "2451c40e",
   "metadata": {},
   "outputs": [
    {
     "name": "stdout",
     "output_type": "stream",
     "text": [
      "19\n"
     ]
    },
    {
     "data": {
      "text/plain": [
       "str"
      ]
     },
     "execution_count": 38,
     "metadata": {},
     "output_type": "execute_result"
    }
   ],
   "source": [
    "X_s = str(X_i)\n",
    "print(X_s)\n",
    "type(X_s)"
   ]
  },
  {
   "cell_type": "code",
   "execution_count": 39,
   "id": "707fb75b",
   "metadata": {},
   "outputs": [
    {
     "ename": "TypeError",
     "evalue": "can only concatenate str (not \"int\") to str",
     "output_type": "error",
     "traceback": [
      "\u001b[1;31m---------------------------------------------------------------------------\u001b[0m",
      "\u001b[1;31mTypeError\u001b[0m                                 Traceback (most recent call last)",
      "\u001b[1;32mc:\\Users\\BigData\\Downloads\\Sesion1-Bloque1-Intro-Python-BigData+.ipynb Celda 47\u001b[0m in \u001b[0;36m<cell line: 1>\u001b[1;34m()\u001b[0m\n\u001b[1;32m----> <a href='vscode-notebook-cell:/c%3A/Users/BigData/Downloads/Sesion1-Bloque1-Intro-Python-BigData%2B.ipynb#X64sZmlsZQ%3D%3D?line=0'>1</a>\u001b[0m X_s\u001b[39m+\u001b[39;49m\u001b[39m1\u001b[39;49m\n",
      "\u001b[1;31mTypeError\u001b[0m: can only concatenate str (not \"int\") to str"
     ]
    }
   ],
   "source": [
    "X_s+1"
   ]
  },
  {
   "cell_type": "markdown",
   "id": "f2c1eedc",
   "metadata": {},
   "source": [
    "Conversión a string dentro de la función de __print()__:"
   ]
  },
  {
   "cell_type": "code",
   "execution_count": 40,
   "id": "8efd55bb",
   "metadata": {},
   "outputs": [
    {
     "name": "stdout",
     "output_type": "stream",
     "text": [
      "El número 19 es un número entero\n",
      "El número19es un número entero\n"
     ]
    }
   ],
   "source": [
    "## La función print() escribe todos sus argumentos convertida en cadena y separados por espacio y un salto de línea al final:\n",
    "print('El número',X_i,'es un número entero')\n",
    "\n",
    "## La concatenación de cadenas es la \"suma\". Se hace con el operador \"+\" :\n",
    "print('El número'+str(X_i)+'es un número entero')\n",
    "\n"
   ]
  },
  {
   "cell_type": "markdown",
   "id": "0bc3e279",
   "metadata": {},
   "source": [
    "Calcular el seno del valor entero"
   ]
  },
  {
   "cell_type": "code",
   "execution_count": 41,
   "id": "e372d5e7",
   "metadata": {},
   "outputs": [
    {
     "ename": "NameError",
     "evalue": "name 'sin' is not defined",
     "output_type": "error",
     "traceback": [
      "\u001b[1;31m---------------------------------------------------------------------------\u001b[0m",
      "\u001b[1;31mNameError\u001b[0m                                 Traceback (most recent call last)",
      "\u001b[1;32mc:\\Users\\BigData\\Downloads\\Sesion1-Bloque1-Intro-Python-BigData+.ipynb Celda 51\u001b[0m in \u001b[0;36m<cell line: 1>\u001b[1;34m()\u001b[0m\n\u001b[1;32m----> <a href='vscode-notebook-cell:/c%3A/Users/BigData/Downloads/Sesion1-Bloque1-Intro-Python-BigData%2B.ipynb#Y101sZmlsZQ%3D%3D?line=0'>1</a>\u001b[0m sin(X_i)\n",
      "\u001b[1;31mNameError\u001b[0m: name 'sin' is not defined"
     ]
    }
   ],
   "source": [
    "sin(X_i)"
   ]
  },
  {
   "cell_type": "markdown",
   "id": "22f722c6",
   "metadata": {},
   "source": [
    "## Importar librerías (Python Packages)\n",
    "con el comando **import** podemos cargar e importar las librerías o los paquetes que **se hayan instalado previamente** en nuestro entorno de Python.\n",
    "\n",
    "Por ejemplo aquí importamos el paquete **math** y podemos usar las funciones que están disponibles dentro de esa librería indicando su nombre **'math.'** delante de ellas:"
   ]
  },
  {
   "cell_type": "code",
   "execution_count": 42,
   "id": "d0df3a03",
   "metadata": {},
   "outputs": [
    {
     "ename": "NameError",
     "evalue": "name 'sin' is not defined",
     "output_type": "error",
     "traceback": [
      "\u001b[1;31m---------------------------------------------------------------------------\u001b[0m",
      "\u001b[1;31mNameError\u001b[0m                                 Traceback (most recent call last)",
      "\u001b[1;32mc:\\Users\\BigData\\Downloads\\Sesion1-Bloque1-Intro-Python-BigData+.ipynb Celda 53\u001b[0m in \u001b[0;36m<cell line: 3>\u001b[1;34m()\u001b[0m\n\u001b[0;32m      <a href='vscode-notebook-cell:/c%3A/Users/BigData/Downloads/Sesion1-Bloque1-Intro-Python-BigData%2B.ipynb#Y103sZmlsZQ%3D%3D?line=0'>1</a>\u001b[0m \u001b[39m# Se necesita la librería 'math' para poder hacer una serie de operaciones matemáticas\u001b[39;00m\n\u001b[0;32m      <a href='vscode-notebook-cell:/c%3A/Users/BigData/Downloads/Sesion1-Bloque1-Intro-Python-BigData%2B.ipynb#Y103sZmlsZQ%3D%3D?line=1'>2</a>\u001b[0m a \u001b[39m=\u001b[39m \u001b[39m12\u001b[39m\n\u001b[1;32m----> <a href='vscode-notebook-cell:/c%3A/Users/BigData/Downloads/Sesion1-Bloque1-Intro-Python-BigData%2B.ipynb#Y103sZmlsZQ%3D%3D?line=2'>3</a>\u001b[0m sin(a)\n",
      "\u001b[1;31mNameError\u001b[0m: name 'sin' is not defined"
     ]
    }
   ],
   "source": [
    "# Se necesita la librería 'math' para poder hacer una serie de operaciones matemáticas\n",
    "a = 12\n",
    "sin(a)"
   ]
  },
  {
   "cell_type": "code",
   "execution_count": 43,
   "id": "dee3c3ab",
   "metadata": {},
   "outputs": [],
   "source": [
    "import math"
   ]
  },
  {
   "cell_type": "code",
   "execution_count": 44,
   "id": "82295cc4",
   "metadata": {},
   "outputs": [
    {
     "data": {
      "text/plain": [
       "-0.5365729180004349"
      ]
     },
     "execution_count": 44,
     "metadata": {},
     "output_type": "execute_result"
    }
   ],
   "source": [
    "math.sin(a)"
   ]
  },
  {
   "cell_type": "markdown",
   "id": "af822376",
   "metadata": {},
   "source": [
    "Todavía es necesario indicar el nombre de la librería como un objeto importado anteriormente"
   ]
  },
  {
   "cell_type": "code",
   "execution_count": 47,
   "id": "c27f65ff",
   "metadata": {},
   "outputs": [
    {
     "ename": "NameError",
     "evalue": "name 'sin' is not defined",
     "output_type": "error",
     "traceback": [
      "\u001b[1;31m---------------------------------------------------------------------------\u001b[0m",
      "\u001b[1;31mNameError\u001b[0m                                 Traceback (most recent call last)",
      "\u001b[1;32mc:\\Users\\BigData\\Downloads\\Sesion1-Bloque1-Intro-Python-BigData+.ipynb Celda 57\u001b[0m in \u001b[0;36m<cell line: 1>\u001b[1;34m()\u001b[0m\n\u001b[1;32m----> <a href='vscode-notebook-cell:/c%3A/Users/BigData/Downloads/Sesion1-Bloque1-Intro-Python-BigData%2B.ipynb#Y110sZmlsZQ%3D%3D?line=0'>1</a>\u001b[0m sin(a)\n",
      "\u001b[1;31mNameError\u001b[0m: name 'sin' is not defined"
     ]
    }
   ],
   "source": [
    "\n",
    "sin(a)"
   ]
  },
  {
   "cell_type": "markdown",
   "id": "a65e5103",
   "metadata": {},
   "source": [
    "Para no tener que indicar el nombre del paquete se pueden importar las fucnciones necesarias de **forma explícita**\n"
   ]
  },
  {
   "cell_type": "code",
   "execution_count": 49,
   "id": "0cdd2fee",
   "metadata": {},
   "outputs": [],
   "source": [
    "from math import sin,pi"
   ]
  },
  {
   "cell_type": "code",
   "execution_count": 50,
   "id": "fb3cacbb",
   "metadata": {},
   "outputs": [
    {
     "data": {
      "text/plain": [
       "1.0"
      ]
     },
     "execution_count": 50,
     "metadata": {},
     "output_type": "execute_result"
    }
   ],
   "source": [
    "sin(pi/2)"
   ]
  },
  {
   "cell_type": "code",
   "execution_count": 51,
   "id": "aaa03d89",
   "metadata": {},
   "outputs": [
    {
     "ename": "NameError",
     "evalue": "name 'cos' is not defined",
     "output_type": "error",
     "traceback": [
      "\u001b[1;31m---------------------------------------------------------------------------\u001b[0m",
      "\u001b[1;31mNameError\u001b[0m                                 Traceback (most recent call last)",
      "\u001b[1;32mc:\\Users\\BigData\\Downloads\\Sesion1-Bloque1-Intro-Python-BigData+.ipynb Celda 61\u001b[0m in \u001b[0;36m<cell line: 1>\u001b[1;34m()\u001b[0m\n\u001b[1;32m----> <a href='vscode-notebook-cell:/c%3A/Users/BigData/Downloads/Sesion1-Bloque1-Intro-Python-BigData%2B.ipynb#Y114sZmlsZQ%3D%3D?line=0'>1</a>\u001b[0m cos(pi\u001b[39m/\u001b[39m\u001b[39m4\u001b[39m)\n",
      "\u001b[1;31mNameError\u001b[0m: name 'cos' is not defined"
     ]
    }
   ],
   "source": [
    "cos(pi/4)"
   ]
  },
  {
   "cell_type": "markdown",
   "id": "3b9750e5",
   "metadata": {},
   "source": [
    "Una práctica muy común consiste en importar las librerías que necesitamos bajo apodos o acrónimos concretos que les podemos asignar"
   ]
  },
  {
   "cell_type": "code",
   "execution_count": 52,
   "id": "93cafe9c",
   "metadata": {},
   "outputs": [],
   "source": [
    "import math as mates"
   ]
  },
  {
   "cell_type": "code",
   "execution_count": 53,
   "id": "0d24f511",
   "metadata": {},
   "outputs": [
    {
     "data": {
      "text/plain": [
       "0.7071067811865476"
      ]
     },
     "execution_count": 53,
     "metadata": {},
     "output_type": "execute_result"
    }
   ],
   "source": [
    "mates.cos(pi/4)"
   ]
  },
  {
   "cell_type": "markdown",
   "id": "b5049750",
   "metadata": {},
   "source": [
    "Para no tener que poner el nombre del paquete delante de las funciones, se pueden importar todas las funciones disponibles en ese paquete de la siguiente manera (aunque no es un enfoque recomendado):"
   ]
  },
  {
   "cell_type": "code",
   "execution_count": 54,
   "id": "2e55533a",
   "metadata": {},
   "outputs": [],
   "source": [
    "from math import *"
   ]
  },
  {
   "cell_type": "code",
   "execution_count": 55,
   "id": "e5ff53b9",
   "metadata": {},
   "outputs": [
    {
     "data": {
      "text/plain": [
       "1.0"
      ]
     },
     "execution_count": 55,
     "metadata": {},
     "output_type": "execute_result"
    }
   ],
   "source": [
    "cos(0)"
   ]
  },
  {
   "cell_type": "markdown",
   "id": "aa14c516",
   "metadata": {},
   "source": [
    "## Otras operaciones numéricas\n",
    "* **round( )** redondea la entrada con tantos decimales como se le pidan\n",
    "* **floor( )** y **ceil( )** redondean por abajo o por arriba, siempre sin decimales\n",
    "* **abs( )** da el valor absoluto"
   ]
  },
  {
   "cell_type": "code",
   "execution_count": 56,
   "id": "01e90141",
   "metadata": {},
   "outputs": [
    {
     "name": "stdout",
     "output_type": "stream",
     "text": [
      "El número b = -20.84278\n",
      "\n",
      " la salida de round = -21\n",
      "\n",
      " la salida de round con tres decimales = -20.843\n",
      "\n",
      " la salida de floor = -21\n",
      "\n",
      " la salida de ceil = -20\n",
      "\n",
      " la salida de abs = 20.84278\n"
     ]
    }
   ],
   "source": [
    "b = -20.84278\n",
    "print(\"El número b =\",b)\n",
    "print(\"\\n la salida de round =\",round(b))\n",
    "print(\"\\n la salida de round con tres decimales =\",round(b,3))\n",
    "print(\"\\n la salida de floor =\",floor(b))\n",
    "print(\"\\n la salida de ceil =\",ceil(b))\n",
    "print(\"\\n la salida de abs =\",abs(b))"
   ]
  },
  {
   "cell_type": "markdown",
   "id": "14ee70c8",
   "metadata": {},
   "source": [
    "---"
   ]
  },
  {
   "cell_type": "markdown",
   "id": "7df23212",
   "metadata": {},
   "source": [
    "### **`Ejercicio 1.2`**"
   ]
  },
  {
   "cell_type": "code",
   "execution_count": 1,
   "id": "ee37a9eb",
   "metadata": {},
   "outputs": [],
   "source": [
    "var_1 = \"Módulo 1 de Python\""
   ]
  },
  {
   "cell_type": "markdown",
   "id": "24ff3b75",
   "metadata": {},
   "source": [
    "**`1.2.1`** Convierte la variable `var_1` en un texto con todas las letras en **mayúsculas**.  \n",
    "\n",
    "**`1.2.2`** Convierte la variable `var_1` en un texto con todas las letras en en **minúsculas**.  \n",
    "\n",
    "**`1.2.3`** Consulta el tamaño o la **longitud** de la variable `var_1` y calcula la división de ese numero entre _**7**_ redondeado a _**4**_ decimales.  "
   ]
  },
  {
   "cell_type": "code",
   "execution_count": 2,
   "id": "47b05c1f",
   "metadata": {},
   "outputs": [
    {
     "data": {
      "text/plain": [
       "'MÓDULO 1 DE PYTHON'"
      ]
     },
     "execution_count": 2,
     "metadata": {},
     "output_type": "execute_result"
    }
   ],
   "source": [
    "## Solución 1.2.1\n",
    "var_1.upper()"
   ]
  },
  {
   "cell_type": "code",
   "execution_count": 3,
   "id": "3745ed20",
   "metadata": {},
   "outputs": [
    {
     "data": {
      "text/plain": [
       "'módulo 1 de python'"
      ]
     },
     "execution_count": 3,
     "metadata": {},
     "output_type": "execute_result"
    }
   ],
   "source": [
    "## Solución 1.2.2\n",
    "var_1.lower()"
   ]
  },
  {
   "cell_type": "code",
   "execution_count": 15,
   "id": "660fefc9",
   "metadata": {},
   "outputs": [
    {
     "data": {
      "text/plain": [
       "2.5714"
      ]
     },
     "execution_count": 15,
     "metadata": {},
     "output_type": "execute_result"
    }
   ],
   "source": [
    "## Solución 1.2.3\n",
    "longitud = len(var_1)\n",
    "solucion = round((longitud / 7),4)\n",
    "solucion"
   ]
  },
  {
   "cell_type": "markdown",
   "id": "75a1c5ec",
   "metadata": {},
   "source": [
    "**`1.2.4`** Añade parántesis a la siguiente operación para que el resultado final sea igual a cero (__0__).\n",
    "\n",
    "**`1.2.5`** Añade parántesis a la siguiente operación para que el resultado final sea igual a cero (__14__)."
   ]
  },
  {
   "cell_type": "code",
   "execution_count": 14,
   "id": "6f0fc519",
   "metadata": {},
   "outputs": [
    {
     "data": {
      "text/plain": [
       "4"
      ]
     },
     "execution_count": 14,
     "metadata": {},
     "output_type": "execute_result"
    }
   ],
   "source": [
    "# una operación con el resultado igual a 4\n",
    "12 - 4 * 2 - 2 + 2"
   ]
  },
  {
   "cell_type": "code",
   "execution_count": 16,
   "id": "ed94e34c",
   "metadata": {},
   "outputs": [
    {
     "data": {
      "text/plain": [
       "0"
      ]
     },
     "execution_count": 16,
     "metadata": {},
     "output_type": "execute_result"
    }
   ],
   "source": [
    "## Solución 1.2.4\n",
    "12 - 4 * 2 - (2 + 2)"
   ]
  },
  {
   "cell_type": "code",
   "execution_count": 17,
   "id": "8347f38f",
   "metadata": {},
   "outputs": [
    {
     "data": {
      "text/plain": [
       "14"
      ]
     },
     "execution_count": 17,
     "metadata": {},
     "output_type": "execute_result"
    }
   ],
   "source": [
    "## Solución 1.2.5\n",
    "12 - 4 * (2 - 2) + 2"
   ]
  },
  {
   "cell_type": "markdown",
   "id": "2d38b03f",
   "metadata": {},
   "source": [
    "#### **`Punto extra:`**  \n",
    "\n",
    "**`1.2.6`** Pide al usuario que introduzca su edad, y que después se imprima en la pantalla si es meyor de edad o no.\n"
   ]
  },
  {
   "cell_type": "code",
   "execution_count": 22,
   "id": "23a13555",
   "metadata": {},
   "outputs": [
    {
     "name": "stdout",
     "output_type": "stream",
     "text": [
      "Dime tu edad: \n",
      "123\n",
      "Eres mayor de edad\n"
     ]
    }
   ],
   "source": [
    "## Solución 1.2.6\n",
    "edad = int(input(\"Dime tu edad: \\n\"))\n",
    "if edad < 18:\n",
    "    print(\"Eres menor de edad\")\n",
    "else:\n",
    "    print(\"Eres mayor de edad\")\n",
    "    "
   ]
  },
  {
   "cell_type": "code",
   "execution_count": null,
   "id": "94f55958",
   "metadata": {},
   "outputs": [],
   "source": []
  }
 ],
 "metadata": {
  "kernelspec": {
   "display_name": "Python 3 (ipykernel)",
   "language": "python",
   "name": "python3"
  },
  "language_info": {
   "codemirror_mode": {
    "name": "ipython",
    "version": 3
   },
   "file_extension": ".py",
   "mimetype": "text/x-python",
   "name": "python",
   "nbconvert_exporter": "python",
   "pygments_lexer": "ipython3",
   "version": "3.11.4"
  },
  "vscode": {
   "interpreter": {
    "hash": "ad2bdc8ecc057115af97d19610ffacc2b4e99fae6737bb82f5d7fb13d2f2c186"
   }
  }
 },
 "nbformat": 4,
 "nbformat_minor": 5
}
