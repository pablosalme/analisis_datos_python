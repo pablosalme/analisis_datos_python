{
 "cells": [
  {
   "cell_type": "markdown",
   "metadata": {},
   "source": [
    "### **`Ejercicio 1.1`**\n",
    "\n",
    "1. Abrir el **VS Code**, crear un nuevo *Notebook* y :\n",
    "    - Escribir una celda tipo Markdown\n",
    "    - Escribir una celda de código con cualquier comando ejecutable\n",
    "    - Guardar el notebook como ***Intro_<iniciales_del_alumn@>.ipynb***  "
   ]
  },
  {
   "cell_type": "markdown",
   "metadata": {},
   "source": [
    "### **Esto** ***es*** **una** ***celda*** **tipo** ***Markdown***"
   ]
  },
  {
   "cell_type": "code",
   "execution_count": 1,
   "metadata": {},
   "outputs": [
    {
     "name": "stdout",
     "output_type": "stream",
     "text": [
      "Hola ¿qué tal?, soy Pablo\n"
     ]
    }
   ],
   "source": [
    "x, y = \"Hola ¿qué tal?, soy \", \"Pablo\"\n",
    "\n",
    "print(x + y)"
   ]
  },
  {
   "cell_type": "markdown",
   "metadata": {},
   "source": [
    "3. Abrir una consola de anaconda (**Anaconda Prompt**), ejecutar el comando **conda info** en ella y pegar la respuesta en el notebook creado en el primer paso\n",
    "\n",
    "(base)  pablo@MacBook-Pro-de-Pablo  ~  conda info\n",
    "\n",
    "     active environment : base\n",
    "    active env location : /Users/pablo/anaconda3\n",
    "            shell level : 1\n",
    "       user config file : /Users/pablo/.condarc\n",
    "      populated config files : /Users/pablo/.condarc\n",
    "          conda version : 23.7.2\n",
    "    conda-build version : 3.26.0\n",
    "         python version : 3.11.4.final.0\n",
    "       virtual packages : __archspec=1=arm64\n",
    "                          __osx=13.5.1=0\n",
    "                          __unix=0=0\n",
    "       base environment : /Users/pablo/anaconda3  (writable)\n",
    "      conda av data dir : /Users/pablo/anaconda3/etc/conda\n",
    "    conda av metadata url : None\n",
    "           channel URLs : https://repo.anaconda.com/pkgs/main/osx-arm64\n",
    "                          https://repo.anaconda.com/pkgs/main/noarch\n",
    "                          https://repo.anaconda.com/pkgs/r/osx-arm64\n",
    "                          https://repo.anaconda.com/pkgs/r/noarch\n",
    "          package cache : /Users/pablo/anaconda3/pkgs\n",
    "                          /Users/pablo/.conda/pkgs\n",
    "       envs directories : /Users/pablo/anaconda3/envs\n",
    "                          /Users/pablo/.conda/envs\n",
    "               platform : osx-arm64\n",
    "             user-agent : conda/23.7.2 requests/2.31.0 CPython/3.11.4 Darwin/22.6.0 OSX/13.5.1\n",
    "                UID:GID : 501:20\n",
    "             netrc file : None\n",
    "           offline mode : False"
   ]
  },
  {
   "cell_type": "markdown",
   "metadata": {},
   "source": []
  }
 ],
 "metadata": {
  "kernelspec": {
   "display_name": "Python 3",
   "language": "python",
   "name": "python3"
  },
  "language_info": {
   "codemirror_mode": {
    "name": "ipython",
    "version": 3
   },
   "file_extension": ".py",
   "mimetype": "text/x-python",
   "name": "python",
   "nbconvert_exporter": "python",
   "pygments_lexer": "ipython3",
   "version": "3.9.6"
  },
  "orig_nbformat": 4
 },
 "nbformat": 4,
 "nbformat_minor": 2
}
