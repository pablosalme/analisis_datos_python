{
 "cells": [
  {
   "cell_type": "code",
   "execution_count": 16,
   "metadata": {},
   "outputs": [],
   "source": [
    "\"\"\"Ejercicio 2.1.1 Define una lista que contenga al menos 4 elementos de todos los tipos de valores permitidos en Python\"\"\"\n",
    "lista = [\"hola\", 1, 10.5, True]"
   ]
  },
  {
   "cell_type": "code",
   "execution_count": 27,
   "metadata": {},
   "outputs": [
    {
     "data": {
      "text/plain": [
       "[True, 1]"
      ]
     },
     "execution_count": 27,
     "metadata": {},
     "output_type": "execute_result"
    }
   ],
   "source": [
    "\"\"\"2.1.2 Selecciona cada dos elementos (uno si otro no) desde el final de la lista\"\"\"\n",
    "lista[::-2]"
   ]
  },
  {
   "cell_type": "code",
   "execution_count": 28,
   "metadata": {},
   "outputs": [
    {
     "name": "stdout",
     "output_type": "stream",
     "text": [
      "[True, 1, 10.5, 'hola']\n"
     ]
    }
   ],
   "source": [
    "\"\"\"2.1.3 Cambia solamente la posicion del primer elemento con el ultimo elemento de la lista\"\"\"\n",
    "frst_elmnt = lista[0]\n",
    "lst_elmnt = lista[-1]\n",
    "\n",
    "lista[-1] = frst_elmnt\n",
    "lista[0] = lst_elmnt\n",
    "\n",
    "print(lista)"
   ]
  },
  {
   "cell_type": "code",
   "execution_count": 30,
   "metadata": {},
   "outputs": [
    {
     "name": "stdout",
     "output_type": "stream",
     "text": [
      "20\n"
     ]
    }
   ],
   "source": [
    "\"\"\"2.2.1 Saca e imprime la edad de \"Daniela\" utilizando los datos del diccionario declarado en el siguiente ejemplo\"\"\"\n",
    "dic_ejemplo = {'Alumnos': [\"Carlos\",\"Ana\",\"Daniela\",\"Martín\"],\n",
    "               'Curso': \"Big Data\",\n",
    "               'Edad': ('22', '21', '20', '22'),\n",
    "               'Presencial': True\n",
    "               }\n",
    "\n",
    "indice_daniela = dic_ejemplo['Alumnos'].index(\"Daniela\")\n",
    "\n",
    "print(dic_ejemplo['Edad'][indice_daniela])"
   ]
  },
  {
   "cell_type": "code",
   "execution_count": 33,
   "metadata": {},
   "outputs": [],
   "source": [
    "\"\"\"2.2.2 Consulta si \"Centro\" se encuentra entre las claves existentes en el diccionario o no\"\"\"\n",
    "\n",
    "if \"Centro\" in dic_ejemplo:\n",
    "    print(\"SI ESTÁ\")\n"
   ]
  },
  {
   "cell_type": "code",
   "execution_count": 36,
   "metadata": {},
   "outputs": [
    {
     "name": "stdout",
     "output_type": "stream",
     "text": [
      "{'22', '20', '21'}\n",
      "3\n"
     ]
    }
   ],
   "source": [
    "\"\"\"2.2.3 Construye un set a partir de las edades de todos los alumnos y muestra el tamaño de esa coleccion\"\"\"\n",
    "\n",
    "set_edad = set(dic_ejemplo['Edad'])\n",
    "\n",
    "print(set_edad)\n",
    "print(len(set_edad))"
   ]
  },
  {
   "cell_type": "code",
   "execution_count": 38,
   "metadata": {},
   "outputs": [
    {
     "name": "stdout",
     "output_type": "stream",
     "text": [
      "50\n",
      "80\n"
     ]
    }
   ],
   "source": [
    "\"\"\"2.3.1 Recorre el lista del ejemplo y realiza las siguientes operaciones: [18,50,210,80,145,333,70,30]\n",
    "    -Imprimir el número en caso de que sea mñúltiplo de 10 y menor que 200\n",
    "    -Parar el programa si llega a un numero mayor que 300\"\"\"\n",
    "\n",
    "lista_ejemplo = [18,50,210,80,145,333,70,30]\n",
    "\n",
    "for num in lista_ejemplo:\n",
    "    if num > 300:\n",
    "        break\n",
    "    elif num%10 == 0 and num < 200:\n",
    "        print(num)"
   ]
  },
  {
   "cell_type": "code",
   "execution_count": 41,
   "metadata": {},
   "outputs": [
    {
     "name": "stdout",
     "output_type": "stream",
     "text": [
      "False\n",
      "50\n",
      "22.22\n",
      "True\n",
      "99\n",
      "Anaconda\n"
     ]
    }
   ],
   "source": [
    "\"\"\"2.3.2 Considerando el contenido del listado list_2_3 escribe un programa para imprimir el siguiente patrón:\n",
    "\n",
    "False\n",
    "50\n",
    "22.22\n",
    "True\n",
    "99\n",
    "Anaconda\"\"\"\n",
    "list_2_3 = [\"Anaconda\", 99, True, 22.22, 50, False]\n",
    "list_2_3.reverse()\n",
    "for x in list_2_3:\n",
    "    print(x)"
   ]
  },
  {
   "cell_type": "code",
   "execution_count": 43,
   "metadata": {},
   "outputs": [
    {
     "name": "stdout",
     "output_type": "stream",
     "text": [
      "19\n"
     ]
    }
   ],
   "source": [
    "\"\"\"2.4.1 Escribe una funcion que devuelva el numero total de caracteres en un listado de cadenas de texto y aplicala sobre el ejemplo:\n",
    "    -Entrada a la funcion [\"PEP 8\", \"PEP 248\",\"PEP 257\"]\n",
    "    -La salida esperada: 19\"\"\"\n",
    "\n",
    "def total_caracteres(lista):\n",
    "    total = 0\n",
    "    for x in lista:\n",
    "        total += len(x)\n",
    "    \n",
    "    return total\n",
    "\n",
    "lista_ej = [\"PEP 8\", \"PEP 248\",\"PEP 257\"]\n",
    "print(total_caracteres(lista_ej))"
   ]
  },
  {
   "cell_type": "code",
   "execution_count": 44,
   "metadata": {},
   "outputs": [
    {
     "data": {
      "text/plain": [
       "6576"
      ]
     },
     "execution_count": 44,
     "metadata": {},
     "output_type": "execute_result"
    }
   ],
   "source": [
    "\"\"\"2.4.2 Escribe una función lambda que sea capaz de recibir cuatro variables y retornar el valor máximo y aplícala sobre este ejemplo:\n",
    "    -Entrada a la funcion: 143, 22, 6576, 111\n",
    "    -La salida esperada: 6576\"\"\"\n",
    "\n",
    "maximo = lambda x,y,z,d: max(x,y,z,d)\n",
    "maximo(143,22,6576,111)"
   ]
  },
  {
   "cell_type": "code",
   "execution_count": null,
   "metadata": {},
   "outputs": [],
   "source": []
  }
 ],
 "metadata": {
  "kernelspec": {
   "display_name": "Python 3",
   "language": "python",
   "name": "python3"
  },
  "language_info": {
   "codemirror_mode": {
    "name": "ipython",
    "version": 3
   },
   "file_extension": ".py",
   "mimetype": "text/x-python",
   "name": "python",
   "nbconvert_exporter": "python",
   "pygments_lexer": "ipython3",
   "version": "3.11.5"
  },
  "orig_nbformat": 4
 },
 "nbformat": 4,
 "nbformat_minor": 2
}
