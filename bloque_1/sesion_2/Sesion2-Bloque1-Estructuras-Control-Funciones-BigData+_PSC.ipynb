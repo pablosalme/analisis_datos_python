{
 "cells": [
  {
   "cell_type": "markdown",
   "id": "496631ea",
   "metadata": {},
   "source": [
    "# Módulo 1: Análisis de datos en el ecosistema Python"
   ]
  },
  {
   "cell_type": "markdown",
   "id": "3a14cd3f",
   "metadata": {},
   "source": [
    "### Sesión (2)"
   ]
  },
  {
   "cell_type": "markdown",
   "id": "6acd93e7",
   "metadata": {},
   "source": [
    "**11/09/2023**"
   ]
  },
  {
   "cell_type": "markdown",
   "id": "8cbfd7f7",
   "metadata": {},
   "source": [
    "# Estructuras de datos"
   ]
  },
  {
   "cell_type": "markdown",
   "id": "510c63b5",
   "metadata": {},
   "source": [
    "## Programación Orientada a Objetos (OOP)\n",
    "\n",
    "Un **objeto** es una estructura de datos compleja y flexible, que permite almacenar información y la menera de tratar con dicha información.\n",
    "\n",
    "Los objetos se definen a partir de un _template_ o una plantilla que se denomina **clase**. Un objeto pertenece a una clase cuando se haya creado/instanciado a partir de ella.\n",
    "\n",
    "En esa clase se pueden definir características que pertenecerán al objeto, llamadas **propiedades o atributos** y funciones que se utilizarán para trabajar con él, llamadas **métodos**. Los métodos suelen usarse para asignar o cambiar el valor de los atributos, retornar valores..., en general para cualquier cosa que pueda hacer una función con una serie de variables o atributos.\n",
    "\n",
    "Dos objetos creados o instanciados de la misma clase tendrán los mismos atributos, pero los valores no tienen por que ser los mismos. Si tengo dos objetos por ejemplo _Persona1_ y _Persona2_, que los dos son creados de la misma clase (_Personas_), tendrán los mismos atributos, como pueden ser _peso_ y _altura_, pero no tienen que tener los mimos valores para peso y altura. \n",
    "\n",
    "Para instanciar un objeto de una clase, solo hay que asignarlo, pasándole los valores necesarios si no queremos optar por valores por defecto. Una vez instanciado un objeto, para acceder a sus atributos y métodos podemos escribir:\n",
    " - **nombre_objeto.atributo**\n",
    " - **nombre_objeto.metodo()**\n"
   ]
  },
  {
   "cell_type": "markdown",
   "id": "5e70a3bf",
   "metadata": {},
   "source": [
    "Los **datos en Python** se pueden representar en diferentes formatos, las estructuras de datos más importantes son:\n",
    "\n",
    "* __listas__,\n",
    "* __diccionarios__,\n",
    "* __tuplas__,\n",
    "* __sets__..."
   ]
  },
  {
   "cell_type": "markdown",
   "id": "d538a092",
   "metadata": {},
   "source": [
    "## Listas (arrays o vectores)\n",
    "Las listas son la estructura más habitual en Python que representan **conjuntos ordenados de elementos** (números, cadenas, listas, etc). Los elementos se asignan a una variable entre  corchetes (`[ ]`) y se separan por comas (`,`)."
   ]
  },
  {
   "cell_type": "code",
   "execution_count": 80,
   "id": "50b8ab7e",
   "metadata": {},
   "outputs": [],
   "source": [
    "x = []"
   ]
  },
  {
   "cell_type": "code",
   "execution_count": 81,
   "id": "b0009dde",
   "metadata": {},
   "outputs": [
    {
     "name": "stdout",
     "output_type": "stream",
     "text": [
      "[]\n"
     ]
    },
    {
     "data": {
      "text/plain": [
       "list"
      ]
     },
     "execution_count": 81,
     "metadata": {},
     "output_type": "execute_result"
    }
   ],
   "source": [
    "print(x)\n",
    "type(x)"
   ]
  },
  {
   "cell_type": "markdown",
   "id": "34ece357",
   "metadata": {},
   "source": [
    "Se pueden especificar elementos directamente con la estructura de un listado"
   ]
  },
  {
   "cell_type": "code",
   "execution_count": 82,
   "id": "8bc5241b",
   "metadata": {},
   "outputs": [],
   "source": [
    "x = ['Informática', 'Big Data']"
   ]
  },
  {
   "cell_type": "markdown",
   "id": "b30cc20e",
   "metadata": {},
   "source": [
    "### Indexado"
   ]
  },
  {
   "cell_type": "markdown",
   "id": "fb95483f",
   "metadata": {},
   "source": [
    "* En python los **índices empiezan desde cero [0]**. \n",
    "* Se puede acceder a los elementos de muchos tipos de estructuras (listas, tuplas, cadenas) con los **corchetes ([ ])**"
   ]
  },
  {
   "cell_type": "code",
   "execution_count": 83,
   "id": "ef8d1b6e",
   "metadata": {},
   "outputs": [
    {
     "data": {
      "text/plain": [
       "'Informática'"
      ]
     },
     "execution_count": 83,
     "metadata": {},
     "output_type": "execute_result"
    }
   ],
   "source": [
    "x[0]"
   ]
  },
  {
   "cell_type": "code",
   "execution_count": 84,
   "id": "abeb048f",
   "metadata": {},
   "outputs": [
    {
     "data": {
      "text/plain": [
       "'Big Data'"
      ]
     },
     "execution_count": 84,
     "metadata": {},
     "output_type": "execute_result"
    }
   ],
   "source": [
    "x[1]"
   ]
  },
  {
   "cell_type": "markdown",
   "id": "81012083",
   "metadata": {},
   "source": [
    "Se pueden usar **índices negativos** que de forma intuitiva **cambian el sentido** y obviamente no empiezan desde cero!!"
   ]
  },
  {
   "cell_type": "code",
   "execution_count": 85,
   "id": "31b1af37",
   "metadata": {},
   "outputs": [
    {
     "data": {
      "text/plain": [
       "'Big Data'"
      ]
     },
     "execution_count": 85,
     "metadata": {},
     "output_type": "execute_result"
    }
   ],
   "source": [
    "x[-1]"
   ]
  },
  {
   "cell_type": "code",
   "execution_count": 86,
   "id": "17459a6e",
   "metadata": {},
   "outputs": [
    {
     "data": {
      "text/plain": [
       "'Informática'"
      ]
     },
     "execution_count": 86,
     "metadata": {},
     "output_type": "execute_result"
    }
   ],
   "source": [
    "x[-2]"
   ]
  },
  {
   "cell_type": "markdown",
   "id": "4d8d3e5f",
   "metadata": {},
   "source": [
    "Y también se usan los **rangos** que tienen el último índice **no inclusive**:"
   ]
  },
  {
   "cell_type": "code",
   "execution_count": 55,
   "id": "3db04e16",
   "metadata": {},
   "outputs": [
    {
     "data": {
      "text/plain": [
       "['Informática', 'Big Data']"
      ]
     },
     "execution_count": 55,
     "metadata": {},
     "output_type": "execute_result"
    }
   ],
   "source": [
    "x[0:2]"
   ]
  },
  {
   "cell_type": "markdown",
   "id": "d84822b4",
   "metadata": {},
   "source": [
    "Las listas no tienen por qué ser homogéneas, con lo cual pueden **contener varios tipos** de datos:"
   ]
  },
  {
   "cell_type": "code",
   "execution_count": 56,
   "id": "e2c3aa83",
   "metadata": {},
   "outputs": [],
   "source": [
    "a = [10, 20.000, \"Empresas\", True, x]"
   ]
  },
  {
   "cell_type": "code",
   "execution_count": 57,
   "id": "349ad783",
   "metadata": {},
   "outputs": [
    {
     "name": "stdout",
     "output_type": "stream",
     "text": [
      "[10, 20.0, 'Empresas', True, ['Informática', 'Big Data']]\n"
     ]
    },
    {
     "data": {
      "text/plain": [
       "list"
      ]
     },
     "execution_count": 57,
     "metadata": {},
     "output_type": "execute_result"
    }
   ],
   "source": [
    "print(a)\n",
    "type(a)"
   ]
  },
  {
   "cell_type": "code",
   "execution_count": 58,
   "id": "3f1ee27c",
   "metadata": {},
   "outputs": [
    {
     "name": "stdout",
     "output_type": "stream",
     "text": [
      "<class 'int'>\n",
      "<class 'float'>\n",
      "<class 'str'>\n",
      "<class 'bool'>\n",
      "<class 'list'>\n"
     ]
    }
   ],
   "source": [
    "print(type(a[0]))\n",
    "print(type(a[1]))\n",
    "print(type(a[2]))\n",
    "print(type(a[3]))\n",
    "print(type(a[4]))"
   ]
  },
  {
   "cell_type": "markdown",
   "id": "841b0bf5",
   "metadata": {},
   "source": [
    "### List Slicing (seleccionar trozos)\n",
    "Como ya se ha visto antes, se puede acceder a los elementos de una lista por índice, además de poder seleccionar en general una parte del listado de esta manera:\n",
    "\n",
    "* `lista[inicio:final:paso]`\n",
    "  * **inicio inclusive**. Si no se indica nada se considera como el primer elemento (0)\n",
    "  * **final no inclusive**. Si no se indica nada se seleccionan todos los elemento hasta el último elemento existente en la lista\n"
   ]
  },
  {
   "cell_type": "code",
   "execution_count": 59,
   "id": "67e7123d",
   "metadata": {},
   "outputs": [],
   "source": [
    "lista_1 = [10,20,30,40,50,60,70,80,90,100]"
   ]
  },
  {
   "cell_type": "code",
   "execution_count": 60,
   "id": "fccc3a55",
   "metadata": {},
   "outputs": [
    {
     "data": {
      "text/plain": [
       "[20, 30, 40, 50]"
      ]
     },
     "execution_count": 60,
     "metadata": {},
     "output_type": "execute_result"
    }
   ],
   "source": [
    "lista_1[1:5]"
   ]
  },
  {
   "cell_type": "code",
   "execution_count": 61,
   "id": "72f9525b",
   "metadata": {},
   "outputs": [
    {
     "data": {
      "text/plain": [
       "[10, 20, 30, 40, 50, 60, 70]"
      ]
     },
     "execution_count": 61,
     "metadata": {},
     "output_type": "execute_result"
    }
   ],
   "source": [
    "lista_1[:7]  # Empieza desde el principio"
   ]
  },
  {
   "cell_type": "code",
   "execution_count": 62,
   "id": "d74fbd18",
   "metadata": {},
   "outputs": [
    {
     "data": {
      "text/plain": [
       "[40, 50, 60, 70, 80, 90, 100]"
      ]
     },
     "execution_count": 62,
     "metadata": {},
     "output_type": "execute_result"
    }
   ],
   "source": [
    "lista_1[3:]  # Sigue hasta el final"
   ]
  },
  {
   "cell_type": "code",
   "execution_count": 63,
   "id": "b2b74378",
   "metadata": {},
   "outputs": [
    {
     "data": {
      "text/plain": [
       "[10, 40, 70, 100]"
      ]
     },
     "execution_count": 63,
     "metadata": {},
     "output_type": "execute_result"
    }
   ],
   "source": [
    "lista_1[::3] # Desde el principio hasta el final seleccionando cada 3 elementos"
   ]
  },
  {
   "cell_type": "markdown",
   "id": "82fd5875",
   "metadata": {},
   "source": [
    "### Funciones (métodos) para las listas"
   ]
  },
  {
   "cell_type": "markdown",
   "id": "4565c9f3",
   "metadata": {},
   "source": [
    "**len()** calcula la longitud o mejor dicho **el tamaño o el número de los elementos** que contiene una lista"
   ]
  },
  {
   "cell_type": "code",
   "execution_count": 64,
   "id": "2c573976",
   "metadata": {},
   "outputs": [
    {
     "data": {
      "text/plain": [
       "10"
      ]
     },
     "execution_count": 64,
     "metadata": {},
     "output_type": "execute_result"
    }
   ],
   "source": [
    "len(lista_1)"
   ]
  },
  {
   "cell_type": "markdown",
   "id": "7f6874f4",
   "metadata": {},
   "source": [
    "**min( )**, **max( )** calculan el mínimo y el máximo y la **sum()** da la suma total de todos los elementos"
   ]
  },
  {
   "cell_type": "code",
   "execution_count": 65,
   "id": "e372d680",
   "metadata": {},
   "outputs": [
    {
     "name": "stdout",
     "output_type": "stream",
     "text": [
      "min= 10  max= 100  suma_total= 550\n"
     ]
    }
   ],
   "source": [
    "print(\"min=\",min(lista_1),\" max=\",max(lista_1),\" suma_total=\",sum(lista_1))"
   ]
  },
  {
   "cell_type": "markdown",
   "id": "49ac9351",
   "metadata": {},
   "source": [
    "Se pueden **juntar** las listas de varias formas:\n",
    "* Crear una lista a partir de otras:   **c = [a, b]**\n",
    "* Crear una lista juntando solamente los elementos de cada una:   **c = a + b**"
   ]
  },
  {
   "cell_type": "code",
   "execution_count": 66,
   "id": "4cebf2f4",
   "metadata": {},
   "outputs": [
    {
     "name": "stdout",
     "output_type": "stream",
     "text": [
      "c1= [[10, 20, 30], [40, 50, 60]]  num_elementos= 2\n",
      "c2= [10, 20, 30, 40, 50, 60]  num_elementos= 6\n"
     ]
    }
   ],
   "source": [
    "a = [10,20,30]\n",
    "b = [40,50,60]\n",
    "c1 = [a, b]\n",
    "c2 = a + b\n",
    "print(\"c1=\",c1,\" num_elementos=\",len(c1))\n",
    "print(\"c2=\",c2,\" num_elementos=\",len(c2))"
   ]
  },
  {
   "cell_type": "code",
   "execution_count": 67,
   "id": "2e25e904",
   "metadata": {},
   "outputs": [
    {
     "data": {
      "text/plain": [
       "[10, 20, 30]"
      ]
     },
     "execution_count": 67,
     "metadata": {},
     "output_type": "execute_result"
    }
   ],
   "source": [
    "c1[0] # primer elemento de la lista"
   ]
  },
  {
   "cell_type": "code",
   "execution_count": 68,
   "id": "b8821bdd",
   "metadata": {},
   "outputs": [
    {
     "data": {
      "text/plain": [
       "10"
      ]
     },
     "execution_count": 68,
     "metadata": {},
     "output_type": "execute_result"
    }
   ],
   "source": [
    "c2[0] # primer elemento de la lista"
   ]
  },
  {
   "cell_type": "markdown",
   "id": "5278f1cc",
   "metadata": {},
   "source": [
    "Se puede seguir seleccionando elementos dentro de otros elementos añadiendo corchetes:"
   ]
  },
  {
   "cell_type": "code",
   "execution_count": 69,
   "id": "29a8a898",
   "metadata": {},
   "outputs": [
    {
     "data": {
      "text/plain": [
       "30"
      ]
     },
     "execution_count": 69,
     "metadata": {},
     "output_type": "execute_result"
    }
   ],
   "source": [
    "c1[0][-1] # último elemento del primer elemento de la lista"
   ]
  },
  {
   "cell_type": "markdown",
   "id": "31cf36ac",
   "metadata": {},
   "source": [
    "Podemos **buscar** elementos en listas usando el operador `in` en vez de hacer un bucle (que los veremos más adelante):"
   ]
  },
  {
   "cell_type": "code",
   "execution_count": 70,
   "id": "47f364f6",
   "metadata": {},
   "outputs": [
    {
     "data": {
      "text/plain": [
       "True"
      ]
     },
     "execution_count": 70,
     "metadata": {},
     "output_type": "execute_result"
    }
   ],
   "source": [
    "40 in c2"
   ]
  },
  {
   "cell_type": "code",
   "execution_count": 71,
   "id": "99deb67b",
   "metadata": {},
   "outputs": [],
   "source": [
    "L = [10, 20, 'Empresas', True, ['Informática', 'Big Data']]"
   ]
  },
  {
   "cell_type": "code",
   "execution_count": 72,
   "id": "185e8e9c",
   "metadata": {},
   "outputs": [
    {
     "data": {
      "text/plain": [
       "True"
      ]
     },
     "execution_count": 72,
     "metadata": {},
     "output_type": "execute_result"
    }
   ],
   "source": [
    "\"Empresas\" in L"
   ]
  },
  {
   "cell_type": "code",
   "execution_count": 73,
   "id": "6cac6aae",
   "metadata": {},
   "outputs": [
    {
     "data": {
      "text/plain": [
       "False"
      ]
     },
     "execution_count": 73,
     "metadata": {},
     "output_type": "execute_result"
    }
   ],
   "source": [
    "\"empresas\" in L"
   ]
  },
  {
   "cell_type": "markdown",
   "id": "fe5a9983",
   "metadata": {},
   "source": [
    "**append( )** añade un único elemento al final de una lista:"
   ]
  },
  {
   "cell_type": "code",
   "execution_count": 74,
   "id": "8017aead",
   "metadata": {},
   "outputs": [
    {
     "name": "stdout",
     "output_type": "stream",
     "text": [
      "[10, 20, 'Empresas', True, ['Informática', 'Big Data'], 30]\n"
     ]
    }
   ],
   "source": [
    "L = [10, 20, 'Empresas', True, ['Informática', 'Big Data']]\n",
    "L.append(30) # se añade un \"30\" al final de la lista\n",
    "print(L)"
   ]
  },
  {
   "cell_type": "markdown",
   "id": "ba183521",
   "metadata": {},
   "source": [
    "Añadir una lista a una lista con append, crearía una sublista. Si no es lo que se quiere, se puede usar **extend( )** "
   ]
  },
  {
   "cell_type": "code",
   "execution_count": 75,
   "id": "e3550033",
   "metadata": {},
   "outputs": [
    {
     "name": "stdout",
     "output_type": "stream",
     "text": [
      "[10, 20, 'Empresas', True, ['Informática', 'Big Data'], [20, 30, 40]]\n"
     ]
    }
   ],
   "source": [
    "L = [10, 20, 'Empresas', True, ['Informática', 'Big Data']]\n",
    "x = [20,30,40]\n",
    "L.append(x)\n",
    "print(L)"
   ]
  },
  {
   "cell_type": "code",
   "execution_count": 76,
   "id": "9b1847b8",
   "metadata": {},
   "outputs": [
    {
     "name": "stdout",
     "output_type": "stream",
     "text": [
      "[10, 20, 'Empresas', True, ['Informática', 'Big Data'], 20, 30, 40]\n"
     ]
    }
   ],
   "source": [
    "L = [10, 20, 'Empresas', True, ['Informática', 'Big Data']]\n",
    "x = [20,30,40]\n",
    "L.extend(x)\n",
    "print(L)"
   ]
  },
  {
   "cell_type": "markdown",
   "id": "6345d07c",
   "metadata": {},
   "source": [
    "**count( x )** cuenta las veces que aparece elemento x en una lista. Si no aparece no da error y devuelve cero (_0_)"
   ]
  },
  {
   "cell_type": "code",
   "execution_count": 77,
   "id": "4297de92",
   "metadata": {},
   "outputs": [
    {
     "name": "stdout",
     "output_type": "stream",
     "text": [
      "0\n",
      "1\n",
      "2\n"
     ]
    }
   ],
   "source": [
    "print(L.count(5))\n",
    "print(L.count(True))\n",
    "print(L.count(20))"
   ]
  },
  {
   "cell_type": "markdown",
   "id": "01b9e78b",
   "metadata": {},
   "source": [
    "**index( x )** devuelve la posición de la primera vez que aparece x\n",
    "- si aparece varias veces, se devuelve el primero\n",
    "- si no aparece ninguna, da un error"
   ]
  },
  {
   "cell_type": "code",
   "execution_count": 78,
   "id": "419ca3f9",
   "metadata": {},
   "outputs": [
    {
     "name": "stdout",
     "output_type": "stream",
     "text": [
      "7\n",
      "1\n"
     ]
    }
   ],
   "source": [
    "print(L.index(40))\n",
    "print(L.index(20))"
   ]
  },
  {
   "cell_type": "code",
   "execution_count": 79,
   "id": "99619ce1",
   "metadata": {},
   "outputs": [
    {
     "ename": "ValueError",
     "evalue": "14 is not in list",
     "output_type": "error",
     "traceback": [
      "\u001b[0;31m---------------------------------------------------------------------------\u001b[0m",
      "\u001b[0;31mValueError\u001b[0m                                Traceback (most recent call last)",
      "\u001b[1;32m/Users/pablo/BD/analisis_datos_python/sesion_2/Sesion2-Bloque1-Estructuras-Control-Funciones-BigData+.ipynb Celda 56\u001b[0m line \u001b[0;36m1\n\u001b[0;32m----> <a href='vscode-notebook-cell:/Users/pablo/BD/analisis_datos_python/sesion_2/Sesion2-Bloque1-Estructuras-Control-Funciones-BigData%2B.ipynb#Y106sZmlsZQ%3D%3D?line=0'>1</a>\u001b[0m L\u001b[39m.\u001b[39;49mindex(\u001b[39m14\u001b[39;49m)\n",
      "\u001b[0;31mValueError\u001b[0m: 14 is not in list"
     ]
    }
   ],
   "source": [
    "L.index(14)"
   ]
  },
  {
   "cell_type": "markdown",
   "id": "3ddc0b16",
   "metadata": {},
   "source": [
    "Hemos visto que **append( )** añade un elemento al final de la lista\n",
    "\n",
    "- **insert(x,y)** añade en la posición **x** el elemento **y** "
   ]
  },
  {
   "cell_type": "code",
   "execution_count": null,
   "id": "bde9d364",
   "metadata": {},
   "outputs": [
    {
     "name": "stdout",
     "output_type": "stream",
     "text": [
      "antes:  [10, 20, 'Empresas', True, ['Informática', 'Big Data'], 20, 30, 40]\n",
      "después:  [10, 20, 'Procesos', 'Empresas', True, ['Informática', 'Big Data'], 20, 30, 40]\n"
     ]
    }
   ],
   "source": [
    "print(\"antes: \",L)\n",
    "L.insert(2, 'Procesos')\n",
    "print(\"después: \",L)"
   ]
  },
  {
   "cell_type": "markdown",
   "id": "de275c6b",
   "metadata": {},
   "source": [
    "**insert()** inserta un nuevo elemento pero no reemplaza. Para **reemplazar** en las listas como **no son inmutables**, simplemente se asigna un nuevo valor al índice correspondiente."
   ]
  },
  {
   "cell_type": "code",
   "execution_count": null,
   "id": "85e92969",
   "metadata": {},
   "outputs": [
    {
     "name": "stdout",
     "output_type": "stream",
     "text": [
      "[10, 20, 'Procesos', 'Empresas', True, ['Informática', 'Big Data'], 20, 30, 40]\n",
      "[88, 20, 'Comercios', 'Empresas', True, ['Informática', 'Big Data'], 20, 30, 40]\n"
     ]
    }
   ],
   "source": [
    "print(L)\n",
    "L[0] = 88\n",
    "L[2] = 'Comercios'\n",
    "print(L)"
   ]
  },
  {
   "cell_type": "markdown",
   "id": "8d8da023",
   "metadata": {},
   "source": [
    "Para quitar un elemento o una parte de una lista se usa **del** indicando los índices. Si no se borrara toda la lista"
   ]
  },
  {
   "cell_type": "code",
   "execution_count": null,
   "id": "62460bd5",
   "metadata": {},
   "outputs": [
    {
     "ename": "NameError",
     "evalue": "name 'L' is not defined",
     "output_type": "error",
     "traceback": [
      "\u001b[0;31m---------------------------------------------------------------------------\u001b[0m",
      "\u001b[0;31mNameError\u001b[0m                                 Traceback (most recent call last)",
      "\u001b[1;32m/Users/pablo/BD/analisis_datos_python/sesion_2/Sesion2-Bloque1-Estructuras-Control-Funciones-BigData+.ipynb Celda 62\u001b[0m line \u001b[0;36m2\n\u001b[1;32m      <a href='vscode-notebook-cell:/Users/pablo/BD/analisis_datos_python/sesion_2/Sesion2-Bloque1-Estructuras-Control-Funciones-BigData%2B.ipynb#Y115sZmlsZQ%3D%3D?line=0'>1</a>\u001b[0m \u001b[39mdel\u001b[39;00m L\n\u001b[0;32m----> <a href='vscode-notebook-cell:/Users/pablo/BD/analisis_datos_python/sesion_2/Sesion2-Bloque1-Estructuras-Control-Funciones-BigData%2B.ipynb#Y115sZmlsZQ%3D%3D?line=1'>2</a>\u001b[0m \u001b[39mprint\u001b[39m(L)\n",
      "\u001b[0;31mNameError\u001b[0m: name 'L' is not defined"
     ]
    }
   ],
   "source": [
    "del L\n",
    "print(L)"
   ]
  },
  {
   "cell_type": "code",
   "execution_count": null,
   "id": "669c16a9",
   "metadata": {},
   "outputs": [
    {
     "name": "stdout",
     "output_type": "stream",
     "text": [
      "[True, ['Informática', 'Big Data'], 20, 30, 40]\n"
     ]
    }
   ],
   "source": [
    "L = [88, 20, 'Comercios', 'Empresas', True, ['Informática', 'Big Data'], 20, 30, 40]\n",
    "del L[0:4]\n",
    "print(L)"
   ]
  },
  {
   "cell_type": "code",
   "execution_count": null,
   "id": "572afc93",
   "metadata": {},
   "outputs": [
    {
     "name": "stdout",
     "output_type": "stream",
     "text": [
      "[True, 20, 30, 40]\n"
     ]
    }
   ],
   "source": [
    "del L[1]\n",
    "print(L)"
   ]
  },
  {
   "cell_type": "markdown",
   "id": "c72bcddd",
   "metadata": {},
   "source": [
    "Para ordenar una lista, se usa el método **sort()** sobre una lista o la función **sorted()** :\n",
    "- **sort** modifica directamente la propia lista\n",
    "- **sorted** devuelve una copia ordenada, sin modificar la lista original"
   ]
  },
  {
   "cell_type": "code",
   "execution_count": null,
   "id": "fa46c725",
   "metadata": {},
   "outputs": [
    {
     "name": "stdout",
     "output_type": "stream",
     "text": [
      "[1, 2, 3, 4, 5, 7]\n"
     ]
    }
   ],
   "source": [
    "lista = [1, 3, 5, 7, 2, 4]\n",
    "lista.sort()\n",
    "print(lista)"
   ]
  },
  {
   "cell_type": "code",
   "execution_count": null,
   "id": "cd671aab",
   "metadata": {},
   "outputs": [
    {
     "name": "stdout",
     "output_type": "stream",
     "text": [
      "[1, 3, 5, 7, 2, 4] [1, 2, 3, 4, 5, 7]\n"
     ]
    }
   ],
   "source": [
    "lista = [1, 3, 5, 7, 2, 4]\n",
    "ordenada = sorted(lista)\n",
    "print(lista, ordenada)"
   ]
  },
  {
   "cell_type": "markdown",
   "id": "4047d08a",
   "metadata": {},
   "source": [
    "Se puede ordenar la lista en el sentido contrario indicando el parámetro `reverse` como True (por defecto está igual a _False_):"
   ]
  },
  {
   "cell_type": "code",
   "execution_count": null,
   "id": "ddfc8905",
   "metadata": {},
   "outputs": [
    {
     "name": "stdout",
     "output_type": "stream",
     "text": [
      "[7, 5, 4, 3, 2, 1]\n"
     ]
    }
   ],
   "source": [
    "lista = [1, 3, 5, 7, 2, 4]\n",
    "lista.sort(reverse=True)\n",
    "print(lista)"
   ]
  },
  {
   "cell_type": "markdown",
   "id": "df1852b9",
   "metadata": {},
   "source": [
    "También, se puede invertir literalmente todos los elementos de una lista llamando directamente al método **reverse()**"
   ]
  },
  {
   "cell_type": "code",
   "execution_count": null,
   "id": "f391c1b0",
   "metadata": {},
   "outputs": [
    {
     "name": "stdout",
     "output_type": "stream",
     "text": [
      "[4, 2, 7, 5, 3, 1]\n"
     ]
    }
   ],
   "source": [
    "lista = [1, 3, 5, 7, 2, 4]\n",
    "lista.reverse()\n",
    "print(lista)"
   ]
  },
  {
   "cell_type": "markdown",
   "id": "fa6ac389",
   "metadata": {},
   "source": [
    "Se puede ordenar una lista por una función para aplicar un criterio específico, por ejemplo por el tamaño (longitud):"
   ]
  },
  {
   "cell_type": "code",
   "execution_count": null,
   "id": "d1c18202",
   "metadata": {},
   "outputs": [
    {
     "name": "stdout",
     "output_type": "stream",
     "text": [
      "lista_ordenada=  ['DE', 'PARA', 'CÁMARA', 'ESPAÑA', 'ALEMANA', 'COMERCIO']\n"
     ]
    }
   ],
   "source": [
    "lst = [\"CÁMARA\", \"DE\", \"COMERCIO\", \"ALEMANA\", \"PARA\", \"ESPAÑA\"]\n",
    "lst.sort(key=len)\n",
    "print(\"lista_ordenada= \",lst)"
   ]
  },
  {
   "cell_type": "markdown",
   "id": "1dbf2292",
   "metadata": {},
   "source": [
    "### **`Ejercicio 2.1`**\n",
    "\n",
    "**`2.1.1`** Define una lista que contenga al menos 4 elementos de todos los tipos de valores permitidos en Python.  \n",
    "**`2.1.2`** Selecciona cada dos elementos (uno si otro no) desde el final de la lista.  \n",
    "**`2.1.3`** Cambia solamente la posición del primer elemento con el último elemento de la lista."
   ]
  },
  {
   "cell_type": "code",
   "execution_count": null,
   "id": "a4071181",
   "metadata": {},
   "outputs": [],
   "source": [
    "## Solución\n",
    "# Ejercicio 2.1.1\n",
    "lista = [\"hola\", 10, 20.20, False]"
   ]
  },
  {
   "cell_type": "code",
   "execution_count": null,
   "id": "7042ff9b",
   "metadata": {},
   "outputs": [
    {
     "data": {
      "text/plain": [
       "[False, 10]"
      ]
     },
     "execution_count": 44,
     "metadata": {},
     "output_type": "execute_result"
    }
   ],
   "source": [
    "## Solución\n",
    "# Ejercicio 2.1.2\n",
    "lista[::-2]"
   ]
  },
  {
   "cell_type": "code",
   "execution_count": null,
   "id": "11c65878",
   "metadata": {},
   "outputs": [
    {
     "name": "stdout",
     "output_type": "stream",
     "text": [
      "[False, 10, 20.2, 'hola']\n"
     ]
    }
   ],
   "source": [
    "## Solución\n",
    "# Ejercicio 2.1.3\n",
    "primero = lista[0]\n",
    "ultimo = lista[-1]\n",
    "\n",
    "lista[0] = ultimo\n",
    "lista[-1] = primero\n",
    "\n",
    "#lista[0], lista[-1] = lista[-1], lista[0]\n",
    "print(lista)"
   ]
  },
  {
   "cell_type": "markdown",
   "id": "31ae6b1f",
   "metadata": {},
   "source": [
    "## Cadenas (sequencias de caracteres)\n",
    "Ya hemos trabajado con los datos tipo **string**. Simplemente hay que recordar que las cadenas de texto se pueden tratar como cualquier otra colección o secuencia de datos, utilizando los índices para acceder/editar los elementos"
   ]
  },
  {
   "cell_type": "code",
   "execution_count": null,
   "id": "ad53cd35",
   "metadata": {},
   "outputs": [
    {
     "name": "stdout",
     "output_type": "stream",
     "text": [
      "<class 'str'>\n",
      "C\n",
      "o\n",
      "de\n",
      "Superior\n"
     ]
    }
   ],
   "source": [
    "cadena = \"Centro de Estudios Superiores Juan Pablo II\"\n",
    "print(type(cadena))\n",
    "print(cadena[0])\n",
    "print(cadena[-4])\n",
    "print(cadena[7:9])\n",
    "print(cadena[19:27])"
   ]
  },
  {
   "cell_type": "markdown",
   "id": "36a95a14",
   "metadata": {},
   "source": [
    "## Diccionarios"
   ]
  },
  {
   "cell_type": "markdown",
   "id": "f89ff581",
   "metadata": {},
   "source": [
    "Un Diccionario es una estructura de datos que nos permite almacenar **cualquier tipo de valor** como enteros, cadenas, listas... sin considerar el orden e identificando cada elemento por su **clave** sin permitir duplicados.\n",
    "\n",
    "Los diccionarios en Python se parecen mucho a los **JSON** en _JavaScript_. Se pueden definir con `dict()` o directamente con `{clave : valor}`"
   ]
  },
  {
   "cell_type": "code",
   "execution_count": null,
   "id": "80770964",
   "metadata": {},
   "outputs": [
    {
     "name": "stdout",
     "output_type": "stream",
     "text": [
      "<class 'dict'>\n",
      "{'Temp_Entrada': 90, 'Temp_Salida': 100, 'Temp_Aire': 110}\n"
     ]
    }
   ],
   "source": [
    "d = dict() # es lo mismo que d = {}\n",
    "\n",
    "d['Temp_Entrada'] = 90  \n",
    "d['Temp_Salida'] = 100 \n",
    "d['Temp_Aire'] = 110  \n",
    "\n",
    "print(type(d))\n",
    "print(d)"
   ]
  },
  {
   "cell_type": "code",
   "execution_count": null,
   "id": "226ba43d",
   "metadata": {},
   "outputs": [
    {
     "name": "stdout",
     "output_type": "stream",
     "text": [
      "<class 'dict'>\n",
      "{'Temp_Entrada': 95, 'Temp_Salida': 105, 'Temp_Aire': 115}\n"
     ]
    }
   ],
   "source": [
    "# Se puede definir un diccionario de la siguiente forma también:\n",
    "d = {'Temp_Entrada' : 95, \n",
    "    'Temp_Salida' : 105,\n",
    "    'Temp_Aire' : 115}\n",
    "\n",
    "print(type(d))\n",
    "print(d)"
   ]
  },
  {
   "cell_type": "markdown",
   "id": "79ffb390",
   "metadata": {},
   "source": [
    "Se puede acceder a los elementos con el método **get()** o directamente sacar los valores usando **corchetes**:"
   ]
  },
  {
   "cell_type": "code",
   "execution_count": null,
   "id": "cc28d6c0",
   "metadata": {},
   "outputs": [
    {
     "name": "stdout",
     "output_type": "stream",
     "text": [
      "115\n",
      "115\n"
     ]
    }
   ],
   "source": [
    "print(d.get('Temp_Aire'))\n",
    "print(d['Temp_Aire'])"
   ]
  },
  {
   "cell_type": "markdown",
   "id": "5e4c3634",
   "metadata": {},
   "source": [
    "Para editar los valores de una clave se usan también los corchetes"
   ]
  },
  {
   "cell_type": "code",
   "execution_count": null,
   "id": "78fb8123",
   "metadata": {},
   "outputs": [
    {
     "data": {
      "text/plain": [
       "{'Temp_Entrada': 95, 'Temp_Salida': 105, 'Temp_Aire': 88}"
      ]
     },
     "execution_count": 77,
     "metadata": {},
     "output_type": "execute_result"
    }
   ],
   "source": [
    "d['Temp_Aire'] = 88\n",
    "d"
   ]
  },
  {
   "cell_type": "markdown",
   "id": "5bd6bcd8",
   "metadata": {},
   "source": [
    "### Funciones (métodos) para los Diccionarios\n",
    "* **len()** devuelve el número de pares (clave:valor) que contiene el diccionario\n",
    "* **in** busca entre las claves\n",
    "* **keys( )** devuelve las claves\n",
    "* **values( )** devuelve los valores del diccionario\n",
    "* **items( )** devuelve pares (clave, valor) sobre los que podemos iterar\n",
    "* **pop( )** sirve para eliminar una clave\n",
    "* **clear( )** borra el contenido del diccionario"
   ]
  },
  {
   "cell_type": "code",
   "execution_count": null,
   "id": "8b4b3e95",
   "metadata": {},
   "outputs": [
    {
     "data": {
      "text/plain": [
       "3"
      ]
     },
     "execution_count": 78,
     "metadata": {},
     "output_type": "execute_result"
    }
   ],
   "source": [
    "len(d) # Longitud del diccionario"
   ]
  },
  {
   "cell_type": "code",
   "execution_count": null,
   "id": "928f1f53",
   "metadata": {},
   "outputs": [
    {
     "data": {
      "text/plain": [
       "True"
      ]
     },
     "execution_count": 79,
     "metadata": {},
     "output_type": "execute_result"
    }
   ],
   "source": [
    "'Temp_Salida' in d # Comprobar si las claves coinciden con lo que buscamos"
   ]
  },
  {
   "cell_type": "code",
   "execution_count": null,
   "id": "4ac15826",
   "metadata": {},
   "outputs": [
    {
     "data": {
      "text/plain": [
       "dict_keys(['Temp_Entrada', 'Temp_Salida', 'Temp_Aire'])"
      ]
     },
     "execution_count": 80,
     "metadata": {},
     "output_type": "execute_result"
    }
   ],
   "source": [
    "d.keys() # retorna las claves del diccionario"
   ]
  },
  {
   "cell_type": "code",
   "execution_count": null,
   "id": "885393b0",
   "metadata": {},
   "outputs": [
    {
     "data": {
      "text/plain": [
       "dict_values([95, 105, 88])"
      ]
     },
     "execution_count": 81,
     "metadata": {},
     "output_type": "execute_result"
    }
   ],
   "source": [
    "d.values() # retorna los valores del diccionario"
   ]
  },
  {
   "cell_type": "code",
   "execution_count": null,
   "id": "c80fffeb",
   "metadata": {},
   "outputs": [
    {
     "data": {
      "text/plain": [
       "dict_items([('Temp_Entrada', 95), ('Temp_Salida', 105), ('Temp_Aire', 88)])"
      ]
     },
     "execution_count": 82,
     "metadata": {},
     "output_type": "execute_result"
    }
   ],
   "source": [
    "d.items() # retorna todos los pares del diccionario como (clave, valor) en forma de un conjunto iterable"
   ]
  },
  {
   "cell_type": "code",
   "execution_count": null,
   "id": "35328cd8",
   "metadata": {},
   "outputs": [
    {
     "name": "stdout",
     "output_type": "stream",
     "text": [
      "{'Temp_Entrada': 95, 'Temp_Aire': 88}\n"
     ]
    }
   ],
   "source": [
    "d.pop('Temp_Salida') # quita la clave indicada del diccionario\n",
    "print(d)"
   ]
  },
  {
   "cell_type": "code",
   "execution_count": null,
   "id": "4d6a6bba",
   "metadata": {},
   "outputs": [
    {
     "name": "stdout",
     "output_type": "stream",
     "text": [
      "{}\n"
     ]
    },
    {
     "data": {
      "text/plain": [
       "dict"
      ]
     },
     "execution_count": 84,
     "metadata": {},
     "output_type": "execute_result"
    }
   ],
   "source": [
    "d.clear() # borra todos los pares del diccionario y lo deja vacío (sin eliminar el diccionario por completo)\n",
    "print(d)\n",
    "type(d)"
   ]
  },
  {
   "cell_type": "code",
   "execution_count": null,
   "id": "0f3ada31",
   "metadata": {},
   "outputs": [],
   "source": [
    "# Como muchos otros objetos se pueden eliminar completamente usando el comando \"del\"\n",
    "del d"
   ]
  },
  {
   "cell_type": "code",
   "execution_count": null,
   "id": "49563a2c",
   "metadata": {},
   "outputs": [],
   "source": [
    "# Volvemos a declarar el diccionario\n",
    "d = {'Temp_Entrada' : 95, \n",
    "    'Temp_Salida' : 105,\n",
    "    'Temp_Aire' : 115}\n"
   ]
  },
  {
   "cell_type": "code",
   "execution_count": null,
   "id": "77b550f7",
   "metadata": {},
   "outputs": [
    {
     "data": {
      "text/plain": [
       "dict_items([('Temp_Entrada', 95), ('Temp_Salida', 105), ('Temp_Aire', 115)])"
      ]
     },
     "execution_count": 87,
     "metadata": {},
     "output_type": "execute_result"
    }
   ],
   "source": [
    "# Volvemos a consultar los pares de clave-valor del diccionario\n",
    "d.items()"
   ]
  },
  {
   "cell_type": "code",
   "execution_count": null,
   "id": "d904c3ca",
   "metadata": {},
   "outputs": [
    {
     "name": "stdout",
     "output_type": "stream",
     "text": [
      "<class 'tuple'>\n",
      "('Temp_Entrada', 95)\n",
      "<class 'tuple'>\n",
      "('Temp_Salida', 105)\n",
      "<class 'tuple'>\n",
      "('Temp_Aire', 115)\n"
     ]
    }
   ],
   "source": [
    "for i in d.items():\n",
    "    print(type(i))\n",
    "    print(i)\n"
   ]
  },
  {
   "cell_type": "markdown",
   "id": "a1c4950d",
   "metadata": {},
   "source": [
    "## Tuplas\n",
    "\n",
    "Las tuplas se declaran usando los paréntesis `(elemento1, elemnto2,...)`. Una tupla es similar a una lista, pero **NO puede modificarse**. Una vez creada, no se puede añadir, modificar o eliminar elementos. Se utilizan normalmente para asegurarse de que una serie de parámetros no se van a modificar por otros procesos a lo largo del desarrollo.  "
   ]
  },
  {
   "cell_type": "code",
   "execution_count": null,
   "id": "4f926c23",
   "metadata": {},
   "outputs": [
    {
     "data": {
      "text/plain": [
       "tuple"
      ]
     },
     "execution_count": 89,
     "metadata": {},
     "output_type": "execute_result"
    }
   ],
   "source": [
    "tpl = ()\n",
    "type(tpl)"
   ]
  },
  {
   "cell_type": "code",
   "execution_count": null,
   "id": "f68d4c63",
   "metadata": {},
   "outputs": [
    {
     "name": "stdout",
     "output_type": "stream",
     "text": [
      "('Temp_Entrada', 95) <class 'tuple'>\n"
     ]
    }
   ],
   "source": [
    "tupla_1 = ('Temp_Entrada', 95)\n",
    "print(tupla_1, type(tupla_1))"
   ]
  },
  {
   "cell_type": "code",
   "execution_count": null,
   "id": "9ecbddad",
   "metadata": {},
   "outputs": [
    {
     "data": {
      "text/plain": [
       "95"
      ]
     },
     "execution_count": 91,
     "metadata": {},
     "output_type": "execute_result"
    }
   ],
   "source": [
    "tupla_1[1]"
   ]
  },
  {
   "cell_type": "code",
   "execution_count": null,
   "id": "154fd5cb",
   "metadata": {},
   "outputs": [
    {
     "ename": "TypeError",
     "evalue": "'tuple' object does not support item assignment",
     "output_type": "error",
     "traceback": [
      "\u001b[0;31m---------------------------------------------------------------------------\u001b[0m",
      "\u001b[0;31mTypeError\u001b[0m                                 Traceback (most recent call last)",
      "\u001b[1;32m/Users/pablo/BD/analisis_datos_python/sesion_2/Sesion2-Bloque1-Estructuras-Control-Funciones-BigData+.ipynb Celda 104\u001b[0m line \u001b[0;36m1\n\u001b[0;32m----> <a href='vscode-notebook-cell:/Users/pablo/BD/analisis_datos_python/sesion_2/Sesion2-Bloque1-Estructuras-Control-Funciones-BigData%2B.ipynb#Y205sZmlsZQ%3D%3D?line=0'>1</a>\u001b[0m tupla_1[\u001b[39m1\u001b[39;49m] \u001b[39m=\u001b[39m \u001b[39m100\u001b[39m\n",
      "\u001b[0;31mTypeError\u001b[0m: 'tuple' object does not support item assignment"
     ]
    }
   ],
   "source": [
    "tupla_1[1] = 100"
   ]
  },
  {
   "cell_type": "markdown",
   "id": "578e241f",
   "metadata": {},
   "source": [
    "Muchos de los métodos aplicados a las listas son válidos también en case de las tuplas:"
   ]
  },
  {
   "cell_type": "code",
   "execution_count": null,
   "id": "256202dc",
   "metadata": {},
   "outputs": [
    {
     "name": "stdout",
     "output_type": "stream",
     "text": [
      "('Temp_Entrada', 95) \n",
      " 2 \n",
      " <class 'tuple'> \n",
      " 1 \n",
      " 0\n"
     ]
    }
   ],
   "source": [
    "print(tupla_1,\"\\n\",\n",
    "len(tupla_1),\"\\n\",\n",
    "type(tupla_1),\"\\n\",\n",
    "tupla_1.index(95),\"\\n\",\n",
    "tupla_1.count(100))"
   ]
  },
  {
   "cell_type": "markdown",
   "id": "dfae92f7",
   "metadata": {},
   "source": [
    "## Sets\n",
    "\n",
    "Un **set** es una colección **desordenada** sin elementos duplicados. No posee índice ni claves para referirse a sus objetos. Los elementos de un set son **inmodificables**, aunque se puede quitar/añadir elementos a un set.\n",
    "\n",
    "Normalmente se utilizan para ___membership testing___ o identificar y quitar los elementos __duplicados__."
   ]
  },
  {
   "cell_type": "code",
   "execution_count": null,
   "metadata": {},
   "outputs": [
    {
     "name": "stdout",
     "output_type": "stream",
     "text": [
      "{10, 50, 100, 20}\n",
      "{100, 8, 50, 888, 88}\n",
      "Unión\n",
      "{100, 8, 10, 50, 20, 888, 88}\n",
      "Intersección\n",
      "{50, 100}\n",
      "Diferencia\n",
      "{10, 20}\n"
     ]
    }
   ],
   "source": [
    "set1 = {10, 20, 50, 100}\n",
    "set2 = set([100, 50, 8, 88, 888, 100, 100, 100])  # definir un set a partir de una lista con elementos duplicados \n",
    "print(set1)\n",
    "print(set2)\n",
    "\n",
    "# union\n",
    "print(\"Unión\")\n",
    "print(set1 | set2)\n",
    "\n",
    "# intersección\n",
    "print(\"Intersección\")\n",
    "print(set1 & set2)\n",
    "\n",
    "# diferencia\n",
    "print(\"Diferencia\")\n",
    "print(set1 - set2)"
   ]
  },
  {
   "cell_type": "code",
   "execution_count": null,
   "metadata": {},
   "outputs": [
    {
     "name": "stdout",
     "output_type": "stream",
     "text": [
      "False\n",
      "True\n"
     ]
    }
   ],
   "source": [
    "# Membership testing\n",
    "print(888 in set1)\n",
    "print(888 in set2)"
   ]
  },
  {
   "cell_type": "markdown",
   "id": "6be54618",
   "metadata": {},
   "source": [
    "### **`Ejercicio 2.2`**\n",
    "\n",
    "**`2.2.1`** Saca e imprime la edad de \"_Daniela_\" utilizando los datos del diccionario declarado en el siguiente ejemplo.  \n",
    "**`2.2.2`** Consulta si el \"_Centro_\" se encuentra entre las claves existentes en el diccionario o no.   \n",
    "**`2.2.3`** Construye un _set_ a partir de las edades de todos los alumnos y muestra el tamaño de esa colección.  "
   ]
  },
  {
   "cell_type": "code",
   "execution_count": 2,
   "id": "6406954d",
   "metadata": {},
   "outputs": [],
   "source": [
    "## Ejercicio 2.2\n",
    "dic_ejemplo = {'Alumnos': [\"Carlos\", \"Ana\", \"Daniela\", \"Martín\"],\n",
    "'Curso': \"Big Data\",\n",
    "'Edad': ('22', '21', '20', '22'),\n",
    "'Presencial': True\n",
    "}"
   ]
  },
  {
   "cell_type": "code",
   "execution_count": 5,
   "id": "38861c7b",
   "metadata": {},
   "outputs": [
    {
     "name": "stdout",
     "output_type": "stream",
     "text": [
      "20\n"
     ]
    }
   ],
   "source": [
    "## Solución\n",
    "# Ejercicio 2.2.1\n",
    "\"\"\"\n",
    "indice = None\n",
    "\n",
    "for i in range(len(dic_ejemplo['Alumnos'])):\n",
    "    if dic_ejemplo['Alumnos'][i] == \"Daniela\":\n",
    "        indice = i\n",
    "        break\n",
    "\n",
    "edad_daniela = dic_ejemplo['Edad'][indice]\n",
    "print(edad_daniela)\"\"\"\n",
    "\n",
    "indice_daniela = dic_ejemplo[\"Alumnos\"].index(\"Daniela\")\n",
    "print(dic_ejemplo[\"Edad\"][indice_daniela])"
   ]
  },
  {
   "cell_type": "code",
   "execution_count": null,
   "id": "5fd0fd07",
   "metadata": {},
   "outputs": [
    {
     "name": "stdout",
     "output_type": "stream",
     "text": [
      "No está\n"
     ]
    }
   ],
   "source": [
    "## Solución\n",
    "# Ejercicio 2.2.2\n",
    "if \"Centro\" in dic_ejemplo:\n",
    "    print(\"Está\")\n",
    "else:\n",
    "    print(\"No está\")"
   ]
  },
  {
   "cell_type": "code",
   "execution_count": 6,
   "id": "17546036",
   "metadata": {},
   "outputs": [
    {
     "name": "stdout",
     "output_type": "stream",
     "text": [
      "{'20', '21', '22'}\n",
      "3\n"
     ]
    }
   ],
   "source": [
    "## Solución\n",
    "# Ejercicio 2.2.3\n",
    "\"\"\"lista_edades = []\n",
    "\n",
    "for x in dic_ejemplo[\"Edad\"]:\n",
    "    lista_edades.append(x)\n",
    "\n",
    "set_edades = set(lista_edades)\n",
    "print(set_edades)\"\"\"\n",
    "\n",
    "set_edad = set(dic_ejemplo[\"Edad\"])\n",
    "print(set_edad)\n",
    "print(len(set_edad))"
   ]
  },
  {
   "cell_type": "markdown",
   "id": "7f12524d",
   "metadata": {},
   "source": [
    "---"
   ]
  },
  {
   "cell_type": "markdown",
   "id": "092416d9",
   "metadata": {},
   "source": [
    "# 3- Control del flujo de programación\n",
    "El concepto clave para comprender el control de flujo en Python es tener en cuenta que los bloques de código se controlan por la **_indentación_**. No hay ningún carácter especial que marque el inicio o el fin de un bloque; simplemente el número de espacios (o tabuladores) tiene que ser igual al de la línea anterior para que se considere una línea del mismo nivel que el resto de ese bloque."
   ]
  },
  {
   "cell_type": "markdown",
   "id": "2aca7755",
   "metadata": {},
   "source": [
    "## Condicionales\n"
   ]
  },
  {
   "cell_type": "markdown",
   "id": "03ef161f",
   "metadata": {},
   "source": [
    "### If\n",
    "en Python se indica una condición de esta forma:\n",
    "\n",
    "```\n",
    "if condición:\n",
    "    bloque1\n",
    "```"
   ]
  },
  {
   "cell_type": "code",
   "execution_count": null,
   "id": "8bd36c45",
   "metadata": {},
   "outputs": [
    {
     "name": "stdout",
     "output_type": "stream",
     "text": [
      "Es una temperatura mayor que 100\n"
     ]
    }
   ],
   "source": [
    "Temp = 200\n",
    "if Temp > 100:\n",
    "    print(\"Es una temperatura mayor que 100\")"
   ]
  },
  {
   "cell_type": "markdown",
   "id": "637f3821",
   "metadata": {},
   "source": [
    "### If-else\n",
    "en Python para indicar el resto de los casos que no cumplen la condición indicada se usa `else:`\n"
   ]
  },
  {
   "cell_type": "code",
   "execution_count": null,
   "id": "05263e4b",
   "metadata": {},
   "outputs": [
    {
     "name": "stdout",
     "output_type": "stream",
     "text": [
      "Es una temperatura menor o igual a 100\n"
     ]
    }
   ],
   "source": [
    "Temp = 90\n",
    "if Temp > 100:\n",
    "    print(\"Es una temperatura mayor que 100\")\n",
    "else:\n",
    "    print(\"Es una temperatura menor o igual a 100\")\n",
    "    "
   ]
  },
  {
   "cell_type": "markdown",
   "id": "b28ed619",
   "metadata": {},
   "source": [
    "### Else if\n",
    "En Pyhon no existe el _switch_ de Java o el _case when_ de SQL. Se hace con `elif` para indicar el resto de las condiciones:"
   ]
  },
  {
   "cell_type": "markdown",
   "id": "e2643289",
   "metadata": {},
   "source": [
    "```\n",
    "if condición1:  \n",
    "    algoritmo\n",
    "elif condición2:\n",
    "    algoritmo\n",
    "elif condición3:\n",
    "    algoritmo\n",
    "else:\n",
    "    algoritmo\n",
    "```"
   ]
  },
  {
   "cell_type": "code",
   "execution_count": null,
   "id": "37a59058",
   "metadata": {},
   "outputs": [
    {
     "name": "stdout",
     "output_type": "stream",
     "text": [
      "Es una temperatura igual a 100\n"
     ]
    }
   ],
   "source": [
    "Temp = 100\n",
    "if Temp > 100:\n",
    "    print(\"Es una temperatura mayor que 100\")\n",
    "elif Temp == 100:\n",
    "    print(\"Es una temperatura igual a 100\")\n",
    "else:\n",
    "    print(\"Es una temperatura menor que 100\")"
   ]
  },
  {
   "cell_type": "markdown",
   "id": "ca54b599",
   "metadata": {},
   "source": [
    "## Bucles\n",
    "Existen en Python varias formas de iterar el código dentro de un bucle como puede ser:\n",
    "### for"
   ]
  },
  {
   "cell_type": "markdown",
   "id": "ff7985ff",
   "metadata": {},
   "source": [
    "```\n",
    "for variable in algo_para_iterar:\n",
    "    algoritmo\n",
    "```\n",
    "    \n",
    "Cuando se requiere ejecutar un proceso **n** veces puede resultar muy útil la función **range()** :\n",
    "* range(n) =  0, 1, ..., n-1\n",
    "* range(m,n)= m, m+1, ..., n-1\n",
    "* range(m,n,s)= m, m+s, m+2s, ..., m + ((n-m-1)//s) * s"
   ]
  },
  {
   "cell_type": "code",
   "execution_count": null,
   "id": "d51e914b",
   "metadata": {},
   "outputs": [
    {
     "name": "stdout",
     "output_type": "stream",
     "text": [
      "D\n",
      "a\n",
      "t\n",
      "o\n",
      "s\n"
     ]
    }
   ],
   "source": [
    "# Se puede iterar sobre una cadena de texto\n",
    "for char in 'Datos':\n",
    "    print(char)"
   ]
  },
  {
   "cell_type": "code",
   "execution_count": null,
   "id": "ee0cf7dc",
   "metadata": {},
   "outputs": [
    {
     "name": "stdout",
     "output_type": "stream",
     "text": [
      "0\n",
      "1\n",
      "3\n",
      "6\n",
      "10\n",
      "total = 10\n"
     ]
    }
   ],
   "source": [
    "# Iterar sobre un rango (0,1,2,3,4)\n",
    "total = 0\n",
    "for i in range(5):\n",
    "    total = total + i\n",
    "    print(total)\n",
    "print(\"total =\",total)"
   ]
  },
  {
   "cell_type": "code",
   "execution_count": null,
   "id": "fe827474",
   "metadata": {},
   "outputs": [
    {
     "name": "stdout",
     "output_type": "stream",
     "text": [
      "total = 10\n"
     ]
    }
   ],
   "source": [
    "# Lo mismo que anterior usando el += (operador de suma y asignación)\n",
    "total = 0\n",
    "for i in range(5):\n",
    "    total += i\n",
    "print(\"total =\",total)"
   ]
  },
  {
   "cell_type": "code",
   "execution_count": null,
   "id": "2fec6da1",
   "metadata": {},
   "outputs": [
    {
     "name": "stdout",
     "output_type": "stream",
     "text": [
      "88 <class 'int'>\n",
      "20 <class 'int'>\n",
      "Instalaciones <class 'str'>\n",
      "Centrales <class 'str'>\n",
      "True <class 'bool'>\n",
      "['Temperatura', 'Presión'] <class 'list'>\n",
      "20 <class 'int'>\n",
      "30 <class 'int'>\n",
      "40 <class 'int'>\n"
     ]
    }
   ],
   "source": [
    "# Se puede iterar sobre una lista y recorres todos sus elementos\n",
    "lista = [88, 20, 'Instalaciones', 'Centrales', True, ['Temperatura', 'Presión'], 20, 30, 40]\n",
    "\n",
    "for i in lista:\n",
    "    print(i,type(i))"
   ]
  },
  {
   "cell_type": "markdown",
   "id": "88932364",
   "metadata": {},
   "source": [
    "### while\n",
    "Ejecuta algo mientras la condición indicada sea cierta. No existe **_do-while_** o **_do-until_** en Python:\n",
    "```\n",
    "while La_condición:  \n",
    "    algoritmo\n",
    "```"
   ]
  },
  {
   "cell_type": "code",
   "execution_count": null,
   "id": "15377a78",
   "metadata": {},
   "outputs": [
    {
     "name": "stdout",
     "output_type": "stream",
     "text": [
      "potencia_entrada 0\n",
      "potencia_salida 30\n",
      "potencia_entrada 30\n",
      "potencia_salida 60\n",
      "potencia_entrada 60\n",
      "potencia_salida 90\n",
      "potencia_entrada 90\n",
      "potencia_salida 120\n",
      "\n",
      " Potencia_final= 120\n"
     ]
    }
   ],
   "source": [
    "Potencia = 0\n",
    "while Potencia < 100:\n",
    "    print(\"potencia_entrada\",Potencia)\n",
    "    Potencia += 30\n",
    "    print(\"potencia_salida\",Potencia)\n",
    "    \n",
    "print('\\n Potencia_final=',Potencia)"
   ]
  },
  {
   "cell_type": "markdown",
   "id": "07671ffd",
   "metadata": {},
   "source": [
    "### break\n",
    "con **break** se puede salir del bucle, se suele poner si se da una condición de parada"
   ]
  },
  {
   "cell_type": "code",
   "execution_count": null,
   "id": "63cd2bd3",
   "metadata": {},
   "outputs": [
    {
     "name": "stdout",
     "output_type": "stream",
     "text": [
      "potencia_entrada 0\n",
      "potencia_salida 30\n",
      "potencia_entrada 30\n",
      "La potencia es exáctamente igual a 60, sal del bucle por favor!\n",
      "\n",
      " Potencia_final= 60\n"
     ]
    }
   ],
   "source": [
    "# Potencia = 1\n",
    "Potencia = 0\n",
    "while Potencia < 100:\n",
    "    print(\"potencia_entrada\",Potencia)\n",
    "    Potencia += 30\n",
    "    \n",
    "    if Potencia==60:\n",
    "        print(\"La potencia es exáctamente igual a 60, sal del bucle por favor!\")\n",
    "        break\n",
    "        \n",
    "    print(\"potencia_salida\",Potencia)\n",
    "\n",
    "    \n",
    "print('\\n Potencia_final=',Potencia)"
   ]
  },
  {
   "cell_type": "markdown",
   "id": "dc3310ff",
   "metadata": {},
   "source": [
    "### continue\n",
    "Deja de ejecutar el resto del bloque de código en lo que queda de la iteración actual, pero no abandona el bucle por completo y pasa a la siguiente iteración"
   ]
  },
  {
   "cell_type": "code",
   "execution_count": null,
   "id": "c2157539",
   "metadata": {},
   "outputs": [
    {
     "name": "stdout",
     "output_type": "stream",
     "text": [
      "potencia_entrada 0\n",
      "potencia_salida 30\n",
      "potencia_entrada 30\n",
      "La potencia es exáctamente igual a 60, ignora lo que queda y pasa a la siguiente iteración por favor!\n",
      "potencia_entrada 60\n",
      "potencia_salida 90\n",
      "potencia_entrada 90\n",
      "potencia_salida 120\n",
      "\n",
      " Potencia_final= 120\n"
     ]
    }
   ],
   "source": [
    "#Potencia = 1\n",
    "Potencia = 0\n",
    "while Potencia < 100:\n",
    "    print(\"potencia_entrada\",Potencia)\n",
    "    Potencia += 30\n",
    "    \n",
    "    if Potencia==60:\n",
    "        print(\"La potencia es exáctamente igual a 60, ignora lo que queda y pasa a la siguiente iteración por favor!\")\n",
    "        continue\n",
    "        \n",
    "    print(\"potencia_salida\",Potencia)\n",
    "\n",
    "    \n",
    "print('\\n Potencia_final=',Potencia)"
   ]
  },
  {
   "cell_type": "code",
   "execution_count": null,
   "id": "c5432991",
   "metadata": {},
   "outputs": [
    {
     "name": "stdout",
     "output_type": "stream",
     "text": [
      "El print final 0\n",
      "El print final 1\n",
      "El print final 2\n",
      "El print final 3\n",
      "El print final 4\n",
      "Ignora el print final 5\n",
      "Ignora el print final 6\n",
      "Ignora el print final 7\n",
      "Ignora el print final 8\n",
      "Ignora el print final 9\n"
     ]
    }
   ],
   "source": [
    "for i in range(10):\n",
    "    if i>4:\n",
    "        print(\"Ignora el print final\",i)\n",
    "        continue\n",
    "    # Sólo se escribe si i <= 4\n",
    "    print(\"El print final\",i)"
   ]
  },
  {
   "cell_type": "markdown",
   "id": "628dfbb6",
   "metadata": {},
   "source": [
    "### pass\n",
    "Cuando queremos seguir con el resto de la operación en un bucle sin más (también en funciones) se utiliza el argumento **pass**."
   ]
  },
  {
   "cell_type": "code",
   "execution_count": null,
   "id": "c92b7be0",
   "metadata": {},
   "outputs": [
    {
     "name": "stdout",
     "output_type": "stream",
     "text": [
      "El índice de iteración no es igual a uno ni es igual a dos\n",
      "El print final 0\n",
      "El índice de iteración es igual a uno\n",
      "El print final 2\n",
      "El índice de iteración no es igual a uno ni es igual a dos\n",
      "El print final 3\n"
     ]
    }
   ],
   "source": [
    "for i in range(4):\n",
    "    if i==1:\n",
    "        print(\"El índice de iteración es igual a uno\")\n",
    "        continue\n",
    "    elif i==2:\n",
    "        pass\n",
    "    else:\n",
    "        print(\"El índice de iteración no es igual a uno ni es igual a dos\")\n",
    "    \n",
    "\n",
    "    print(\"El print final\",i)"
   ]
  },
  {
   "cell_type": "markdown",
   "id": "ca854434",
   "metadata": {},
   "source": [
    "## Gestionar los errores"
   ]
  },
  {
   "cell_type": "markdown",
   "id": "f852f1ec",
   "metadata": {},
   "source": [
    "El código siempre está expuesto a posibles fallos y errores"
   ]
  },
  {
   "cell_type": "code",
   "execution_count": null,
   "id": "218eed7c",
   "metadata": {},
   "outputs": [
    {
     "name": "stdout",
     "output_type": "stream",
     "text": [
      "potencia_entrada 0\n",
      "La división -0.016666666666666666\n",
      "potencia_salida 30\n",
      "potencia_entrada 30\n",
      "La división -0.03333333333333333\n",
      "potencia_salida 60\n",
      "potencia_entrada 60\n"
     ]
    },
    {
     "ename": "ZeroDivisionError",
     "evalue": "division by zero",
     "output_type": "error",
     "traceback": [
      "\u001b[0;31m---------------------------------------------------------------------------\u001b[0m",
      "\u001b[0;31mZeroDivisionError\u001b[0m                         Traceback (most recent call last)",
      "\u001b[1;32m/Users/pablo/BD/analisis_datos_python/sesion_2/Sesion2-Bloque1-Estructuras-Control-Funciones-BigData+.ipynb Celda 142\u001b[0m line \u001b[0;36m5\n\u001b[1;32m      <a href='vscode-notebook-cell:/Users/pablo/BD/analisis_datos_python/sesion_2/Sesion2-Bloque1-Estructuras-Control-Funciones-BigData%2B.ipynb#Y261sZmlsZQ%3D%3D?line=2'>3</a>\u001b[0m \u001b[39mprint\u001b[39m(\u001b[39m\"\u001b[39m\u001b[39mpotencia_entrada\u001b[39m\u001b[39m\"\u001b[39m,Potencia)\n\u001b[1;32m      <a href='vscode-notebook-cell:/Users/pablo/BD/analisis_datos_python/sesion_2/Sesion2-Bloque1-Estructuras-Control-Funciones-BigData%2B.ipynb#Y261sZmlsZQ%3D%3D?line=3'>4</a>\u001b[0m Potencia \u001b[39m+\u001b[39m\u001b[39m=\u001b[39m \u001b[39m30\u001b[39m\n\u001b[0;32m----> <a href='vscode-notebook-cell:/Users/pablo/BD/analisis_datos_python/sesion_2/Sesion2-Bloque1-Estructuras-Control-Funciones-BigData%2B.ipynb#Y261sZmlsZQ%3D%3D?line=4'>5</a>\u001b[0m div \u001b[39m=\u001b[39m \u001b[39m1\u001b[39;49m\u001b[39m/\u001b[39;49m(Potencia\u001b[39m-\u001b[39;49m\u001b[39m90\u001b[39;49m)\n\u001b[1;32m      <a href='vscode-notebook-cell:/Users/pablo/BD/analisis_datos_python/sesion_2/Sesion2-Bloque1-Estructuras-Control-Funciones-BigData%2B.ipynb#Y261sZmlsZQ%3D%3D?line=5'>6</a>\u001b[0m \u001b[39mprint\u001b[39m(\u001b[39m\"\u001b[39m\u001b[39mLa división\u001b[39m\u001b[39m\"\u001b[39m,div)           \n\u001b[1;32m      <a href='vscode-notebook-cell:/Users/pablo/BD/analisis_datos_python/sesion_2/Sesion2-Bloque1-Estructuras-Control-Funciones-BigData%2B.ipynb#Y261sZmlsZQ%3D%3D?line=6'>7</a>\u001b[0m \u001b[39mprint\u001b[39m(\u001b[39m\"\u001b[39m\u001b[39mpotencia_salida\u001b[39m\u001b[39m\"\u001b[39m,Potencia)  \n",
      "\u001b[0;31mZeroDivisionError\u001b[0m: division by zero"
     ]
    }
   ],
   "source": [
    "Potencia = 0\n",
    "while Potencia < 100:\n",
    "    print(\"potencia_entrada\",Potencia)\n",
    "    Potencia += 30\n",
    "    div = 1/(Potencia-90)\n",
    "    print(\"La división\",div)           \n",
    "    print(\"potencia_salida\",Potencia)  \n",
    "print('\\n Potencia_final=',Potencia)\n"
   ]
  },
  {
   "cell_type": "markdown",
   "id": "3dc203f0",
   "metadata": {},
   "source": [
    "Cuando el código produce un error, podemos tenerlo en cuenta con un bloque **try - except**\n",
    "```\n",
    "try:\n",
    "    algoritmo\n",
    "except <Exception Type> as <variable name>:\n",
    "    # Tratar este tipo de error\n",
    "except:\n",
    "    # Tratar cualquier otro error\n",
    "```"
   ]
  },
  {
   "cell_type": "code",
   "execution_count": null,
   "id": "0398171d",
   "metadata": {},
   "outputs": [
    {
     "name": "stdout",
     "output_type": "stream",
     "text": [
      "potencia_entrada 0\n",
      "potencia_salida 30\n",
      "potencia_entrada 30\n",
      "potencia_salida 60\n",
      "potencia_entrada 60\n",
      "fallo en la división\n"
     ]
    }
   ],
   "source": [
    "try:\n",
    "    Potencia = 0\n",
    "    while Potencia < 100:\n",
    "        print(\"potencia_entrada\",Potencia)\n",
    "        Potencia += 30\n",
    "        div = 1/(Potencia-90)           \n",
    "        print(\"potencia_salida\",Potencia)  \n",
    "    print('\\n Potencia_final=',Potencia)\n",
    "except:\n",
    "    print(\"fallo en la división\")"
   ]
  },
  {
   "cell_type": "markdown",
   "id": "a5565736",
   "metadata": {},
   "source": [
    "También podemos generar **Excepciones** de forma personalizada:"
   ]
  },
  {
   "cell_type": "code",
   "execution_count": null,
   "id": "2ea1c9b0",
   "metadata": {},
   "outputs": [
    {
     "name": "stdout",
     "output_type": "stream",
     "text": [
      "potencia_entrada 0\n",
      "potencia_salida 30\n",
      "potencia_entrada 30\n",
      "potencia_salida 60\n",
      "potencia_entrada 60\n",
      "Excepción capturada: problema tipo 1/0\n"
     ]
    }
   ],
   "source": [
    "try:\n",
    "    #Potencia = 1\n",
    "    Potencia = 0\n",
    "    while Potencia < 100:\n",
    "        print(\"potencia_entrada\",Potencia)\n",
    "        Potencia += 30\n",
    "        if Potencia==90:\n",
    "            raise Exception(\"problema tipo 1/0\")\n",
    "        div = 1/(Potencia-90)           \n",
    "        print(\"potencia_salida\",Potencia)  \n",
    "    print('\\n Potencia_final=',Potencia)\n",
    "\n",
    "except Exception as e:\n",
    "    print(\"Excepción capturada:\",e)\n",
    "\n",
    "except:\n",
    "    print(\"fallo en la división\")"
   ]
  },
  {
   "cell_type": "markdown",
   "id": "3dfe3a75",
   "metadata": {},
   "source": [
    "### **`Ejercicio 2.3`**\n",
    "\n",
    "**`2.3.1`** Recorre el listado del ejemplo y realiza las siguientes operaciones:    `[18, 50, 210, 80, 145, 333, 70, 30]`\n",
    "  - Imprimr el número en caso de que sea múltiplo de 10 y menor que 200\n",
    "  - Parar el programa si llega a un número mayor que 300\n",
    "  \n"
   ]
  },
  {
   "cell_type": "code",
   "execution_count": 7,
   "id": "20dcf673",
   "metadata": {},
   "outputs": [
    {
     "name": "stdout",
     "output_type": "stream",
     "text": [
      "50\n",
      "80\n"
     ]
    }
   ],
   "source": [
    "## Solución\n",
    "# Ejercicio 2.3.1\n",
    "lista = [18, 50, 210, 80, 145, 333, 70, 30]\n",
    "\n",
    "for num in lista:\n",
    "    if num > 300:\n",
    "        break\n",
    "    elif num%10 == 0 and num < 200:\n",
    "        print(num)"
   ]
  },
  {
   "cell_type": "markdown",
   "id": "d409bca4",
   "metadata": {},
   "source": [
    "**`2.3.2`** Considerando el contenido del listado *list_2_3* escribe un programa para imprimir el siguiente patrón:\n",
    "\n",
    "False  \n",
    "50  \n",
    "22.22  \n",
    "True  \n",
    "99  \n",
    "Anaconda"
   ]
  },
  {
   "cell_type": "code",
   "execution_count": null,
   "id": "2227349a",
   "metadata": {},
   "outputs": [
    {
     "name": "stdout",
     "output_type": "stream",
     "text": [
      "False\n",
      "50\n",
      "22.22\n",
      "True\n",
      "99\n",
      "Anaconda\n"
     ]
    }
   ],
   "source": [
    "## Solución\n",
    "# Ejercicio 2.3.2\n",
    "list_2_3 = [\"Anaconda\", 99, True, 22.22, 50, False]\n",
    "\n",
    "list_2_3.reverse()\n",
    "\n",
    "for x in list_2_3:\n",
    "    print(x)"
   ]
  },
  {
   "cell_type": "markdown",
   "id": "c2064ccc",
   "metadata": {},
   "source": [
    "---"
   ]
  },
  {
   "cell_type": "markdown",
   "id": "481574e2",
   "metadata": {},
   "source": [
    "# 4- Funciones\n",
    "**Functions** son la base de la programación que permiten reutilizar el código desarrollado de forma mantenible. Tienen el mismo significado que una función matemática: un sistema con entradas, operaciones y salidas.\n",
    "\n",
    "La sintaxis básica para declarar una función en Python es:\n",
    "\n",
    "```\n",
    "def nombre_de_función(argumento1, argumento2,... argumentoN):\n",
    "    \"\"\"docstring, esto es lo que se ve en la ayuda de la función y se considera una manera muy sencilla de documentar\"\"\"\n",
    "    operaciones, tratamientos y algoritmos\n",
    "    return <variables_de_salida> # Es opcional, puede no devolver nada```"
   ]
  },
  {
   "cell_type": "code",
   "execution_count": null,
   "id": "51049ca8",
   "metadata": {},
   "outputs": [
    {
     "name": "stdout",
     "output_type": "stream",
     "text": [
      "Compatible con el Proyecto 01\n",
      "Compatible con el Proyecto 02\n",
      "Compatible con el Proyecto 03\n",
      "Compatible con el Proyecto 04\n"
     ]
    }
   ],
   "source": [
    "# Imprimir un grupo de mensajes a pie de una página\n",
    "print(\"Compatible con el Proyecto 01\")\n",
    "print(\"Compatible con el Proyecto 02\")\n",
    "print(\"Compatible con el Proyecto 03\")\n",
    "print(\"Compatible con el Proyecto 04\")"
   ]
  },
  {
   "cell_type": "markdown",
   "id": "c39d0de5",
   "metadata": {},
   "source": [
    "Para no tener que voler a repetirlo, podemos meter estos prints en una funcion: \n"
   ]
  },
  {
   "cell_type": "code",
   "execution_count": null,
   "id": "aa4ab4bf",
   "metadata": {},
   "outputs": [],
   "source": [
    "def mifuncion():\n",
    "    print(\"Compatible con el Proyecto 01\")\n",
    "    print(\"Compatible con el Proyecto 02\")\n",
    "    print(\"Compatible con el Proyecto 03\")\n",
    "    print(\"Compatible con el Proyecto 04\")"
   ]
  },
  {
   "cell_type": "code",
   "execution_count": null,
   "id": "a51e518b",
   "metadata": {},
   "outputs": [
    {
     "name": "stdout",
     "output_type": "stream",
     "text": [
      "Compatible con el Proyecto 01\n",
      "Compatible con el Proyecto 02\n",
      "Compatible con el Proyecto 03\n",
      "Compatible con el Proyecto 04\n"
     ]
    }
   ],
   "source": [
    "# Simplemente llamamos a nuestra función\n",
    "mifuncion()"
   ]
  },
  {
   "cell_type": "markdown",
   "id": "a74af561",
   "metadata": {},
   "source": [
    "Ahora podemos pasarle a esta función una entrada para que nos imprima siempre el mensaje para el proyecto que consideremos:"
   ]
  },
  {
   "cell_type": "code",
   "execution_count": null,
   "id": "e13d10b4",
   "metadata": {},
   "outputs": [],
   "source": [
    "def mifuncion(lista_proyectos):\n",
    "    for proyecto in lista_proyectos:\n",
    "        print(\"Compatible con el\", proyecto)"
   ]
  },
  {
   "cell_type": "code",
   "execution_count": null,
   "id": "c8ab9d68",
   "metadata": {},
   "outputs": [
    {
     "name": "stdout",
     "output_type": "stream",
     "text": [
      "Compatible con el Proyecto 03\n",
      "Compatible con el Proyecto 07\n",
      "Compatible con el Proyecto 09\n",
      "Compatible con el Proyecto 11\n"
     ]
    }
   ],
   "source": [
    "lst = [\"Proyecto 03\", \"Proyecto 07\", \"Proyecto 09\", \"Proyecto 11\"]\n",
    "mifuncion(lst)"
   ]
  },
  {
   "cell_type": "markdown",
   "id": "d024d524",
   "metadata": {},
   "source": [
    "## Return\n",
    "A pesar de los ejemplos anteriores, normalmente llamamos a una función para seguir trabajando con el resultado"
   ]
  },
  {
   "cell_type": "code",
   "execution_count": null,
   "id": "78665541",
   "metadata": {},
   "outputs": [],
   "source": [
    "# Por ejemplo una función para multiplicar dos valores sería:\n",
    "def multiplica(a,b):\n",
    "    multi = a*b\n",
    "    return multi"
   ]
  },
  {
   "cell_type": "code",
   "execution_count": null,
   "id": "b8c5b089",
   "metadata": {},
   "outputs": [
    {
     "data": {
      "text/plain": [
       "200"
      ]
     },
     "execution_count": 140,
     "metadata": {},
     "output_type": "execute_result"
    }
   ],
   "source": [
    "multiplica(10,20)"
   ]
  },
  {
   "cell_type": "markdown",
   "id": "01ad5c7f",
   "metadata": {},
   "source": [
    "**Nota importante**:  \n",
    "Las variables declaradas en la definición de una función por defecto no son globales"
   ]
  },
  {
   "cell_type": "code",
   "execution_count": null,
   "id": "95dfc19b",
   "metadata": {},
   "outputs": [
    {
     "ename": "NameError",
     "evalue": "name 'multi' is not defined",
     "output_type": "error",
     "traceback": [
      "\u001b[0;31m---------------------------------------------------------------------------\u001b[0m",
      "\u001b[0;31mNameError\u001b[0m                                 Traceback (most recent call last)",
      "\u001b[1;32m/Users/pablo/BD/analisis_datos_python/sesion_2/Sesion2-Bloque1-Estructuras-Control-Funciones-BigData+.ipynb Celda 165\u001b[0m line \u001b[0;36m2\n\u001b[1;32m      <a href='vscode-notebook-cell:/Users/pablo/BD/analisis_datos_python/sesion_2/Sesion2-Bloque1-Estructuras-Control-Funciones-BigData%2B.ipynb#Y323sZmlsZQ%3D%3D?line=0'>1</a>\u001b[0m \u001b[39m# Consultamos la variable utilizada dentro de la función definida anteriormente\u001b[39;00m\n\u001b[0;32m----> <a href='vscode-notebook-cell:/Users/pablo/BD/analisis_datos_python/sesion_2/Sesion2-Bloque1-Estructuras-Control-Funciones-BigData%2B.ipynb#Y323sZmlsZQ%3D%3D?line=1'>2</a>\u001b[0m \u001b[39mprint\u001b[39m(multi)\n",
      "\u001b[0;31mNameError\u001b[0m: name 'multi' is not defined"
     ]
    }
   ],
   "source": [
    "# Consultamos la variable utilizada dentro de la función definida anteriormente\n",
    "print(multi)"
   ]
  },
  {
   "cell_type": "code",
   "execution_count": null,
   "id": "f12fe679",
   "metadata": {},
   "outputs": [],
   "source": [
    "# Siempre es aconsejable documentar las funciones que vamos desarrollando:\n",
    "def multiplica(a,b):\n",
    "    \"\"\"\n",
    "    Función para multiplicar dos valores de entrada.\n",
    "\n",
    "    :param a: un valor númerico como uno de los dos factores\n",
    "    :param b: un valor númerico como uno de los dos factores\n",
    "    :return: Devuelve la multiplicación de \"a\" y \"b\"\n",
    "\n",
    "    \"\"\"\n",
    "    # no hace falta indicarlo aquí en este caso como era antes (multi = a*b)\n",
    "    return a*b"
   ]
  },
  {
   "cell_type": "code",
   "execution_count": null,
   "id": "acf13025",
   "metadata": {},
   "outputs": [
    {
     "ename": "TypeError",
     "evalue": "multiplica() missing 2 required positional arguments: 'a' and 'b'",
     "output_type": "error",
     "traceback": [
      "\u001b[0;31m---------------------------------------------------------------------------\u001b[0m",
      "\u001b[0;31mTypeError\u001b[0m                                 Traceback (most recent call last)",
      "\u001b[1;32m/Users/pablo/BD/analisis_datos_python/sesion_2/Sesion2-Bloque1-Estructuras-Control-Funciones-BigData+.ipynb Celda 167\u001b[0m line \u001b[0;36m1\n\u001b[0;32m----> <a href='vscode-notebook-cell:/Users/pablo/BD/analisis_datos_python/sesion_2/Sesion2-Bloque1-Estructuras-Control-Funciones-BigData%2B.ipynb#Y325sZmlsZQ%3D%3D?line=0'>1</a>\u001b[0m multiplica()\n",
      "\u001b[0;31mTypeError\u001b[0m: multiplica() missing 2 required positional arguments: 'a' and 'b'"
     ]
    }
   ],
   "source": [
    "multiplica()"
   ]
  },
  {
   "cell_type": "code",
   "execution_count": null,
   "id": "860f04b0",
   "metadata": {},
   "outputs": [
    {
     "name": "stdout",
     "output_type": "stream",
     "text": [
      "Help on function multiplica in module __main__:\n",
      "\n",
      "multiplica(a, b)\n",
      "    Función para multiplicar dos valores de entrada.\n",
      "    \n",
      "    :param a: un valor númerico como uno de los dos factores\n",
      "    :param b: un valor númerico como uno de los dos factores\n",
      "    :return: Devuelve la multiplicación de \"a\" y \"b\"\n",
      "\n"
     ]
    }
   ],
   "source": [
    "help(multiplica)"
   ]
  },
  {
   "cell_type": "code",
   "execution_count": null,
   "id": "d01522d0",
   "metadata": {},
   "outputs": [
    {
     "name": "stdout",
     "output_type": "stream",
     "text": [
      "50\n"
     ]
    }
   ],
   "source": [
    "# La idea de incluir un \"return\" fundamentalmente es seguir trabajando con las salidas de las funciones\n",
    "c = multiplica(8,5)\n",
    "print(c+10)"
   ]
  },
  {
   "cell_type": "markdown",
   "id": "9b3ef1fd",
   "metadata": {},
   "source": [
    "Las funciones pueden tener varias salidas y de esta forma retornar varios valores"
   ]
  },
  {
   "cell_type": "code",
   "execution_count": null,
   "id": "5b5c017a",
   "metadata": {},
   "outputs": [],
   "source": [
    "# Una función para sacar los valores mínimo y máximo de una lista (siempre incluimos el Docstring aunque fuera una línea)\n",
    "def f_min_max(lista):\n",
    "    \"\"\"Una función que coge una lista y devuelve primero el valor mínimo acompañado del valor máximo\"\"\"\n",
    "    a = min(lista)\n",
    "    b = max(lista)\n",
    "    return a, b"
   ]
  },
  {
   "cell_type": "code",
   "execution_count": null,
   "id": "3bd7c1d1",
   "metadata": {},
   "outputs": [
    {
     "data": {
      "text/plain": [
       "(2, 981)"
      ]
     },
     "execution_count": 147,
     "metadata": {},
     "output_type": "execute_result"
    }
   ],
   "source": [
    "# llamada directa a la función\n",
    "f_min_max([11, 2, 55, 39, 981, 23, 6])"
   ]
  },
  {
   "cell_type": "markdown",
   "id": "7d15a62b",
   "metadata": {},
   "source": [
    "Se puede realizar una asignación múltiple en caso de tener varias salidas en una función"
   ]
  },
  {
   "cell_type": "code",
   "execution_count": null,
   "id": "810bc850",
   "metadata": {},
   "outputs": [
    {
     "name": "stdout",
     "output_type": "stream",
     "text": [
      "El mínimo= 2\n",
      "El máximo= 981\n"
     ]
    }
   ],
   "source": [
    "# Sacar cada una de las salidas de la función\n",
    "valor_min, valor_max = f_min_max([11, 2, 55, 39, 981, 23, 6])\n",
    "\n",
    "print(\"El mínimo=\",valor_min)\n",
    "print(\"El máximo=\",valor_max)"
   ]
  },
  {
   "cell_type": "markdown",
   "id": "862967f4",
   "metadata": {},
   "source": [
    "## Funciones lambda\n",
    "A veces necesitamos tener funciones que son tan sencillas que no merece la pena ni siquiera que tengan nombre o estén declaradas. Existe una sintaxis para hacer eso en Python en una sola línea.\n",
    "\n",
    "Se utiliza la palabra clave **lambda** seguida de las variables, dos puntos y la expresión:\n",
    "```lambda variables: expresión```"
   ]
  },
  {
   "cell_type": "code",
   "execution_count": null,
   "id": "77dbb3ed",
   "metadata": {},
   "outputs": [],
   "source": [
    "suma_de_tres = lambda x,y,z: x+y+z"
   ]
  },
  {
   "cell_type": "code",
   "execution_count": null,
   "id": "5ec19687",
   "metadata": {},
   "outputs": [
    {
     "data": {
      "text/plain": [
       "60"
      ]
     },
     "execution_count": 150,
     "metadata": {},
     "output_type": "execute_result"
    }
   ],
   "source": [
    "suma_de_tres(10,20,30) "
   ]
  },
  {
   "cell_type": "code",
   "execution_count": null,
   "id": "02957ffe",
   "metadata": {},
   "outputs": [],
   "source": [
    "cuadrado = lambda x: x*x"
   ]
  },
  {
   "cell_type": "code",
   "execution_count": null,
   "id": "8ed34de4",
   "metadata": {},
   "outputs": [
    {
     "data": {
      "text/plain": [
       "49"
      ]
     },
     "execution_count": 152,
     "metadata": {},
     "output_type": "execute_result"
    }
   ],
   "source": [
    "cuadrado(7)"
   ]
  },
  {
   "cell_type": "markdown",
   "id": "25198217",
   "metadata": {},
   "source": [
    "### **`Ejercicio 2.4`**\n",
    "\n",
    "**`2.4.1`** Escribe una función que devuelva el número total de carácteres en un listado de cadenas de texto y aplícala sobre el ejemplo:\n",
    "  - Entrada a la función:  `[\"PEP 8\", \"PEP 248\", \"PEP 257\"]`\n",
    "  - La salida esperada:  __19__"
   ]
  },
  {
   "cell_type": "code",
   "execution_count": null,
   "id": "057a3e70",
   "metadata": {},
   "outputs": [
    {
     "data": {
      "text/plain": [
       "19"
      ]
     },
     "execution_count": 155,
     "metadata": {},
     "output_type": "execute_result"
    }
   ],
   "source": [
    "## Solución\n",
    "# Ejercicio 2.4.1\n",
    "def total_caracteres(lista):\n",
    "    \"\"\"Función que devuelve el numero total de caracteres en un listado de cadenas de texto\"\"\"\n",
    "    total = 0\n",
    "    for x in lista:\n",
    "        caracteres = len(x)\n",
    "        total += caracteres\n",
    "    return total\n",
    "\n",
    "lista_fun = [\"PEP 8\", \"PEP 248\", \"PEP 257\"]\n",
    "total_caracteres(lista_fun)"
   ]
  },
  {
   "cell_type": "markdown",
   "id": "998efabd",
   "metadata": {},
   "source": [
    "**`2.4.2`** Escribe una función lambda que sea capaz de recibir cuatro variables y retornar el valor máximo y aplícala sobre este ejemplo:\n",
    "\n",
    "  - Entrada a la función:   `143, 22, 6576, 111`\n",
    "  - La salida esperada:  __6576__\n"
   ]
  },
  {
   "cell_type": "code",
   "execution_count": null,
   "id": "583a785b",
   "metadata": {},
   "outputs": [
    {
     "data": {
      "text/plain": [
       "6576"
      ]
     },
     "execution_count": 154,
     "metadata": {},
     "output_type": "execute_result"
    }
   ],
   "source": [
    "## Solución\n",
    "# Ejercicio 2.4.2\n",
    "mayor = lambda x,y,z,d: max(x,y,z,d)\n",
    "mayor(143,22,6576,111)"
   ]
  },
  {
   "cell_type": "code",
   "execution_count": null,
   "id": "a93f9c76",
   "metadata": {},
   "outputs": [],
   "source": []
  }
 ],
 "metadata": {
  "kernelspec": {
   "display_name": "Python 3.9.12 ('base')",
   "language": "python",
   "name": "python3"
  },
  "language_info": {
   "codemirror_mode": {
    "name": "ipython",
    "version": 3
   },
   "file_extension": ".py",
   "mimetype": "text/x-python",
   "name": "python",
   "nbconvert_exporter": "python",
   "pygments_lexer": "ipython3",
   "version": "3.11.5"
  },
  "vscode": {
   "interpreter": {
    "hash": "ad2bdc8ecc057115af97d19610ffacc2b4e99fae6737bb82f5d7fb13d2f2c186"
   }
  }
 },
 "nbformat": 4,
 "nbformat_minor": 5
}
