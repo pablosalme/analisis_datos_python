{
 "cells": [
  {
   "cell_type": "markdown",
   "id": "496631ea",
   "metadata": {},
   "source": [
    "# Módulo 1: Análisis de datos en el ecosistema Python"
   ]
  },
  {
   "cell_type": "markdown",
   "id": "3a14cd3f",
   "metadata": {},
   "source": [
    "### Sesión (3)"
   ]
  },
  {
   "cell_type": "markdown",
   "id": "6acd93e7",
   "metadata": {},
   "source": [
    "**18/09/2023**"
   ]
  },
  {
   "cell_type": "markdown",
   "id": "461d3392",
   "metadata": {},
   "source": [
    "# Exploración y tratamiento de datos"
   ]
  },
  {
   "cell_type": "markdown",
   "id": "1ec781ba",
   "metadata": {},
   "source": [
    "Breve resumen de herramientas principales de tratamiento de datos en Python:\n",
    "\n",
    "#### **Numpy:**\n",
    "* Paquete específico muy útil para trabajar con **arrays y matrices**.\n",
    "* Podemos crear arrays desde cero (útil cuando queremos arrays **multidimensionales**).\n",
    "\n",
    "\n",
    "#### **Matplotlib:**\n",
    "* Paquete para pintar **gráficos** a partir de datos contenidos en listas o arrays.\n",
    "* Utiliza la extensión matemática de *numpy*.\n",
    "\n",
    "#### **Pandas:**\n",
    "* Paquete que sirve para trabajar con datos (vectores, series y tablas).\n",
    "* La librería _Pandas_ dispone de tres estructuras principales:\n",
    "    * __DataFrames__\n",
    "    * __Series__\n",
    "    * __Index__\n"
   ]
  },
  {
   "cell_type": "markdown",
   "id": "4a000013",
   "metadata": {},
   "source": [
    "# Arrays & Matrices"
   ]
  },
  {
   "cell_type": "markdown",
   "id": "3a4e701c",
   "metadata": {},
   "source": [
    "Numpy (**Numerical Python**) se trata de la librería principal a la hora de realizar **operaciones científicas** en Python. Esta librería nos proporciona el tipo de dato **numpy array (ndarray)**, que se trata de un tipo de dato que nos permite realizar operaciones de una forma **eficiente** y nos ofrece también las herramientas necesarias para trabajar con este tipo de dato."
   ]
  },
  {
   "cell_type": "markdown",
   "id": "714ea6ad",
   "metadata": {},
   "source": [
    "* _Python_ por sí solo **no tiene muchas facilidades** para trabajar con **vectores** o matrices. \n",
    "* Existe un paquete específico para hacer eso que se llama *numpy*. \n",
    "* Una práctica común es importar esta librería bajo el acrónimo de **`np`** que es aceptado universalmente.\n",
    "* **_Numpy_** tiene mucho en común con **Matlab** respecto a su sintaxis y la filosofía de tratamiento de datos. \n",
    "* Además de la comodidad de la sintaxis, *numpy* es mucho más **rápido** que trabajar con listas (porque por debajo mucho de su código se ejecuta en **C**)\n"
   ]
  },
  {
   "cell_type": "code",
   "execution_count": 1,
   "id": "c012d9a3",
   "metadata": {},
   "outputs": [],
   "source": [
    "import numpy as np"
   ]
  },
  {
   "cell_type": "markdown",
   "id": "2a0fda5e",
   "metadata": {},
   "source": [
    "* Cuando en *numpy* se trabaja con matrices (`np.matrix`),  las operaciones matriciales de suma, multiplicación, etc tienen sentido matemático.\n",
    "* Las **matrices** en *numpy* son de **dos dimensiones**, siempre dos. \n",
    "* Los **arrays** (`np.array`) en cambio pueden ser **multidimensionales**."
   ]
  },
  {
   "cell_type": "markdown",
   "id": "1b86368d",
   "metadata": {},
   "source": [
    "###  Creando arrays a partir de listas "
   ]
  },
  {
   "cell_type": "markdown",
   "id": "39db7ed0",
   "metadata": {},
   "source": [
    "Las **listas** son **vectores nativos de Python**, a cambio los ***ndarray*** son **vectores específicos** declarados en *numpy*. "
   ]
  },
  {
   "cell_type": "code",
   "execution_count": 2,
   "id": "815fbb06",
   "metadata": {},
   "outputs": [
    {
     "name": "stdout",
     "output_type": "stream",
     "text": [
      "[10, 20, 30, 40]\n",
      "<class 'list'>\n"
     ]
    }
   ],
   "source": [
    "# En Python un \"array\" o un \"vector\" >>>> es una \"lista\"\n",
    "print([10,20,30,40])\n",
    "print(type([10,20,30,40]))"
   ]
  },
  {
   "cell_type": "markdown",
   "id": "109eb9b4",
   "metadata": {},
   "source": [
    "Podemos crear arrays multidimensionales **a partir de las listas** usando la función __`np.array()`__.\n"
   ]
  },
  {
   "cell_type": "code",
   "execution_count": 3,
   "id": "abcff653",
   "metadata": {},
   "outputs": [
    {
     "name": "stdout",
     "output_type": "stream",
     "text": [
      "[10 20 30 40]\n",
      "<class 'numpy.ndarray'>\n"
     ]
    }
   ],
   "source": [
    "# Definir un vector (array) en numpy\n",
    "x = np.array([10,20,30,40])\n",
    "print(x)\n",
    "print(type(x))"
   ]
  },
  {
   "cell_type": "markdown",
   "id": "661ed631",
   "metadata": {},
   "source": [
    "Es importante recordar que a diferencia de las listas, *numpy* está **restringido** a arrays que contengan **el mismo tipo de variables**. Si los tipos no son iguales, *numpy* inferirá si es posible el tipo de dato para todos los elementos."
   ]
  },
  {
   "cell_type": "code",
   "execution_count": 4,
   "id": "1d18e750",
   "metadata": {},
   "outputs": [
    {
     "data": {
      "text/plain": [
       "array([ 10.  ,  20.  ,  88.88, 100.  ])"
      ]
     },
     "execution_count": 4,
     "metadata": {},
     "output_type": "execute_result"
    }
   ],
   "source": [
    "# Datos tipo float y entero\n",
    "np.array([10, 20, 88.88, 100])"
   ]
  },
  {
   "cell_type": "code",
   "execution_count": 5,
   "id": "29dc7aa7",
   "metadata": {},
   "outputs": [
    {
     "data": {
      "text/plain": [
       "array([ 0, 11, 22, 33,  1])"
      ]
     },
     "execution_count": 5,
     "metadata": {},
     "output_type": "execute_result"
    }
   ],
   "source": [
    "# Datos numéricos y booleanos\n",
    "np.array([False, 11, 22, 33, True])"
   ]
  },
  {
   "cell_type": "code",
   "execution_count": 6,
   "id": "712f596c",
   "metadata": {},
   "outputs": [
    {
     "data": {
      "text/plain": [
       "array(['Librerías', '22', '99.99', 'Paquetes'], dtype='<U32')"
      ]
     },
     "execution_count": 6,
     "metadata": {},
     "output_type": "execute_result"
    }
   ],
   "source": [
    "# Datos numéricos y textuales\n",
    "np.array([\"Librerías\", 22, 99.99, \"Paquetes\"])"
   ]
  },
  {
   "cell_type": "markdown",
   "id": "a6d9579f",
   "metadata": {},
   "source": [
    "También podemos **indicar** nosotros el tipo de dato deseado usando el parámetro `dtype`. "
   ]
  },
  {
   "cell_type": "code",
   "execution_count": 7,
   "id": "37af028f",
   "metadata": {},
   "outputs": [
    {
     "data": {
      "text/plain": [
       "array([6, 2, 3, 1], dtype=int32)"
      ]
     },
     "execution_count": 7,
     "metadata": {},
     "output_type": "execute_result"
    }
   ],
   "source": [
    "# Definir un array desde una lista indicando datos tipo enteros\n",
    "np.array([6.66, 2, 3.14, True], dtype = 'int32')"
   ]
  },
  {
   "cell_type": "code",
   "execution_count": 8,
   "id": "efcfb7f7",
   "metadata": {},
   "outputs": [
    {
     "data": {
      "text/plain": [
       "array([[5., 2.],\n",
       "       [2., 2.],\n",
       "       [3., 4.]])"
      ]
     },
     "execution_count": 8,
     "metadata": {},
     "output_type": "execute_result"
    }
   ],
   "source": [
    "# Definir un array multi-dimensional desde una lista indicando datos tipo float\n",
    "np.array([[5,2], [2,2], [3,4]], dtype = 'float')"
   ]
  },
  {
   "cell_type": "code",
   "execution_count": 9,
   "id": "13e16f39",
   "metadata": {},
   "outputs": [
    {
     "name": "stdout",
     "output_type": "stream",
     "text": [
      "[10 20 30 40]\n",
      "[[10 20 30 40]]\n"
     ]
    }
   ],
   "source": [
    "# Definir una matriz\n",
    "x = np.array([10,20,30,40])\n",
    "x_matriz = np.matrix([10,20,30,40])\n",
    "print(x)\n",
    "print(x_matriz)"
   ]
  },
  {
   "cell_type": "code",
   "execution_count": 10,
   "id": "949d76db",
   "metadata": {},
   "outputs": [
    {
     "name": "stdout",
     "output_type": "stream",
     "text": [
      "tipo de x= <class 'numpy.ndarray'>\n",
      "tipo de x_matriz= <class 'numpy.matrix'>\n"
     ]
    }
   ],
   "source": [
    "print(\"tipo de x=\",type(x))\n",
    "print(\"tipo de x_matriz=\",type(x_matriz))"
   ]
  },
  {
   "cell_type": "code",
   "execution_count": 11,
   "id": "72677260",
   "metadata": {},
   "outputs": [
    {
     "name": "stdout",
     "output_type": "stream",
     "text": [
      "[[10 20]\n",
      " [30 40]]\n",
      "[[ 100  400]\n",
      " [ 900 1600]]\n"
     ]
    }
   ],
   "source": [
    "# Operaciones como escalar\n",
    "x = np.array([[10, 20], [30, 40]])\n",
    "print(x)\n",
    "print(x*x) # multiplición elemento por elemento"
   ]
  },
  {
   "cell_type": "code",
   "execution_count": 12,
   "id": "884930cd",
   "metadata": {},
   "outputs": [
    {
     "name": "stdout",
     "output_type": "stream",
     "text": [
      "[[10 20]\n",
      " [30 40]]\n",
      "[[ 700 1000]\n",
      " [1500 2200]]\n"
     ]
    }
   ],
   "source": [
    "# Operaciones como matriz\n",
    "X = np.matrix(x)\n",
    "print(X)\n",
    "print(X*X) # multiplicación matricial"
   ]
  },
  {
   "cell_type": "markdown",
   "id": "29ac19a6",
   "metadata": {},
   "source": [
    "### Creando arrays desde cero"
   ]
  },
  {
   "cell_type": "markdown",
   "id": "b1cab6f9",
   "metadata": {},
   "source": [
    "A la hora de crear arrays de una mayor dimensión, es más eficiente crear arrays desde cero usando rutinas que ya están disponibles en *Numpy*. Las funciones **np.zeros()** y **np.ones()** nos permiten crear arrays de la dimensión y con el tipo de dato deseado, donde todos los elementos son **ceros** o **unos**."
   ]
  },
  {
   "cell_type": "code",
   "execution_count": 13,
   "id": "983818d8",
   "metadata": {},
   "outputs": [
    {
     "data": {
      "text/plain": [
       "array([0, 0, 0, 0, 0, 0, 0, 0, 0, 0, 0, 0, 0, 0, 0, 0, 0, 0, 0, 0])"
      ]
     },
     "execution_count": 13,
     "metadata": {},
     "output_type": "execute_result"
    }
   ],
   "source": [
    "np.zeros(20, dtype = \"int\")"
   ]
  },
  {
   "cell_type": "code",
   "execution_count": 14,
   "id": "ff3dbe46",
   "metadata": {},
   "outputs": [
    {
     "data": {
      "text/plain": [
       "array([0., 0., 0., 0., 0., 0., 0., 0., 0., 0.])"
      ]
     },
     "execution_count": 14,
     "metadata": {},
     "output_type": "execute_result"
    }
   ],
   "source": [
    "np.zeros(10, dtype = \"float\")"
   ]
  },
  {
   "cell_type": "code",
   "execution_count": 15,
   "id": "41794c39",
   "metadata": {},
   "outputs": [
    {
     "data": {
      "text/plain": [
       "array([1, 1, 1, 1, 1, 1, 1, 1, 1, 1], dtype=int32)"
      ]
     },
     "execution_count": 15,
     "metadata": {},
     "output_type": "execute_result"
    }
   ],
   "source": [
    "np.ones(10, dtype = \"int32\")"
   ]
  },
  {
   "cell_type": "markdown",
   "id": "f948ba4e",
   "metadata": {},
   "source": [
    "La función **np.full()** nos permite crear un array donde todos sus elementos son iguales a un valor que se declara en la función"
   ]
  },
  {
   "cell_type": "code",
   "execution_count": 16,
   "id": "8641b551",
   "metadata": {},
   "outputs": [
    {
     "data": {
      "text/plain": [
       "array([5, 5, 5, 5, 5, 5, 5, 5, 5, 5])"
      ]
     },
     "execution_count": 16,
     "metadata": {},
     "output_type": "execute_result"
    }
   ],
   "source": [
    "np.full(10, 5)"
   ]
  },
  {
   "cell_type": "markdown",
   "id": "09f8eb70",
   "metadata": {},
   "source": [
    "Se puede indicar la dimensión deseada en el primer argumento:"
   ]
  },
  {
   "cell_type": "code",
   "execution_count": 17,
   "id": "4aa2cd2e",
   "metadata": {},
   "outputs": [
    {
     "data": {
      "text/plain": [
       "array([[[5, 5],\n",
       "        [5, 5],\n",
       "        [5, 5]],\n",
       "\n",
       "       [[5, 5],\n",
       "        [5, 5],\n",
       "        [5, 5]],\n",
       "\n",
       "       [[5, 5],\n",
       "        [5, 5],\n",
       "        [5, 5]]])"
      ]
     },
     "execution_count": 17,
     "metadata": {},
     "output_type": "execute_result"
    }
   ],
   "source": [
    "# Un array de 3x3X2 con todos sus elementos igual a 5\n",
    "np.full((3,3,2),5)"
   ]
  },
  {
   "cell_type": "markdown",
   "id": "98d5e555",
   "metadata": {},
   "source": [
    "La función **np.arange()** se trata de una función que nos permite crear un array que tome valores entre dos valores indicados, con un paso también indicado según nos convenga. En su forma más básica la llamada sería **np.arange(inicio, fin, paso)**. Debemos recordar que __el valor *fin* no se incluye__ en nuestro array. En caso de no indicar el valor de *inicio* este tomará por defecto el valor 0 y el *paso* tomará por defecto el valor de 1"
   ]
  },
  {
   "cell_type": "code",
   "execution_count": 18,
   "id": "b283909e",
   "metadata": {},
   "outputs": [
    {
     "data": {
      "text/plain": [
       "array([ 0,  5, 10, 15, 20, 25, 30])"
      ]
     },
     "execution_count": 18,
     "metadata": {},
     "output_type": "execute_result"
    }
   ],
   "source": [
    "# Crear un array que empiece desde 0 y termine en 30 con pasos de 5\n",
    "np.arange(0,31,5)"
   ]
  },
  {
   "cell_type": "markdown",
   "id": "38f0dcdf",
   "metadata": {},
   "source": [
    "La función **np.linspace()** nos permite crear un array entre dos números (***ambos inclusive***) con valores __equidistantes__. En su forma más básica la llamada sería **np.linspace(inicio, fin, num_elementos)**."
   ]
  },
  {
   "cell_type": "code",
   "execution_count": 19,
   "id": "37383dc6",
   "metadata": {},
   "outputs": [
    {
     "data": {
      "text/plain": [
       "array([0. , 0.5, 1. ])"
      ]
     },
     "execution_count": 19,
     "metadata": {},
     "output_type": "execute_result"
    }
   ],
   "source": [
    "# Crear un array con 3 elementos equidistantes entre 0 y 1.\n",
    "np.linspace(0,1,3)"
   ]
  },
  {
   "cell_type": "markdown",
   "id": "03902c5d",
   "metadata": {},
   "source": [
    "La función **np.random.normal()** nos permite crear un array que sigue una distribución normal con una desviación y una media seleccionadas. Esta función recibe como primer parámetro la media, como segundo parámetro la desviación y como tercer parámetro y en forma de tupla la dimensión de nuestra distribución: `np.random.normal(mu, sigma, size)`"
   ]
  },
  {
   "attachments": {
    "images.jpg": {
     "image/jpeg": "[encoded data removed]"
    }
   },
   "cell_type": "markdown",
   "id": "9dfff04c",
   "metadata": {},
   "source": [
    "![images.jpg](attachment:images.jpg)"
   ]
  },
  {
   "cell_type": "code",
   "execution_count": 20,
   "id": "c80bdd97",
   "metadata": {},
   "outputs": [
    {
     "name": "stdout",
     "output_type": "stream",
     "text": [
      "El array = [ 9.95554749 10.03037486 10.15780485  9.98370693  9.95356995 10.0470629\n",
      "  9.93298038  9.93851939  9.86977268  9.96993326 10.06984105  9.86593674\n",
      "  9.99669012  9.95205053 10.13905417  9.91792768 10.07867303  9.77997842\n",
      " 10.17781647  9.8495463  10.01773084 10.11741862 10.08695187  9.87082962\n",
      "  9.88204695  9.8490166   9.94413346 10.00360629 10.17761652  9.91667762\n",
      " 10.11433006 10.02530779  9.8727314   9.95669341  9.8435401   9.99672078\n",
      "  9.94394868 10.02921946  9.99005019 10.04746877  9.92105443  9.95315114\n",
      " 10.08519169 10.06816475  9.91949994 10.1105971  10.05745963 10.04628562\n",
      "  9.80001577 10.06434856  9.95462349  9.97912917  9.82900527 10.06592317\n",
      "  9.90715331 10.00543246 10.1687717  10.06256129  9.98157758 10.14644414\n",
      "  9.94832096  9.85446174 10.0598893   9.93168243  9.87569728  9.92394311\n",
      " 10.10766259 10.1301596   9.9102095  10.0185278  10.03582279 10.01513384\n",
      "  9.97767055 10.13751046 10.18735349  9.90891322 10.07121132  9.97301022\n",
      " 10.0269422   9.83433501  9.88678172  9.82552318 10.1004733  10.07935407\n",
      "  9.96697864  9.9935407  10.11787819  9.90345971  9.94773942 10.07006716\n",
      " 10.03556457 10.03234158  9.9679444  10.04136104  9.86297455 10.06736226\n",
      " 10.06256707  9.8935869  10.00174597  9.94912859]\n",
      "El valor mínimo =  9.779978422667774\n",
      "El valor máximo =  10.187353490048231\n"
     ]
    }
   ],
   "source": [
    "# Crear un array que cuyos valores sigan una distribución normal con la media 10, la desviacón 0.1 y de dimensión 1x100.\n",
    "x = np.random.normal(10,0.1,100)\n",
    "\n",
    "print(\"El array =\",x)\n",
    "print(\"El valor mínimo = \",min(x))\n",
    "print(\"El valor máximo = \",max(x))\n"
   ]
  },
  {
   "cell_type": "markdown",
   "id": "7df8621c",
   "metadata": {},
   "source": [
    "La función **np.random.randint()**, nos permite crear arrays de números aleatorios de tipo entero, entre dos números enteros. Su llamada más básica puede realizarse como: **np.random.randint(inicio, fin, size)** considerando __*fin* no inclusive__. En caso de que el array sea de una sola dimensión mediante el parámetro *size* indicamos el número de elementos de nuestro array."
   ]
  },
  {
   "cell_type": "code",
   "execution_count": 21,
   "id": "1bb6a61d",
   "metadata": {},
   "outputs": [
    {
     "data": {
      "text/plain": [
       "array([[1, 2, 0],\n",
       "       [2, 3, 1],\n",
       "       [0, 3, 7]])"
      ]
     },
     "execution_count": 21,
     "metadata": {},
     "output_type": "execute_result"
    }
   ],
   "source": [
    "# Crear un array de dimensión 3x3 cuyos valores sean números enteros entre 0 (inclusive) y 10 (no inclusive)\n",
    "np.random.randint(0, 10, (3,3))"
   ]
  },
  {
   "cell_type": "markdown",
   "id": "a6dbc600",
   "metadata": {},
   "source": [
    "La función **np.eye()** nos permite crear la matriz de identidad. Esta función en su forma más básica recibe como parámetros la dimensión de nuestra matriz de identidad que tiene **los elementos diagonales** igual a **uno** y **el resto** igual a **cero**."
   ]
  },
  {
   "cell_type": "code",
   "execution_count": 22,
   "id": "bcfd4505",
   "metadata": {},
   "outputs": [
    {
     "data": {
      "text/plain": [
       "array([[1., 0., 0., 0., 0.],\n",
       "       [0., 1., 0., 0., 0.],\n",
       "       [0., 0., 1., 0., 0.],\n",
       "       [0., 0., 0., 1., 0.],\n",
       "       [0., 0., 0., 0., 1.]])"
      ]
     },
     "execution_count": 22,
     "metadata": {},
     "output_type": "execute_result"
    }
   ],
   "source": [
    "# Generar una matriz identidad de dimensión 5x5\n",
    "np.eye(5,5)"
   ]
  },
  {
   "cell_type": "markdown",
   "id": "93e333e6",
   "metadata": {},
   "source": [
    "Podemos definir un array **sin elementos** si necesitamos un array **vacío**."
   ]
  },
  {
   "cell_type": "code",
   "execution_count": 23,
   "id": "7fa36596",
   "metadata": {},
   "outputs": [
    {
     "data": {
      "text/plain": [
       "array([], dtype=float64)"
      ]
     },
     "execution_count": 23,
     "metadata": {},
     "output_type": "execute_result"
    }
   ],
   "source": [
    "# Un array sin ningún elemento (vacío)\n",
    "np.array([])"
   ]
  },
  {
   "cell_type": "markdown",
   "id": "b7ad0906",
   "metadata": {},
   "source": [
    "Cuando no está definido el valor asociado a un elemento, podemos usar valores **\"NaN\"** mediante `np.nan`:"
   ]
  },
  {
   "cell_type": "code",
   "execution_count": 24,
   "id": "aa9afd51",
   "metadata": {},
   "outputs": [
    {
     "data": {
      "text/plain": [
       "array([14., 15., nan, 16., 17., nan])"
      ]
     },
     "execution_count": 24,
     "metadata": {},
     "output_type": "execute_result"
    }
   ],
   "source": [
    "# Un array con valores perdidos (NaN)\n",
    "np.array([14, 15, np.nan, 16, 17, np.nan])"
   ]
  },
  {
   "cell_type": "markdown",
   "id": "4e1a1f46",
   "metadata": {},
   "source": [
    "## Funciones y métodos para arrays \n",
    "A la hora de realizar operaciones como la **suma**, calcular el **mínimo**, el **máximo** etc. *Python* dispone de sus propias **funciones nativas**. Sin embargo debido a que *numpy* corre bajo código compilado es **mucho más eficiente**."
   ]
  },
  {
   "cell_type": "code",
   "execution_count": 25,
   "id": "f78084e5",
   "metadata": {},
   "outputs": [
    {
     "name": "stdout",
     "output_type": "stream",
     "text": [
      "[ 0  1  2  3  4  5  6  7  8  9 10]\n",
      "valor mínimo= 0\n",
      "valor máximo= 10\n",
      "promedio= 5.0\n",
      "desviación estándar 3.1622776601683795\n",
      "suma total= 55\n"
     ]
    }
   ],
   "source": [
    "x = np.arange(0,11)   \n",
    "print(x)\n",
    "# operaciones usando numpy\n",
    "print(\"valor mínimo=\", x.min())\n",
    "print(\"valor máximo=\", x.max())\n",
    "print(\"promedio=\", x.mean())\n",
    "print(\"desviación estándar\",x.std())\n",
    "print(\"suma total=\",x.sum())"
   ]
  },
  {
   "cell_type": "markdown",
   "id": "cd717bed",
   "metadata": {},
   "source": [
    "Podemos seguir aplicando sin problema sobre los arrays de numpy algunas de las funciones nativas de python, aunque no sea muy eficiente:"
   ]
  },
  {
   "cell_type": "code",
   "execution_count": 26,
   "id": "52b538aa",
   "metadata": {},
   "outputs": [
    {
     "data": {
      "text/plain": [
       "55"
      ]
     },
     "execution_count": 26,
     "metadata": {},
     "output_type": "execute_result"
    }
   ],
   "source": [
    "sum(x) #Funcion\n",
    "x.sum() #Método"
   ]
  },
  {
   "cell_type": "markdown",
   "id": "21754cb6",
   "metadata": {},
   "source": [
    "#### Eficiencia de Numpy respecto a funciones nativas de Python"
   ]
  },
  {
   "cell_type": "markdown",
   "id": "9bfb856c",
   "metadata": {},
   "source": [
    "Aunque los resultados obtenidos sean iguales podemos observar que hay una **gran diferencia** respecto a la **eficiencia** y tiempos de ejecución."
   ]
  },
  {
   "cell_type": "code",
   "execution_count": 27,
   "id": "e3a62fcb",
   "metadata": {},
   "outputs": [
    {
     "name": "stdout",
     "output_type": "stream",
     "text": [
      "[59 24  8 ... 10 29 33]\n",
      "Número de elementos = 10000000\n",
      "Suma_Python= 499995166\n",
      "Suma_Numpy= 499995166\n"
     ]
    }
   ],
   "source": [
    "# Creamos un array (grande con 10 millones de elementos)\n",
    "array_grande = np.random.randint(1, 100, size=10000000)\n",
    "\n",
    "print(array_grande)\n",
    "print(\"Número de elementos =\",array_grande.size)\n",
    "\n",
    "#Calcular la suma de dos firmas diferentes\n",
    "print(\"Suma_Python=\",sum(array_grande))\n",
    "print(\"Suma_Numpy=\", np.sum(array_grande))"
   ]
  },
  {
   "cell_type": "code",
   "execution_count": 28,
   "id": "6b2d4182",
   "metadata": {},
   "outputs": [
    {
     "name": "stdout",
     "output_type": "stream",
     "text": [
      "321 ms ± 10.7 ms per loop (mean ± std. dev. of 7 runs, 1 loop each)\n",
      "1.32 ms ± 9.99 µs per loop (mean ± std. dev. of 7 runs, 1,000 loops each)\n"
     ]
    }
   ],
   "source": [
    "# Medimos los tiempos de ejecución (usando \"Magic commands\" que no son parte del lenguaje Python)\n",
    "\n",
    "%timeit sum(array_grande)  # la suma en Python\n",
    "\n",
    "%timeit np.sum(array_grande) # la suma en Numpy"
   ]
  },
  {
   "cell_type": "code",
   "execution_count": 29,
   "id": "f483e61e",
   "metadata": {},
   "outputs": [
    {
     "data": {
      "text/plain": [
       "228.35820895522386"
      ]
     },
     "execution_count": 29,
     "metadata": {},
     "output_type": "execute_result"
    }
   ],
   "source": [
    "306/1.34"
   ]
  },
  {
   "cell_type": "markdown",
   "id": "8b5804bd",
   "metadata": {},
   "source": [
    "En *numpy* existen varias operaciones que se aplican sobre los arrays utilizando las funciones y los métodos propios: "
   ]
  },
  {
   "cell_type": "code",
   "execution_count": 30,
   "id": "239fe961",
   "metadata": {},
   "outputs": [
    {
     "name": "stdout",
     "output_type": "stream",
     "text": [
      "mi array:  [ 55  66   0  77 -10  20]\n",
      "El índice del valor más alto : 3\n",
      "El índice del valor más bajo:  4\n",
      "Los índices de los elementos distintos a 0:  (array([0, 1, 3, 4, 5]),)\n"
     ]
    }
   ],
   "source": [
    "mi_array = np.array([55,66,0,77,-10,20])\n",
    "print(\"mi array: \", mi_array)\n",
    "print(\"El índice del valor más alto :\", mi_array.argmax())\n",
    "print(\"El índice del valor más bajo: \", mi_array.argmin())\n",
    "print(\"Los índices de los elementos distintos a 0: \", mi_array.nonzero())"
   ]
  },
  {
   "cell_type": "markdown",
   "id": "5f95d375",
   "metadata": {},
   "source": [
    "**Más funciones de numpy para los arrays**\n",
    "\n",
    "| Función | Descripción |\n",
    "|:---------|:-----|\n",
    "| *sum(arr)* | Suma de todos los elementos de *arr* |\n",
    "| *mean(arr)* | Media aritmética de los elementos de *arr* |\n",
    "| *std(arr)* | Desviación estándar de los elementos de *arr* |\n",
    "| *cumsum(arr)* | Devuelve array con la suma acumulada de cada elementos con todos los anteriores |\n",
    "| *cumprod(arr)* | Devuelve array con el producto acumulado de cada elementos con todos los anteriores |\n",
    "| *min(arr), max(arr)* | Mínimo y máximo de *arr* |\n",
    "| *any(arr)* | En array de tipo *bool*, retorna *True* si algún elemento es *True* |\n",
    "| *all(arr)* | En array de tipo *bool*, retorna *True* si todos los elementos son *True* (o >0 en valores numéricos) |\n",
    "| *unique(arr)* | Devuelve un array con valores únicos |\n",
    "| *in1d(arr1, arr2)* | Devuelve un array con bool indicando si cada elemento de *arr1* está en *arr2* (unidimensional)|\n",
    "| *isin(arr1, arr2)* | Devuelve un array con bool indicando si cada elemento de *arr1* está en *arr2* (multidimensional)|\n",
    "| *union1d(arr1, arr2)* | Devuelve la unión de ambos arrays |\n",
    "| *intersect1d(arr1, arr2)* | Devuelve la intersección de ambos arrays |\n",
    "| *setdiff1d(arr1,arr2)* | Elimina de arr1 los elementos comunes de los dos arrays|"
   ]
  },
  {
   "cell_type": "code",
   "execution_count": 31,
   "id": "95cee16a",
   "metadata": {},
   "outputs": [
    {
     "name": "stdout",
     "output_type": "stream",
     "text": [
      "[ 55  66   0  77 -10  20]\n"
     ]
    },
    {
     "data": {
      "text/plain": [
       "array([ 55, 121, 121, 198, 188, 208])"
      ]
     },
     "execution_count": 31,
     "metadata": {},
     "output_type": "execute_result"
    }
   ],
   "source": [
    "# La suma acumulativa\n",
    "print(mi_array)\n",
    "mi_array.cumsum()"
   ]
  },
  {
   "cell_type": "code",
   "execution_count": 32,
   "id": "0a0906b5",
   "metadata": {},
   "outputs": [
    {
     "name": "stdout",
     "output_type": "stream",
     "text": [
      "[ 55  66   0  77 -10  20]\n"
     ]
    },
    {
     "data": {
      "text/plain": [
       "array([20])"
      ]
     },
     "execution_count": 32,
     "metadata": {},
     "output_type": "execute_result"
    }
   ],
   "source": [
    "# Sacar los elementos en común (la intersección)\n",
    "print(mi_array)\n",
    "np.intersect1d(mi_array, np.array([10, 20, 30, 40]))"
   ]
  },
  {
   "cell_type": "markdown",
   "id": "b8e93deb",
   "metadata": {},
   "source": [
    "Los arrays de numpy también tienen una serie de **atributos** que se pueden consultar fácilmente:\n",
    "\n",
    "* `ndim`: nos permite saber la dimensión de nuestra array\n",
    "\n",
    "* `shape`: nos permite conocer el tamaño de nuestra array\n",
    "\n",
    "* `size`: nos permite conocer el número de elementos de nuestra array (la longitud)\n",
    "\n",
    "* `dtype`: nos permite conocer el tipo de dato de cada uno de los elementos de nuestra array\n",
    "\n",
    "* `itemsize`: nos permite conocor el tamaño de cada uno de los elementos de nuestra array (en bytes)\n",
    "\n",
    "* `nbytes`: nos permite conocer el tamaño total de nuestra array"
   ]
  },
  {
   "cell_type": "code",
   "execution_count": 33,
   "id": "bebc1184",
   "metadata": {},
   "outputs": [
    {
     "name": "stdout",
     "output_type": "stream",
     "text": [
      "[10 11 12 13 14 15 16 17 18 19 20]\n",
      "[[4 4 4 7]\n",
      " [1 1 7 2]\n",
      " [7 8 8 6]\n",
      " [3 4 6 0]]\n",
      "Número de elementos del array x =  11\n",
      "Número de elementos del array y =  16\n",
      "Tamaño del array x =  (11,)\n",
      "Tamaño del array y =  (4, 4)\n",
      "Dimensiones del array x =  1\n",
      "Dimensiones del array y =  2\n",
      "Tipo de datos de x =  int64\n",
      "Tipo de datos de y =  int64\n",
      "Número de bytes totales consumidos por los elementos del array =  88\n",
      "Número de bytes totales consumidos por los elementos del array =  128\n"
     ]
    }
   ],
   "source": [
    "# consultando atributos en numpy\n",
    "x = np.arange(10,21)\n",
    "y =np.random.randint(0,10,(4,4))\n",
    "print(x)\n",
    "print(y)\n",
    "print(\"Número de elementos del array x = \", x.size)\n",
    "print(\"Número de elementos del array y = \", y.size)\n",
    "print(\"Tamaño del array x = \", x.shape)\n",
    "print(\"Tamaño del array y = \", y.shape)\n",
    "print(\"Dimensiones del array x = \",x.ndim)\n",
    "print(\"Dimensiones del array y = \",y.ndim)\n",
    "print(\"Tipo de datos de x = \", x.dtype)\n",
    "print(\"Tipo de datos de y = \", y.dtype)\n",
    "print(\"Número de bytes totales consumidos por los elementos del array = \", x.nbytes)\n",
    "print(\"Número de bytes totales consumidos por los elementos del array = \", y.nbytes)\n"
   ]
  },
  {
   "cell_type": "markdown",
   "id": "cc6daf0b",
   "metadata": {},
   "source": [
    "### **`Ejercicio 3.1`**\n",
    "\n",
    "**`3.1.1`** Crea un array de tamaño (6x6) con elementos aleatorios entre 0 y 10 inclusive.  \n",
    "**`3.1.2`** Calcula el total de bytes que ocupa la matriz.  \n",
    "**`3.1.3`** Calcula la media y la desviación estándar de los valores presentes en la matriz.  \n",
    "**`3.1.4`** Crea un nuevo vector, convirtiendo todos los valores del array creado en el primer paso en números decimales."
   ]
  },
  {
   "cell_type": "code",
   "execution_count": 34,
   "id": "46d8586d",
   "metadata": {},
   "outputs": [
    {
     "data": {
      "text/plain": [
       "array([[10,  2,  4,  3,  0,  9],\n",
       "       [ 4,  2,  3,  8,  2, 10],\n",
       "       [ 7,  2,  7,  3,  1,  3],\n",
       "       [ 9,  1,  7,  9,  7, 10],\n",
       "       [ 7, 10,  8,  8, 10,  7],\n",
       "       [ 8,  2,  7,  4,  5,  4]])"
      ]
     },
     "execution_count": 34,
     "metadata": {},
     "output_type": "execute_result"
    }
   ],
   "source": [
    "## Solución\n",
    "# Ejercicio 3.1.1\n",
    "array_6x6 = np.random.randint(0,11,(6,6))\n",
    "array_6x6"
   ]
  },
  {
   "cell_type": "code",
   "execution_count": 35,
   "id": "917fef14",
   "metadata": {},
   "outputs": [
    {
     "name": "stdout",
     "output_type": "stream",
     "text": [
      "Número de bytes de la matriz son:  288\n"
     ]
    }
   ],
   "source": [
    "## Solución\n",
    "# Ejercicio 3.1.2\n",
    "print(\"Número de bytes de la matriz son: \",array_6x6.nbytes)"
   ]
  },
  {
   "cell_type": "code",
   "execution_count": 36,
   "id": "a9b8a6c2",
   "metadata": {},
   "outputs": [
    {
     "name": "stdout",
     "output_type": "stream",
     "text": [
      "La media es:  5.638888888888889\n",
      "La desviacion estandar de los valores es:  3.0925787313949735\n"
     ]
    }
   ],
   "source": [
    "## Solución\n",
    "# Ejercicio 3.1.3\n",
    "print(\"La media es: \", array_6x6.mean())\n",
    "print(\"La desviacion estandar de los valores es: \", array_6x6.std())"
   ]
  },
  {
   "cell_type": "code",
   "execution_count": 37,
   "id": "b536fcef",
   "metadata": {},
   "outputs": [
    {
     "data": {
      "text/plain": [
       "array([[10.,  2.,  4.,  3.,  0.,  9.],\n",
       "       [ 4.,  2.,  3.,  8.,  2., 10.],\n",
       "       [ 7.,  2.,  7.,  3.,  1.,  3.],\n",
       "       [ 9.,  1.,  7.,  9.,  7., 10.],\n",
       "       [ 7., 10.,  8.,  8., 10.,  7.],\n",
       "       [ 8.,  2.,  7.,  4.,  5.,  4.]])"
      ]
     },
     "execution_count": 37,
     "metadata": {},
     "output_type": "execute_result"
    }
   ],
   "source": [
    "## Solución\n",
    "# Ejercicio 3.1.4\n",
    "# Crea un nuevo vector, convirtiendo todos los valores del array creado en el primer paso en números decimales.\n",
    "\n",
    "np.array(array_6x6, dtype = 'float')"
   ]
  },
  {
   "cell_type": "markdown",
   "id": "c95b13e3",
   "metadata": {},
   "source": [
    "## Indexado de Arrayas"
   ]
  },
  {
   "cell_type": "markdown",
   "id": "5515e17e",
   "metadata": {},
   "source": [
    "Al igual que en las listas, podemos acceder al elemento **i** de un array 1-dimensional, haciendo uso de los corchetes y el índice en el que se encuentra el valor al cual deseamos acceder."
   ]
  },
  {
   "cell_type": "code",
   "execution_count": 38,
   "id": "6ba7a8f7",
   "metadata": {},
   "outputs": [
    {
     "name": "stdout",
     "output_type": "stream",
     "text": [
      "[3 5 8 2 9 0 2 6 8 3]\n",
      "[[8 7 3]\n",
      " [3 9 8]\n",
      " [2 6 0]]\n"
     ]
    }
   ],
   "source": [
    "# Genero 2 arrays aleatorios de números enteros: npx1 será de una dimensión, npx2 tendrá dos dimensiones (3x3)\n",
    "npx1=np.random.randint(0,10,10) \n",
    "npx2=np.random.randint(0,10,(3,3))\n",
    "\n",
    "print(npx1)\n",
    "print(npx2)"
   ]
  },
  {
   "cell_type": "code",
   "execution_count": 39,
   "id": "7eaeb4c0",
   "metadata": {},
   "outputs": [
    {
     "data": {
      "text/plain": [
       "3"
      ]
     },
     "execution_count": 39,
     "metadata": {},
     "output_type": "execute_result"
    }
   ],
   "source": [
    "# Accedemos al primer elemento de npx1\n",
    "npx1[0]"
   ]
  },
  {
   "cell_type": "markdown",
   "id": "5dbee3e9",
   "metadata": {},
   "source": [
    "En caso de arrays **multidimensionales**, le pasamos entre corchetes **las coordenadas del elemento** al cual deseamos acceder. Cuando se trata de arrays **bidimensionales**, serían por lo tanto **la fila y la columna** correspondiente al valor que queremos acceder."
   ]
  },
  {
   "cell_type": "code",
   "execution_count": 40,
   "id": "b84a37a1",
   "metadata": {},
   "outputs": [
    {
     "name": "stdout",
     "output_type": "stream",
     "text": [
      "8\n"
     ]
    }
   ],
   "source": [
    "# Accedemos al elemento de la segunda fila y la tercera columna de npx2\n",
    "print(npx2[1,2])"
   ]
  },
  {
   "cell_type": "code",
   "execution_count": 41,
   "id": "9a7c7dda",
   "metadata": {},
   "outputs": [
    {
     "data": {
      "text/plain": [
       "0"
      ]
     },
     "execution_count": 41,
     "metadata": {},
     "output_type": "execute_result"
    }
   ],
   "source": [
    "# Accedemos al elemento que se encuentra en la última fila y en la última columna, usando el indexado negativo.\n",
    "npx2[-1,-1]"
   ]
  },
  {
   "cell_type": "markdown",
   "id": "c3c50917",
   "metadata": {},
   "source": [
    "A la hora de **modificar valores** en un array basta (al igual que las listas) con seleccionar el elemento que deseamos cambiar y asignarle el nuevo valor deseado."
   ]
  },
  {
   "cell_type": "code",
   "execution_count": 42,
   "id": "ef9d8eff",
   "metadata": {},
   "outputs": [
    {
     "name": "stdout",
     "output_type": "stream",
     "text": [
      "[[8 7 3]\n",
      " [3 9 8]\n",
      " [2 6 0]]\n",
      "[[100   7   3]\n",
      " [  3   9   8]\n",
      " [  2   6   0]]\n"
     ]
    }
   ],
   "source": [
    "# Seleccionamos el elemento de la primera fila y de la primera columna de npx2 y le asignamos un nuevo valor.\n",
    "print(npx2)\n",
    "npx2[0,0]=100\n",
    "print(npx2)"
   ]
  },
  {
   "cell_type": "markdown",
   "id": "d21e8085",
   "metadata": {},
   "source": [
    "* También *Numpy* permite el indexado mediante rebanadas (**slices**), para ello podemos hacer uso de la notación de los dos puntos (**inicio:fin:paso**). \n",
    "* El valor de *fin* no está incluido entre los elementos seleccionados."
   ]
  },
  {
   "cell_type": "code",
   "execution_count": 43,
   "id": "c5b28c34",
   "metadata": {},
   "outputs": [
    {
     "data": {
      "text/plain": [
       "array([1, 2, 3, 4, 5, 6, 7, 8, 9])"
      ]
     },
     "execution_count": 43,
     "metadata": {},
     "output_type": "execute_result"
    }
   ],
   "source": [
    "# Generamos un array con valores del 1 al 10 (no inclusive)\n",
    "aux=np.arange(1,10)\n",
    "aux"
   ]
  },
  {
   "cell_type": "code",
   "execution_count": 44,
   "id": "9b34dedb",
   "metadata": {},
   "outputs": [
    {
     "data": {
      "text/plain": [
       "array([3, 4, 5])"
      ]
     },
     "execution_count": 44,
     "metadata": {},
     "output_type": "execute_result"
    }
   ],
   "source": [
    "# Accedemos a los elementos que se encuentran entre la posición 2 y 5:\n",
    "aux[2:5]"
   ]
  },
  {
   "cell_type": "code",
   "execution_count": 45,
   "id": "d03ebce2",
   "metadata": {},
   "outputs": [
    {
     "data": {
      "text/plain": [
       "array([7, 8, 9])"
      ]
     },
     "execution_count": 45,
     "metadata": {},
     "output_type": "execute_result"
    }
   ],
   "source": [
    "# Seleccionamos los elementos desde la posición 6 hasta el final\n",
    "aux[6:]"
   ]
  },
  {
   "cell_type": "code",
   "execution_count": 46,
   "id": "7c982811",
   "metadata": {},
   "outputs": [
    {
     "data": {
      "text/plain": [
       "array([1, 5, 9])"
      ]
     },
     "execution_count": 46,
     "metadata": {},
     "output_type": "execute_result"
    }
   ],
   "source": [
    "# Seleccionamos cada cuatro elementos \n",
    "aux[::4]"
   ]
  },
  {
   "cell_type": "markdown",
   "id": "e91d826c",
   "metadata": {},
   "source": [
    "Lo visto anteriormente también es válido para arrays multidimensionales."
   ]
  },
  {
   "cell_type": "code",
   "execution_count": 47,
   "id": "1e9ffa02",
   "metadata": {},
   "outputs": [
    {
     "name": "stdout",
     "output_type": "stream",
     "text": [
      "[[100   7   3]\n",
      " [  3   9   8]\n",
      " [  2   6   0]]\n",
      "[[100   7]\n",
      " [  3   9]]\n"
     ]
    }
   ],
   "source": [
    "# Seleccionamos las dos primeras filas y las dos primeras columnas de npx2\n",
    "print(npx2)\n",
    "print(npx2[:2,:2])"
   ]
  },
  {
   "cell_type": "markdown",
   "id": "16bf4ebd",
   "metadata": {},
   "source": [
    "##  Redimensionando arrays (_reshape_)\n",
    "Podemos cambiar la dimensión de nuestro array mediante **`reshape()`**. Para que éste comando funcione de forma adecuada, la nueva dimensión debe coincidir con el número de elementos de nuestra array original. Si el argumento de reshape toma el valor de -1, se traduce en un array de longitud igual al número de elementos del array."
   ]
  },
  {
   "cell_type": "code",
   "execution_count": 48,
   "id": "27ecc975",
   "metadata": {},
   "outputs": [
    {
     "name": "stdout",
     "output_type": "stream",
     "text": [
      "[1 2 3 4 5 6 7 8 9]\n",
      "(9,)\n",
      "1\n"
     ]
    }
   ],
   "source": [
    "# Nos creamos un array unidimensional con los numeros del 1 al 10 (éste último sin incluir)\n",
    "vector1=np.arange(1,10)\n",
    "print(vector1)\n",
    "print(vector1.shape)\n",
    "print(vector1.ndim) "
   ]
  },
  {
   "cell_type": "code",
   "execution_count": 49,
   "id": "a5394f7d",
   "metadata": {},
   "outputs": [
    {
     "name": "stdout",
     "output_type": "stream",
     "text": [
      "[[1 2 3 4 5 6 7 8 9]]\n",
      "(1, 9)\n",
      "<class 'numpy.ndarray'>\n",
      "2\n"
     ]
    }
   ],
   "source": [
    "# Convertimos esta array en un array bidimensional (1x9), ahora tendrá dos dimensiones\n",
    "vector2 = vector1.reshape(1,9)\n",
    "print(vector2)\n",
    "print(vector2.shape)\n",
    "print(type(vector2))\n",
    "print(vector2.ndim)"
   ]
  },
  {
   "cell_type": "code",
   "execution_count": 50,
   "id": "72d705d3",
   "metadata": {},
   "outputs": [
    {
     "name": "stdout",
     "output_type": "stream",
     "text": [
      "2\n",
      "2\n"
     ]
    }
   ],
   "source": [
    "# Acceder al segundo elemento de cada array\n",
    "print(vector1[1])\n",
    "print(vector2[0,1])"
   ]
  },
  {
   "cell_type": "code",
   "execution_count": 51,
   "id": "3a5cd708",
   "metadata": {},
   "outputs": [
    {
     "ename": "ValueError",
     "evalue": "cannot reshape array of size 9 into shape (3,5)",
     "output_type": "error",
     "traceback": [
      "\u001b[0;31m---------------------------------------------------------------------------\u001b[0m",
      "\u001b[0;31mValueError\u001b[0m                                Traceback (most recent call last)",
      "\u001b[1;32m/Users/pablo/BD/analisis_datos_python_Elias/sesion_3/Sesion3-Bloque1-Tratamiento-Datos-Arrays-Matrices-BigData+.ipynb Celda 92\u001b[0m line \u001b[0;36m2\n\u001b[1;32m      <a href='vscode-notebook-cell:/Users/pablo/BD/analisis_datos_python_Elias/sesion_3/Sesion3-Bloque1-Tratamiento-Datos-Arrays-Matrices-BigData%2B.ipynb#Y160sZmlsZQ%3D%3D?line=0'>1</a>\u001b[0m \u001b[39m# Intentamos convertir este array en un array de 3x5\u001b[39;00m\n\u001b[0;32m----> <a href='vscode-notebook-cell:/Users/pablo/BD/analisis_datos_python_Elias/sesion_3/Sesion3-Bloque1-Tratamiento-Datos-Arrays-Matrices-BigData%2B.ipynb#Y160sZmlsZQ%3D%3D?line=1'>2</a>\u001b[0m vector3 \u001b[39m=\u001b[39m vector1\u001b[39m.\u001b[39;49mreshape((\u001b[39m3\u001b[39;49m,\u001b[39m5\u001b[39;49m))\n",
      "\u001b[0;31mValueError\u001b[0m: cannot reshape array of size 9 into shape (3,5)"
     ]
    }
   ],
   "source": [
    "# Intentamos convertir este array en un array de 3x5\n",
    "vector3 = vector1.reshape((3,5))"
   ]
  },
  {
   "cell_type": "code",
   "execution_count": null,
   "id": "3f06843b",
   "metadata": {},
   "outputs": [
    {
     "name": "stdout",
     "output_type": "stream",
     "text": [
      "vector1 =  [1 2 3 4 5 6 7 8 9]\n",
      "vector3 = [[1 2 3]\n",
      " [4 5 6]\n",
      " [7 8 9]]\n",
      "Dimensiones del vector1 =  1\n",
      "Dimensiones del vector3 =  2\n",
      "Número de elementos del vector1 =  9\n",
      "Número de elementos del vector3 =  9\n",
      "Tamaño del vector1 =  (9,)\n",
      "Tamaño del vector3 =  (3, 3)\n"
     ]
    }
   ],
   "source": [
    "# Convertimos este array en un array 3x3\n",
    "vector3 = vector1.reshape((3,3))\n",
    "\n",
    "print(\"vector1 = \",vector1)\n",
    "print(\"vector3 =\", vector3)\n",
    "print(\"Dimensiones del vector1 = \",vector1.ndim)\n",
    "print(\"Dimensiones del vector3 = \",vector3.ndim)\n",
    "print(\"Número de elementos del vector1 = \", vector1.size)\n",
    "print(\"Número de elementos del vector3 = \", vector3.size)\n",
    "print(\"Tamaño del vector1 = \", vector1.shape)\n",
    "print(\"Tamaño del vector3 = \", vector3.shape)\n",
    "\n"
   ]
  },
  {
   "cell_type": "markdown",
   "id": "0d2866f8",
   "metadata": {},
   "source": [
    "## Concatenando arrays"
   ]
  },
  {
   "cell_type": "markdown",
   "id": "b2cbd4b2",
   "metadata": {},
   "source": [
    "La concatenación o la unión de múltiples arrays en *Numpy*, se lleva a cabo principalmente haciendo uso de: **np.concatenate**"
   ]
  },
  {
   "cell_type": "markdown",
   "id": "e532ed25",
   "metadata": {},
   "source": [
    "* La función **`np.concatenate`** toma una tupla o lista de arrays y las concatena."
   ]
  },
  {
   "cell_type": "code",
   "execution_count": null,
   "id": "5ddf9800",
   "metadata": {},
   "outputs": [
    {
     "data": {
      "text/plain": [
       "array([1, 2, 3, 4, 5, 5, 4, 3, 2, 1])"
      ]
     },
     "execution_count": 56,
     "metadata": {},
     "output_type": "execute_result"
    }
   ],
   "source": [
    "array1 = np.array([1,2,3,4,5])\n",
    "array2 = np.array([5,4,3,2,1])\n",
    "\n",
    "# Concatenar los arrays 1 y 2 (usando una tupla)\n",
    "np.concatenate((array1,array2))"
   ]
  },
  {
   "cell_type": "code",
   "execution_count": null,
   "id": "bac51dec",
   "metadata": {},
   "outputs": [
    {
     "data": {
      "text/plain": [
       "array([[1, 2, 3],\n",
       "       [4, 5, 6]])"
      ]
     },
     "execution_count": 57,
     "metadata": {},
     "output_type": "execute_result"
    }
   ],
   "source": [
    "# Generamos un numpy array de dimensión 2x3 \n",
    "nuevo_array = np.array([1,2,3,4,5,6]).reshape(2,3)\n",
    "nuevo_array"
   ]
  },
  {
   "cell_type": "code",
   "execution_count": null,
   "id": "c06c80b3",
   "metadata": {},
   "outputs": [
    {
     "data": {
      "text/plain": [
       "array([[1, 2, 3],\n",
       "       [4, 5, 6],\n",
       "       [1, 2, 3],\n",
       "       [4, 5, 6]])"
      ]
     },
     "execution_count": 58,
     "metadata": {},
     "output_type": "execute_result"
    }
   ],
   "source": [
    "# Concatenar dicho array consigo mismo\n",
    "np.concatenate((nuevo_array,nuevo_array))"
   ]
  },
  {
   "cell_type": "markdown",
   "id": "3b9bd589",
   "metadata": {},
   "source": [
    "Podemos ver que si no se especifica el parámetro _axis_, esta función asume que deseamos concatenar los arrays verticalmente. También podemos concatenar a lo largo del **eje horizontal**, para ello basta con hacer uso del parámetro **axis = 1** en la función."
   ]
  },
  {
   "cell_type": "code",
   "execution_count": null,
   "id": "2c842ce5",
   "metadata": {},
   "outputs": [
    {
     "data": {
      "text/plain": [
       "array([[1, 2, 3, 1, 2, 3],\n",
       "       [4, 5, 6, 4, 5, 6]])"
      ]
     },
     "execution_count": 59,
     "metadata": {},
     "output_type": "execute_result"
    }
   ],
   "source": [
    "# Concatenar el nuevo array consigo mismo haciendo uso de axis = 1.\n",
    "np.concatenate((nuevo_array,nuevo_array), axis=1)"
   ]
  },
  {
   "cell_type": "markdown",
   "id": "94ff9488",
   "metadata": {},
   "source": [
    "No se puede concatenar con este comando los arrays de diferentes tamaños o dimensiones."
   ]
  },
  {
   "cell_type": "code",
   "execution_count": null,
   "id": "91a904f7",
   "metadata": {},
   "outputs": [],
   "source": []
  },
  {
   "cell_type": "code",
   "execution_count": null,
   "id": "8947b0d0",
   "metadata": {},
   "outputs": [
    {
     "name": "stdout",
     "output_type": "stream",
     "text": [
      "[1 2 3]\n",
      "[[9 8 7]\n",
      " [6 5 4]]\n"
     ]
    },
    {
     "ename": "ValueError",
     "evalue": "all the input arrays must have same number of dimensions, but the array at index 0 has 1 dimension(s) and the array at index 1 has 2 dimension(s)",
     "output_type": "error",
     "traceback": [
      "\u001b[0;31m---------------------------------------------------------------------------\u001b[0m",
      "\u001b[0;31mValueError\u001b[0m                                Traceback (most recent call last)",
      "\u001b[1;32m/Users/pablo/BD/analisis_datos_python_Elias/sesion_3/Sesion3-Bloque1-Tratamiento-Datos-Arrays-Matrices-BigData+.ipynb Celda 103\u001b[0m line \u001b[0;36m7\n\u001b[1;32m      <a href='vscode-notebook-cell:/Users/pablo/BD/analisis_datos_python_Elias/sesion_3/Sesion3-Bloque1-Tratamiento-Datos-Arrays-Matrices-BigData%2B.ipynb#Y204sZmlsZQ%3D%3D?line=3'>4</a>\u001b[0m \u001b[39mprint\u001b[39m(x)\n\u001b[1;32m      <a href='vscode-notebook-cell:/Users/pablo/BD/analisis_datos_python_Elias/sesion_3/Sesion3-Bloque1-Tratamiento-Datos-Arrays-Matrices-BigData%2B.ipynb#Y204sZmlsZQ%3D%3D?line=4'>5</a>\u001b[0m \u001b[39mprint\u001b[39m(y)\n\u001b[0;32m----> <a href='vscode-notebook-cell:/Users/pablo/BD/analisis_datos_python_Elias/sesion_3/Sesion3-Bloque1-Tratamiento-Datos-Arrays-Matrices-BigData%2B.ipynb#Y204sZmlsZQ%3D%3D?line=6'>7</a>\u001b[0m np\u001b[39m.\u001b[39;49mconcatenate((x,y))\n",
      "\u001b[0;31mValueError\u001b[0m: all the input arrays must have same number of dimensions, but the array at index 0 has 1 dimension(s) and the array at index 1 has 2 dimension(s)"
     ]
    }
   ],
   "source": [
    "# Creamos dos nuevos vectores de tamaños diferentes\n",
    "x = np.array([1,2,3])\n",
    "y = np.array([9,8,7,6,5,4]).reshape(2,3)\n",
    "print(x)\n",
    "print(y)\n",
    "\n",
    "np.concatenate((x,y))"
   ]
  },
  {
   "cell_type": "markdown",
   "id": "b07233a1",
   "metadata": {},
   "source": [
    "A la hora de trabajar con arrays de dimensiones mixtas, puede ser una mejor opción hacer uso de las funciones **np.vstack** (vertical stack) y **np.hstack** (horizontal stack). Como parámetro se le pasa una tupla que contenga los arrays a concatenar."
   ]
  },
  {
   "cell_type": "code",
   "execution_count": null,
   "id": "fb9a1703",
   "metadata": {},
   "outputs": [
    {
     "data": {
      "text/plain": [
       "array([[1, 2, 3],\n",
       "       [9, 8, 7],\n",
       "       [6, 5, 4]])"
      ]
     },
     "execution_count": 61,
     "metadata": {},
     "output_type": "execute_result"
    }
   ],
   "source": [
    "# Concatenar haciendo uso de np.vstack\n",
    "np.vstack((x,y))"
   ]
  },
  {
   "cell_type": "code",
   "execution_count": null,
   "id": "70036fb4",
   "metadata": {},
   "outputs": [
    {
     "name": "stdout",
     "output_type": "stream",
     "text": [
      "[[1]\n",
      " [2]\n",
      " [3]]\n",
      "[[9 8]\n",
      " [7 6]\n",
      " [5 4]]\n"
     ]
    }
   ],
   "source": [
    "# Modificamos las dimensiones de cada array para poder hacer uso de np.hstack\n",
    "x_nuevo = x.reshape(3,1)\n",
    "y_nuevo = y.reshape(3,2)\n",
    "\n",
    "print(x_nuevo)\n",
    "print(y_nuevo)"
   ]
  },
  {
   "cell_type": "code",
   "execution_count": null,
   "id": "5f1b4edb",
   "metadata": {},
   "outputs": [
    {
     "data": {
      "text/plain": [
       "array([[1, 9, 8],\n",
       "       [2, 7, 6],\n",
       "       [3, 5, 4]])"
      ]
     },
     "execution_count": 63,
     "metadata": {},
     "output_type": "execute_result"
    }
   ],
   "source": [
    "# Concatenar haciendo uso de np.hstack\n",
    "np.hstack((x_nuevo, y_nuevo))"
   ]
  },
  {
   "cell_type": "markdown",
   "id": "116b7c18",
   "metadata": {},
   "source": [
    "## Separando arrays"
   ]
  },
  {
   "cell_type": "markdown",
   "id": "aba15964",
   "metadata": {},
   "source": [
    "La separación de arrays está implementada mediante las funciones, **np.split()**, **np.array_split()**, **np.vsplit()** y **np.hsplit()**. A cada una de estas funciones le pasamos el array y los índices en los cuales queremos realizar el _split_."
   ]
  },
  {
   "cell_type": "code",
   "execution_count": null,
   "id": "5a402b91",
   "metadata": {},
   "outputs": [
    {
     "name": "stdout",
     "output_type": "stream",
     "text": [
      "[1 2 3 4 5 6 7 8 9]\n",
      "[1 2]\n",
      "[3 4 5 6]\n",
      "[7 8 9]\n"
     ]
    }
   ],
   "source": [
    "# Generamos un array con numeros enteros entre 0 y 10\n",
    "x = np.arange(1,10)\n",
    "\n",
    "# Separamos el array en tres arrays diferentes separados en los índices 2 y 6\n",
    "i, j, k = np.split(x, (2, 6))\n",
    "\n",
    "# Imprimimos los arrays\n",
    "print(x)\n",
    "print(i)\n",
    "print(j)\n",
    "print(k)"
   ]
  },
  {
   "cell_type": "code",
   "execution_count": null,
   "id": "414f57a5",
   "metadata": {},
   "outputs": [
    {
     "name": "stdout",
     "output_type": "stream",
     "text": [
      "[1 2 3 4 5 6 7 8 9]\n"
     ]
    },
    {
     "data": {
      "text/plain": [
       "[array([1, 2, 3]), array([4, 5, 6]), array([7, 8, 9])]"
      ]
     },
     "execution_count": 65,
     "metadata": {},
     "output_type": "execute_result"
    }
   ],
   "source": [
    "# Podemos separar el array en trozos de igual tamaño usando el comando np.split() sin indicar los índices\n",
    "print(x)\n",
    "np.split(x,3)"
   ]
  },
  {
   "cell_type": "code",
   "execution_count": null,
   "id": "e80be616",
   "metadata": {},
   "outputs": [
    {
     "name": "stdout",
     "output_type": "stream",
     "text": [
      "[1 2 3 4 5 6 7 8 9]\n"
     ]
    },
    {
     "ename": "ValueError",
     "evalue": "array split does not result in an equal division",
     "output_type": "error",
     "traceback": [
      "\u001b[0;31m---------------------------------------------------------------------------\u001b[0m",
      "\u001b[0;31mValueError\u001b[0m                                Traceback (most recent call last)",
      "\u001b[1;32m/Users/pablo/BD/analisis_datos_python_Elias/sesion_3/Sesion3-Bloque1-Tratamiento-Datos-Arrays-Matrices-BigData+.ipynb Celda 112\u001b[0m line \u001b[0;36m3\n\u001b[1;32m      <a href='vscode-notebook-cell:/Users/pablo/BD/analisis_datos_python_Elias/sesion_3/Sesion3-Bloque1-Tratamiento-Datos-Arrays-Matrices-BigData%2B.ipynb#Y216sZmlsZQ%3D%3D?line=0'>1</a>\u001b[0m \u001b[39m# Hay una limitación para np.split() ==> \"equal division\"\u001b[39;00m\n\u001b[1;32m      <a href='vscode-notebook-cell:/Users/pablo/BD/analisis_datos_python_Elias/sesion_3/Sesion3-Bloque1-Tratamiento-Datos-Arrays-Matrices-BigData%2B.ipynb#Y216sZmlsZQ%3D%3D?line=1'>2</a>\u001b[0m \u001b[39mprint\u001b[39m(x)\n\u001b[0;32m----> <a href='vscode-notebook-cell:/Users/pablo/BD/analisis_datos_python_Elias/sesion_3/Sesion3-Bloque1-Tratamiento-Datos-Arrays-Matrices-BigData%2B.ipynb#Y216sZmlsZQ%3D%3D?line=2'>3</a>\u001b[0m np\u001b[39m.\u001b[39;49msplit(x,\u001b[39m2\u001b[39;49m)\n",
      "File \u001b[0;32m/Library/Frameworks/Python.framework/Versions/3.11/lib/python3.11/site-packages/numpy/lib/shape_base.py:864\u001b[0m, in \u001b[0;36msplit\u001b[0;34m(ary, indices_or_sections, axis)\u001b[0m\n\u001b[1;32m    862\u001b[0m     N \u001b[39m=\u001b[39m ary\u001b[39m.\u001b[39mshape[axis]\n\u001b[1;32m    863\u001b[0m     \u001b[39mif\u001b[39;00m N \u001b[39m%\u001b[39m sections:\n\u001b[0;32m--> 864\u001b[0m         \u001b[39mraise\u001b[39;00m \u001b[39mValueError\u001b[39;00m(\n\u001b[1;32m    865\u001b[0m             \u001b[39m'\u001b[39m\u001b[39marray split does not result in an equal division\u001b[39m\u001b[39m'\u001b[39m) \u001b[39mfrom\u001b[39;00m \u001b[39mNone\u001b[39;00m\n\u001b[1;32m    866\u001b[0m \u001b[39mreturn\u001b[39;00m array_split(ary, indices_or_sections, axis)\n",
      "\u001b[0;31mValueError\u001b[0m: array split does not result in an equal division"
     ]
    }
   ],
   "source": [
    "# Hay una limitación para np.split() ==> \"equal division\"\n",
    "print(x)\n",
    "np.split(x,2)"
   ]
  },
  {
   "cell_type": "code",
   "execution_count": null,
   "id": "acaec7ee",
   "metadata": {},
   "outputs": [
    {
     "name": "stdout",
     "output_type": "stream",
     "text": [
      "[1 2 3 4 5 6 7 8 9]\n"
     ]
    },
    {
     "data": {
      "text/plain": [
       "[array([1, 2, 3, 4, 5]), array([6, 7, 8, 9])]"
      ]
     },
     "execution_count": 67,
     "metadata": {},
     "output_type": "execute_result"
    }
   ],
   "source": [
    "# Se utiliza la función np.array_split() cuando no se puede dividir el array en partes exactamente iguales\n",
    "print(x)\n",
    "np.array_split(x,2) "
   ]
  },
  {
   "cell_type": "code",
   "execution_count": null,
   "id": "16c6007c",
   "metadata": {},
   "outputs": [
    {
     "name": "stdout",
     "output_type": "stream",
     "text": [
      "[[ 0  1  2  3]\n",
      " [ 4  5  6  7]\n",
      " [ 8  9 10 11]\n",
      " [12 13 14 15]]\n"
     ]
    },
    {
     "data": {
      "text/plain": [
       "[array([[0, 1, 2, 3],\n",
       "        [4, 5, 6, 7]]),\n",
       " array([[ 8,  9, 10, 11],\n",
       "        [12, 13, 14, 15]])]"
      ]
     },
     "execution_count": 68,
     "metadata": {},
     "output_type": "execute_result"
    }
   ],
   "source": [
    "# Creamos un array 4x4\n",
    "vector4 = np.arange(16).reshape((4,4))\n",
    "\n",
    "# Hacemos uso de np.vsplit\n",
    "print(vector4)\n",
    "np.vsplit(vector4, 2)"
   ]
  },
  {
   "cell_type": "code",
   "execution_count": null,
   "id": "1421be1f",
   "metadata": {},
   "outputs": [
    {
     "name": "stdout",
     "output_type": "stream",
     "text": [
      "[[ 0  1  2  3]\n",
      " [ 4  5  6  7]\n",
      " [ 8  9 10 11]\n",
      " [12 13 14 15]]\n"
     ]
    },
    {
     "data": {
      "text/plain": [
       "[array([[ 0,  1],\n",
       "        [ 4,  5],\n",
       "        [ 8,  9],\n",
       "        [12, 13]]),\n",
       " array([[ 2,  3],\n",
       "        [ 6,  7],\n",
       "        [10, 11],\n",
       "        [14, 15]])]"
      ]
     },
     "execution_count": 69,
     "metadata": {},
     "output_type": "execute_result"
    }
   ],
   "source": [
    "# Hacemos uso de np.vsplit\n",
    "print(vector4)\n",
    "np.hsplit(vector4, 2)"
   ]
  },
  {
   "cell_type": "markdown",
   "id": "8b69b5ad",
   "metadata": {},
   "source": [
    "### **`Ejercicio 3.2`**\n",
    "\n",
    "**`3.2.1`** Crea un array de tamaño (5x5) con todos los elementos iguales a 11, salvo el primero y el último que deben de ser iguales a 88.  \n",
    "**`3.2.2`** Crea un array seleccionando todos los elementos excepto los de la primera fila y los de la primera columna.   \n",
    "**`3.2.3`** Crea un nuevo array redimensionando y reordenando los elementos del array obtenido en el paso anterior para que el nuevo sea de tamaño (2x8).  \n",
    "**`3.2.4`** Crea otro nuevo array con 8 elementos equidistantes entre 0 y 10.  \n",
    "**`3.2.5`** Concatena el nuevo array creado en el paso enterior con el array redimensionado de tamaño (2x8) y convierte posteriormente los valores del nuevo vector concatenado en números enteros.  \n",
    "**`3.2.6`** Separa el vector resultante en dos partes iguales. "
   ]
  },
  {
   "cell_type": "code",
   "execution_count": 55,
   "id": "903f2747",
   "metadata": {},
   "outputs": [
    {
     "data": {
      "text/plain": [
       "array([[88, 11, 11, 11, 11],\n",
       "       [11, 11, 11, 11, 11],\n",
       "       [11, 11, 11, 11, 11],\n",
       "       [11, 11, 11, 11, 11],\n",
       "       [11, 11, 11, 11, 88]])"
      ]
     },
     "execution_count": 55,
     "metadata": {},
     "output_type": "execute_result"
    }
   ],
   "source": [
    "## Solución\n",
    "# Ejercicio 3.2.1\n",
    "array_5x5 = np.full((5,5), 11)\n",
    "array_5x5[0,0] = 88\n",
    "array_5x5[4,4] = 88\n",
    "array_5x5"
   ]
  },
  {
   "cell_type": "code",
   "execution_count": 57,
   "id": "899df112",
   "metadata": {},
   "outputs": [
    {
     "data": {
      "text/plain": [
       "array([[11, 11, 11, 11],\n",
       "       [11, 11, 11, 11],\n",
       "       [11, 11, 11, 11],\n",
       "       [11, 11, 11, 88]])"
      ]
     },
     "execution_count": 57,
     "metadata": {},
     "output_type": "execute_result"
    }
   ],
   "source": [
    "## Solución\n",
    "# Ejercicio 3.2.2\n",
    "array_seleccionado = array_5x5[1:,1:]\n",
    "array_seleccionado\n"
   ]
  },
  {
   "cell_type": "code",
   "execution_count": 58,
   "id": "183a31bf",
   "metadata": {},
   "outputs": [
    {
     "data": {
      "text/plain": [
       "array([[11, 11, 11, 11, 11, 11, 11, 11],\n",
       "       [11, 11, 11, 11, 11, 11, 11, 88]])"
      ]
     },
     "execution_count": 58,
     "metadata": {},
     "output_type": "execute_result"
    }
   ],
   "source": [
    "## Solución\n",
    "# Ejercicio 3.2.3\n",
    "# Crea un nuevo array redimensionando y reordenando los elementos del array obtenido en el paso anterior para que el nuevo sea de tamaño (2x8). \n",
    "array_redimensionado = array_seleccionado.reshape(2,8)\n",
    "array_redimensionado\n"
   ]
  },
  {
   "cell_type": "code",
   "execution_count": 59,
   "id": "9fb9f491",
   "metadata": {},
   "outputs": [
    {
     "data": {
      "text/plain": [
       "array([ 0.        ,  1.42857143,  2.85714286,  4.28571429,  5.71428571,\n",
       "        7.14285714,  8.57142857, 10.        ])"
      ]
     },
     "execution_count": 59,
     "metadata": {},
     "output_type": "execute_result"
    }
   ],
   "source": [
    "## Solución\n",
    "# Ejercicio 3.2.4\n",
    "# Crea otro nuevo array con 8 elementos equidistantes entre 0 y 10.\n",
    "nuevo_array = np.linspace(0,10,8)\n",
    "nuevo_array\n"
   ]
  },
  {
   "cell_type": "code",
   "execution_count": 60,
   "id": "9fa6aa41",
   "metadata": {},
   "outputs": [
    {
     "data": {
      "text/plain": [
       "array([[ 0,  1,  2,  4,  5,  7,  8, 10],\n",
       "       [11, 11, 11, 11, 11, 11, 11, 11],\n",
       "       [11, 11, 11, 11, 11, 11, 11, 88]])"
      ]
     },
     "execution_count": 60,
     "metadata": {},
     "output_type": "execute_result"
    }
   ],
   "source": [
    "## Solución\n",
    "# Ejercicio 3.2.5\n",
    "# Concatena el nuevo array creado en el paso enterior con el array redimensionado de tamaño (2x8) y convierte posteriormente los valores del nuevo vector concatenado en números enteros. \n",
    "array_concatenada = np.vstack((nuevo_array,array_redimensionado))\n",
    "\n",
    "int_array = array_concatenada.astype(int)\n",
    "int_array\n"
   ]
  },
  {
   "cell_type": "code",
   "execution_count": 61,
   "id": "b00d0596",
   "metadata": {},
   "outputs": [
    {
     "name": "stdout",
     "output_type": "stream",
     "text": [
      "[[ 0  1  2  4  5  7  8 10]\n",
      " [11 11 11 11 11 11 11 11]\n",
      " [11 11 11 11 11 11 11 88]]\n"
     ]
    },
    {
     "data": {
      "text/plain": [
       "[array([[ 0,  1,  2,  4,  5,  7,  8, 10],\n",
       "        [11, 11, 11, 11, 11, 11, 11, 11]]),\n",
       " array([[11, 11, 11, 11, 11, 11, 11, 88]])]"
      ]
     },
     "execution_count": 61,
     "metadata": {},
     "output_type": "execute_result"
    }
   ],
   "source": [
    "## Solución\n",
    "# Ejercicio 3.2.6\n",
    "# Separa el vector resultante en dos partes iguales.\n",
    "print(int_array)\n",
    "np.array_split(int_array, 2)"
   ]
  },
  {
   "cell_type": "markdown",
   "id": "3c10a01c",
   "metadata": {},
   "source": [
    "---"
   ]
  },
  {
   "cell_type": "markdown",
   "id": "cc8ddbd8",
   "metadata": {},
   "source": [
    "## Máscaras y filtrado de elementos"
   ]
  },
  {
   "cell_type": "markdown",
   "id": "1a0815d5",
   "metadata": {},
   "source": [
    "Podemos filtrar los arrays según las condiciones deseadas y definidas como máscaras o filtros aplicando directamente entre **corchetes**."
   ]
  },
  {
   "cell_type": "code",
   "execution_count": null,
   "id": "496e844c",
   "metadata": {},
   "outputs": [
    {
     "name": "stdout",
     "output_type": "stream",
     "text": [
      "[-3 -2 -1  0  1  2  3]\n"
     ]
    },
    {
     "data": {
      "text/plain": [
       "array([0, 1, 2, 3])"
      ]
     },
     "execution_count": 76,
     "metadata": {},
     "output_type": "execute_result"
    }
   ],
   "source": [
    "# Creamos un array con valores enteros negativos y positivos y lo filtramos para sacar los valores igual y mayor que cero (>=0)\n",
    "mi_vector = np.arange(-3,4)\n",
    "\n",
    "print(mi_vector)\n",
    "mi_vector[mi_vector>=0]"
   ]
  },
  {
   "cell_type": "code",
   "execution_count": null,
   "id": "cffb5036",
   "metadata": {},
   "outputs": [
    {
     "data": {
      "text/plain": [
       "array([0, 1, 2, 3])"
      ]
     },
     "execution_count": 77,
     "metadata": {},
     "output_type": "execute_result"
    }
   ],
   "source": [
    "# Esta vez definimos el filtro y se lo aplicamos a nuestro vector\n",
    "mascara_1 = (mi_vector >= 0)\n",
    "mi_vector[mascara_1]"
   ]
  },
  {
   "cell_type": "markdown",
   "id": "b29e6a6e",
   "metadata": {},
   "source": [
    "Las máscaras o mejor dicho los **filtros** realmente son **vectores de índice booleano**. Si el valor en un índice es _True_, ese elemento se conserva en la matriz filtrada, y si el valor en ese índice es _False_, ese elemento se excluye de la matriz filtrada."
   ]
  },
  {
   "cell_type": "code",
   "execution_count": null,
   "id": "dbd839f7",
   "metadata": {},
   "outputs": [
    {
     "name": "stdout",
     "output_type": "stream",
     "text": [
      "[False False False  True  True  True  True]\n"
     ]
    },
    {
     "data": {
      "text/plain": [
       "numpy.ndarray"
      ]
     },
     "execution_count": 78,
     "metadata": {},
     "output_type": "execute_result"
    }
   ],
   "source": [
    "print(mascara_1)\n",
    "type(mascara_1)"
   ]
  },
  {
   "cell_type": "code",
   "execution_count": null,
   "id": "b9a94609",
   "metadata": {},
   "outputs": [
    {
     "name": "stdout",
     "output_type": "stream",
     "text": [
      "[-3 -2 -1  0  1  2  3]\n"
     ]
    },
    {
     "data": {
      "text/plain": [
       "array([-3, -2, -1,  0,  1,  2])"
      ]
     },
     "execution_count": 79,
     "metadata": {},
     "output_type": "execute_result"
    }
   ],
   "source": [
    "mascara_2 = [True, True, True, True, True, True, False]\n",
    "print(mi_vector)\n",
    "mi_vector[mascara_2]"
   ]
  },
  {
   "cell_type": "markdown",
   "id": "7f22cf5d",
   "metadata": {},
   "source": [
    "Si nos interesa sacar los índices de aquellos elementos de un array que cumplen una condición, utilizamos la función **np.where(condición)** "
   ]
  },
  {
   "cell_type": "code",
   "execution_count": null,
   "id": "c18c0c94",
   "metadata": {},
   "outputs": [
    {
     "name": "stdout",
     "output_type": "stream",
     "text": [
      "[-3 -2 -1  0  1  2  3]\n"
     ]
    },
    {
     "data": {
      "text/plain": [
       "(array([3]),)"
      ]
     },
     "execution_count": 80,
     "metadata": {},
     "output_type": "execute_result"
    }
   ],
   "source": [
    "print(mi_vector)\n",
    "np.where(mi_vector==0)"
   ]
  },
  {
   "cell_type": "markdown",
   "id": "b40900a7",
   "metadata": {},
   "source": [
    "Se peuede utilizar esta misma función para aplicar la condición de filtrado y tratar los valores del array en función del cumplimiento de la condición: **np.where(condición, valor_si_se_cumple, valor_si_no_se_cumple)**  "
   ]
  },
  {
   "cell_type": "code",
   "execution_count": null,
   "id": "f99f6701",
   "metadata": {},
   "outputs": [
    {
     "name": "stdout",
     "output_type": "stream",
     "text": [
      "[-3 -2 -1  0  1  2  3]\n"
     ]
    },
    {
     "data": {
      "text/plain": [
       "array([  1,   1,   1, 100,   1,   1,   1])"
      ]
     },
     "execution_count": 81,
     "metadata": {},
     "output_type": "execute_result"
    }
   ],
   "source": [
    "print(mi_vector)\n",
    "np.where(mi_vector==0, 100, 1)"
   ]
  },
  {
   "cell_type": "code",
   "execution_count": null,
   "id": "7b199341",
   "metadata": {},
   "outputs": [
    {
     "name": "stdout",
     "output_type": "stream",
     "text": [
      "[-3 -2 -1  0  1  2  3]\n"
     ]
    }
   ],
   "source": [
    "# El array original no se modifica en ningúnon de estos casos, aunque siempre no es así!!\n",
    "print(mi_vector)"
   ]
  },
  {
   "cell_type": "markdown",
   "id": "8f63ab4d",
   "metadata": {},
   "source": [
    "## Copias vs. vistas de arrays "
   ]
  },
  {
   "cell_type": "markdown",
   "id": "f2ea0f02",
   "metadata": {},
   "source": [
    "Cuando seleccionamos un _subarray_ dentro de un array, simplemente estamos generando una nueva vista que sigue apuntando a nuestro array original sin crear una copia."
   ]
  },
  {
   "cell_type": "code",
   "execution_count": null,
   "id": "f3d6f37d",
   "metadata": {},
   "outputs": [
    {
     "data": {
      "text/plain": [
       "array([[7, 7, 7],\n",
       "       [7, 7, 7],\n",
       "       [7, 7, 7]])"
      ]
     },
     "execution_count": 83,
     "metadata": {},
     "output_type": "execute_result"
    }
   ],
   "source": [
    "# Muestra el array original x2\n",
    "arr_original = np.full((3,3), 7)\n",
    "arr_original"
   ]
  },
  {
   "cell_type": "code",
   "execution_count": null,
   "id": "e227b646",
   "metadata": {},
   "outputs": [
    {
     "data": {
      "text/plain": [
       "array([[7, 7],\n",
       "       [7, 7]])"
      ]
     },
     "execution_count": 84,
     "metadata": {},
     "output_type": "execute_result"
    }
   ],
   "source": [
    "# Asignamos una nueva variable llamada arr_original_sub que contenga las dos primeras filas y las dos primeras columnas\n",
    "arr_original_sub = arr_original[:2,:2]\n",
    "arr_original_sub"
   ]
  },
  {
   "cell_type": "code",
   "execution_count": null,
   "id": "59f97cff",
   "metadata": {},
   "outputs": [
    {
     "data": {
      "text/plain": [
       "array([[0, 7],\n",
       "       [7, 7]])"
      ]
     },
     "execution_count": 85,
     "metadata": {},
     "output_type": "execute_result"
    }
   ],
   "source": [
    "# Cambiamos el valor de su primer elemento\n",
    "arr_original_sub[0,0] = 0\n",
    "arr_original_sub"
   ]
  },
  {
   "cell_type": "code",
   "execution_count": null,
   "id": "51d06217",
   "metadata": {},
   "outputs": [
    {
     "data": {
      "text/plain": [
       "array([[0, 7, 7],\n",
       "       [7, 7, 7],\n",
       "       [7, 7, 7]])"
      ]
     },
     "execution_count": 86,
     "metadata": {},
     "output_type": "execute_result"
    }
   ],
   "source": [
    "# Volvemos nuevamente a consultar el array original\n",
    "arr_original"
   ]
  },
  {
   "cell_type": "markdown",
   "id": "8e017655",
   "metadata": {},
   "source": [
    "Para mantener **de forma intacta** nuestro array original podemos usar el método **`copy()`** que nos crea una copia **en vez de generar una vista** como antes."
   ]
  },
  {
   "cell_type": "code",
   "execution_count": null,
   "id": "f74c2495",
   "metadata": {},
   "outputs": [
    {
     "name": "stdout",
     "output_type": "stream",
     "text": [
      "[[7 7 7]\n",
      " [7 7 7]\n",
      " [7 7 7]]\n",
      "[[7 7 7]\n",
      " [7 7 7]\n",
      " [7 7 7]]\n"
     ]
    }
   ],
   "source": [
    "# Creamos una nueva variable llamada arr_copia que sea una copia del original\n",
    "arr_original = np.full((3,3), 7)\n",
    "arr_copia = arr_original.copy()\n",
    "print(arr_original)\n",
    "print(arr_copia)"
   ]
  },
  {
   "cell_type": "code",
   "execution_count": null,
   "id": "94c60799",
   "metadata": {},
   "outputs": [],
   "source": [
    "# Modificamos en arr_copia el valor del primer elemento\n",
    "arr_copia[0,0] = 80"
   ]
  },
  {
   "cell_type": "code",
   "execution_count": null,
   "id": "f715a4d7",
   "metadata": {},
   "outputs": [
    {
     "data": {
      "text/plain": [
       "array([[80,  7,  7],\n",
       "       [ 7,  7,  7],\n",
       "       [ 7,  7,  7]])"
      ]
     },
     "execution_count": 92,
     "metadata": {},
     "output_type": "execute_result"
    }
   ],
   "source": [
    "# Consultamos el array copiado \n",
    "arr_copia"
   ]
  },
  {
   "cell_type": "code",
   "execution_count": null,
   "id": "fe5e34a3",
   "metadata": {},
   "outputs": [
    {
     "data": {
      "text/plain": [
       "array([[7, 7, 7],\n",
       "       [7, 7, 7],\n",
       "       [7, 7, 7]])"
      ]
     },
     "execution_count": 93,
     "metadata": {},
     "output_type": "execute_result"
    }
   ],
   "source": [
    "# De nuevo mostramos el array original\n",
    "arr_original"
   ]
  },
  {
   "cell_type": "markdown",
   "id": "be69063e",
   "metadata": {},
   "source": [
    "Debemos de tener en cuenta la diferencia entre la vista y la copia también a la hora de asignar nuevas variables a partir del array original"
   ]
  },
  {
   "cell_type": "code",
   "execution_count": null,
   "id": "086ff7b9",
   "metadata": {},
   "outputs": [
    {
     "name": "stdout",
     "output_type": "stream",
     "text": [
      "[ 1  2  4  8 16 32]\n",
      "[ 1  2  4  8 16 32]\n"
     ]
    }
   ],
   "source": [
    "# Creamos un nuevo array y generamos una copia de ese vector \n",
    "a = np.array([1,2,4,8,16,32])\n",
    "a_copia = a.copy()\n",
    "\n",
    "print(a)\n",
    "print(a_copia)"
   ]
  },
  {
   "cell_type": "code",
   "execution_count": null,
   "id": "3c88de38",
   "metadata": {},
   "outputs": [
    {
     "name": "stdout",
     "output_type": "stream",
     "text": [
      "[ 1  2  4  8 16 32]\n",
      "[ 1  2  4  8 16 32]\n"
     ]
    }
   ],
   "source": [
    "# Asignamos una ueva variable que sea igual que el array original\n",
    "b = a\n",
    "\n",
    "print(a)\n",
    "print(b)"
   ]
  },
  {
   "cell_type": "code",
   "execution_count": null,
   "id": "b946989b",
   "metadata": {},
   "outputs": [],
   "source": [
    "# Modificamos el segundo elemento usando el indexado de arrays\n",
    "b[1] = 64"
   ]
  },
  {
   "cell_type": "code",
   "execution_count": null,
   "id": "d943097e",
   "metadata": {},
   "outputs": [
    {
     "name": "stdout",
     "output_type": "stream",
     "text": [
      "El array original =  [ 1 64  4  8 16 32]\n",
      "El array cambiado =  [ 1 64  4  8 16 32]\n",
      "El array copiado =   [ 1  2  4  8 16 32]\n"
     ]
    }
   ],
   "source": [
    "# Imprimimos los valores de cada vector\n",
    "print(\"El array original = \", a)\n",
    "print(\"El array cambiado = \", b)\n",
    "print(\"El array copiado =  \", a_copia)"
   ]
  },
  {
   "attachments": {
    "fig-06.jpeg": {
     "image/jpeg": "[encoded data removed]"
    }
   },
   "cell_type": "markdown",
   "id": "9aab4ad9",
   "metadata": {},
   "source": [
    "![fig-06.jpeg](attachment:fig-06.jpeg)"
   ]
  },
  {
   "cell_type": "code",
   "execution_count": null,
   "id": "13e1ecaf",
   "metadata": {},
   "outputs": [
    {
     "name": "stdout",
     "output_type": "stream",
     "text": [
      "[  1  64   4   8  16 100]\n",
      "[  1  64   4   8  16 100]\n"
     ]
    }
   ],
   "source": [
    "# lo mismo pasa cuando se cambia el array original\n",
    "a[-1] = 100\n",
    "print(a)\n",
    "print(b)"
   ]
  },
  {
   "cell_type": "markdown",
   "id": "28229323",
   "metadata": {},
   "source": [
    "En caso de arrays nativos de Python (las listas), no pasa esto a la hora de modificar un trozo, pero sí que pasa lo mismo en caso de asignar una nueva variable que apunta al array original. "
   ]
  },
  {
   "cell_type": "code",
   "execution_count": null,
   "id": "dc111194",
   "metadata": {},
   "outputs": [
    {
     "name": "stdout",
     "output_type": "stream",
     "text": [
      "La sub-lista modificada: [88, 20, 30]\n",
      "La lista original: [10, 20, 30, 40]\n"
     ]
    }
   ],
   "source": [
    "aa = [10, 20, 30, 40]\n",
    "bb = aa[:3]\n",
    "\n",
    "bb[0] = 88\n",
    "\n",
    "print(\"La sub-lista modificada:\", bb)\n",
    "print(\"La lista original:\", aa)"
   ]
  },
  {
   "cell_type": "code",
   "execution_count": null,
   "id": "cbd2d499",
   "metadata": {},
   "outputs": [
    {
     "name": "stdout",
     "output_type": "stream",
     "text": [
      "La lista modificada: [999, 7, 7]\n",
      "La lista original: [999, 7, 7]\n"
     ]
    }
   ],
   "source": [
    "cc = [7,7,7]\n",
    "dd = cc\n",
    "\n",
    "dd[0] = 999\n",
    "\n",
    "print(\"La lista modificada:\", dd)\n",
    "print(\"La lista original:\", cc)"
   ]
  },
  {
   "cell_type": "markdown",
   "id": "47b81385",
   "metadata": {},
   "source": [
    "Considerando este comportamiento, siempre se recomienda **trabajar con las copias** que se realizan sobre los arrays originales."
   ]
  },
  {
   "cell_type": "markdown",
   "id": "077943da",
   "metadata": {},
   "source": [
    "### **`Ejercicio 3.3`**\n",
    "\n",
    "**`3.3.1`** Crea un array de tamaño (3x4) de todos los números enteros entre 0 y 100 que sean múltiplos de 9.  \n",
    "**`3.3.2`** Filtra todos los valores del vector creado en el paso anterior de la siguiente manera:  \n",
    "- Si son valores mayores que cero y múltiplos de 5 se conservan sin cambios  \n",
    "- En el caso contratio se sustituyen con el valor -1  "
   ]
  },
  {
   "cell_type": "code",
   "execution_count": 82,
   "id": "ac58ad91",
   "metadata": {},
   "outputs": [
    {
     "data": {
      "text/plain": [
       "array([[ 0,  9, 18, 27],\n",
       "       [36, 45, 54, 63],\n",
       "       [72, 81, 90, 99]])"
      ]
     },
     "execution_count": 82,
     "metadata": {},
     "output_type": "execute_result"
    }
   ],
   "source": [
    "## Solución\n",
    "# Ejercicio 3.3.1\n",
    "array_9 = np.arange(0,101,9).reshape(3,4)\n",
    "array_9"
   ]
  },
  {
   "cell_type": "code",
   "execution_count": 81,
   "id": "72ec64f8",
   "metadata": {},
   "outputs": [
    {
     "data": {
      "text/plain": [
       "array([[-1, -1, -1, -1],\n",
       "       [-1, 45, -1, -1],\n",
       "       [-1, -1, 90, -1]])"
      ]
     },
     "execution_count": 81,
     "metadata": {},
     "output_type": "execute_result"
    }
   ],
   "source": [
    "## Solución\n",
    "# Ejercicio 3.3.2\n",
    "np.where((array_9>0) & (array_9%5==0), array_9, -1)"
   ]
  },
  {
   "cell_type": "code",
   "execution_count": null,
   "id": "f56fdbba",
   "metadata": {},
   "outputs": [],
   "source": []
  }
 ],
 "metadata": {
  "kernelspec": {
   "display_name": "Python 3 (ipykernel)",
   "language": "python",
   "name": "python3"
  },
  "language_info": {
   "codemirror_mode": {
    "name": "ipython",
    "version": 3
   },
   "file_extension": ".py",
   "mimetype": "text/x-python",
   "name": "python",
   "nbconvert_exporter": "python",
   "pygments_lexer": "ipython3",
   "version": "3.11.5"
  },
  "vscode": {
   "interpreter": {
    "hash": "ad2bdc8ecc057115af97d19610ffacc2b4e99fae6737bb82f5d7fb13d2f2c186"
   }
  }
 },
 "nbformat": 4,
 "nbformat_minor": 5
}
